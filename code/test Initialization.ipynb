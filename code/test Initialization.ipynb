{
 "cells": [
  {
   "cell_type": "code",
   "execution_count": 140,
   "metadata": {},
   "outputs": [
    {
     "name": "stdout",
     "output_type": "stream",
     "text": [
      "torch.Size([2, 1, 20, 174])\n"
     ]
    },
    {
     "data": {
      "text/plain": [
       "<matplotlib.image.AxesImage at 0x25f4d65f828>"
      ]
     },
     "execution_count": 140,
     "metadata": {},
     "output_type": "execute_result"
    },
    {
     "data": {
      "image/png": "[encoded data removed]",
      "text/plain": [
       "<Figure size 864x504 with 1 Axes>"
      ]
     },
     "metadata": {
      "needs_background": "light"
     },
     "output_type": "display_data"
    }
   ],
   "source": [
    "from __future__ import print_function\n",
    "import math\n",
    "import matplotlib.cm as cm\n",
    "from matplotlib import pyplot as plt\n",
    "\n",
    "# ADD: for the nice progress bar\n",
    "from ipywidgets import FloatProgress\n",
    "from IPython.display import display\n",
    "\n",
    "import numpy as np\n",
    "from PIL import Image\n",
    "from PIL import ImageDraw\n",
    "from PIL import ImageFont\n",
    "from random import randint\n",
    "\n",
    "\n",
    "import numpy as np\n",
    "import torch\n",
    "import torch.nn.functional as F\n",
    "from torch.autograd import Variable\n",
    "import pyro\n",
    "from pyro.optim import Adam\n",
    "from pyro.infer import SVI\n",
    "import pyro.distributions as pdist\n",
    "import torch.distributions as tdist\n",
    "import torch.distributions.constraints as constraints\n",
    "import pyro.infer\n",
    "from pyro.infer import SVI, Trace_ELBO,  TraceGraph_ELBO\n",
    "import pyro.optim\n",
    "\n",
    "%matplotlib inline\n",
    "\n",
    "# torch.manual_seed(101)\n",
    "\n",
    "flag_ISM = 0\n",
    "overlap_flag = 0\n",
    "nw = 20  # number of words 25\n",
    "ntr = 25  # number of relative times in a motif 70\n",
    "nd = 2  # number of documents \n",
    "Td= 150 # number of time period\n",
    "nz = 3\n",
    "\n",
    "\n",
    "#-----------------------------------------------------------------\n",
    "plt.rc('figure', figsize=(12.0, 7.0))\n",
    "def get_size(txt, font):\n",
    "    test_img = Image.new('L', (1, 1))\n",
    "    test_draw = ImageDraw.Draw(test_img)\n",
    "    return test_draw.textsize(txt, font)\n",
    "\n",
    "def string_to_matrix(s, fontname, fontsize, nw, ntr):\n",
    "    # Define the Text Color and the Background\n",
    "    color_text = \"White\"\n",
    "    color_background = \"Black\"\n",
    "    # Define the image font and resize the nword in a rectangle that suit it\n",
    "    text = s\n",
    "    font = ImageFont.truetype(fontname, fontsize)\n",
    "    width, height = get_size(text, font)\n",
    "    img = Image.new('L', (ntr, nw), color_background)\n",
    "    d = ImageDraw.Draw(img)\n",
    "    d.text((3, height / 10), text, fill=color_text, font=font)\n",
    "    #d.rectangle((0, 0, width, height))\n",
    "    path = 'Image_' + text + '.png'\n",
    "    img.save(path)\n",
    "    im = Image.open(path).convert('L')\n",
    "    motif = np.asarray(im, np.float32)  # Motif Matrix\n",
    "    return motif\n",
    "\n",
    "# motifs_as_string = [\"eggplop\", \"eggnog\", \"eggplant\", \"banana\", \"apple\"]\n",
    "# motifs_as_string = [\"WYX\", \"Crab\",\"HJQ\"]\n",
    "motifs_as_string = [\"WYX\", \"Crab\",\"HJQ\"]\n",
    "# motifs_as_string = [\"WYX\"]\n",
    "\n",
    "nz0 = len(motifs_as_string)\n",
    "\n",
    "fontname = 'JennaSue.ttf'\n",
    "fontsize = 18\n",
    "\n",
    "motifs_as_matrix = [string_to_matrix(st, fontname, fontsize, nw, ntr) for st in motifs_as_string]\n",
    "\n",
    "# CHANGE: simplified using\n",
    "motifs = torch.stack([ torch.tensor(m[np.newaxis, :, :]) for m in motifs_as_matrix ], 0).cuda()\n",
    "\n",
    "# ADD: number of documents\n",
    "\n",
    "z = torch.zeros(nd,nz0,1,Td).cuda()\n",
    "\n",
    "# the following tries to generate the clean data(patterns are clear, no overlao)\n",
    "#clear version\n",
    "# if overlap_flag == 0:\n",
    "#     z[0,0,0,1]=1\n",
    "#     z[0,0,0,99]=1\n",
    "#     z[0,0,0,30]=1\n",
    "#     z[0,0,0,70]=1\n",
    "#     z[0,0,0,149]=1\n",
    "\n",
    "#     z[1,0,0,90]=1\n",
    "#     z[1,0,0,10]=1\n",
    "#     z[1,0,0,40]=1\n",
    "#     z[1,0,0,120]=1\n",
    "#     z[1,0,0,140]=1\n",
    "#     z[0,0,0,1]=1\n",
    "#     z[0,1,0,99]=1\n",
    "#     z[0,2,0,30]=1\n",
    "#     z[0,2,0,70]=1\n",
    "#     z[0,0,0,149]=1\n",
    "\n",
    "#     z[1,2,0,90]=1\n",
    "#     z[1,2,0,10]=1\n",
    "#     z[1,1,0,40]=1\n",
    "#     z[1,0,0,120]=1\n",
    "#     z[1,1,0,140]=1\n",
    "if overlap_flag == 0:\n",
    "    z[0,0,0,1]=1\n",
    "    z[0,1,0,99]=1\n",
    "    z[0,2,0,30]=1\n",
    "    z[0,2,0,70]=1\n",
    "    z[0,0,0,149]=1\n",
    "\n",
    "    z[1,2,0,90]=1\n",
    "    z[1,2,0,10]=1\n",
    "    z[1,1,0,40]=1\n",
    "    z[1,0,0,120]=1\n",
    "    z[1,1,0,140]=1\n",
    "elif overlap_flag == 1:\n",
    "    #overlap version\n",
    "    z[0,0,0,20]=1\n",
    "    z[0,2,0,99]=1\n",
    "    z[0,1,0,30]=1\n",
    "    z[0,2,0,70]=1\n",
    "    z[0,1,0,110]=1\n",
    "    z[0,0,0,149]=1\n",
    "\n",
    "    z[1,2,0,90]=1\n",
    "    z[1,2,0,10]=1\n",
    "    z[1,1,0,20]=1\n",
    "    z[1,0,0,120]=1\n",
    "    z[1,1,0,130]=1\n",
    "elif overlap_flag == 2:\n",
    "    #overlap version\n",
    "    z[0,0,0,20]=1\n",
    "    z[0,2,0,99]=1\n",
    "    z[0,1,0,25]=1\n",
    "    z[0,2,0,70]=1\n",
    "    z[0,1,0,60]=1\n",
    "    z[0,1,0,110]=1\n",
    "    z[0,2,0,130]=1\n",
    "    z[0,0,0,149]=1\n",
    "\n",
    "    z[1,2,0,90]=1\n",
    "    z[1,1,0,85]=1\n",
    "    z[1,2,0,10]=1\n",
    "    z[1,1,0,20]=1\n",
    "    z[1,0,0,50]=1\n",
    "    z[1,1,0,60]=1\n",
    "    z[1,0,0,120]=1\n",
    "    z[1,1,0,130]=1\n",
    "elif overlap_flag == 3:\n",
    "    #overlap version\n",
    "    z[0,0,0,10]=1\n",
    "    z[0,1,0,20]=1\n",
    "    z[0,2,0,45]=1\n",
    "    z[0,1,0,69]=1\n",
    "    z[0,0,0,80]=1\n",
    "    z[0,2,0,110]=1\n",
    "    z[0,1,0,140]=1\n",
    "    \n",
    "    z[1,2,0,10]=1\n",
    "    z[1,1,0,20]=1\n",
    "    z[1,0,0,50]=1\n",
    "    z[1,1,0,60]=1\n",
    "    z[1,2,0,90]=1\n",
    "    z[1,0,0,130]=1\n",
    "    z[1,1,0,110]=1\n",
    "\n",
    "# CHANGE: rename to avoid conflict with a defined variable later\n",
    "p_w_ta_d0 = F.conv_transpose2d(z,motifs).cuda()\n",
    "# CHANGE: use (-1) as a shape to let it infer the size\n",
    "print(p_w_ta_d0.shape)\n",
    "p_w_ta_d0 = p_w_ta_d0.view(-1)\n",
    "\n",
    "# CHANGE: don't sample but rather \"get the average\"\n",
    "data = 1 * p_w_ta_d0\n",
    "N = data.sum()\n",
    "\n",
    "plt.imshow(data.reshape(-1, Td+ntr-1).cpu())\n"
   ]
  },
  {
   "cell_type": "code",
   "execution_count": 2,
   "metadata": {},
   "outputs": [
    {
     "name": "stdout",
     "output_type": "stream",
     "text": [
      "[[3 4 7 8 8 1 7 2 2 1 4 6 1 9 9 4 6 6 5 3 3 1 2 9 8]\n",
      " [6 2 9 2 4 9 7 2 9 4 2 4 8 2 4 3 9 2 2 5 6 4 3 5 9]\n",
      " [4 5 1 7 2 8 9 4 9 9 9 6 2 8 2 4 6 1 2 5 3 8 5 7 4]\n",
      " [1 9 5 4 2 8 4 7 2 6 2 4 7 7 5 4 3 6 6 1 2 8 5 5 8]\n",
      " [8 3 7 4 5 6 3 6 1 7 8 4 8 8 9 3 7 9 3 3 3 6 6 4 5]\n",
      " [4 1 3 9 6 1 9 7 9 5 2 3 6 6 7 2 9 4 9 2 3 2 8 9 3]\n",
      " [2 5 2 1 5 3 1 2 4 8 7 6 8 6 2 6 3 5 8 7 2 3 3 7 8]\n",
      " [8 3 6 3 6 8 1 8 9 4 5 3 3 2 7 9 7 4 4 1 7 6 9 3 7]\n",
      " [9 2 2 5 6 5 7 4 5 1 9 6 6 9 6 4 1 6 1 6 3 6 8 9 3]\n",
      " [5 9 7 1 6 6 4 4 4 7 1 8 8 4 6 3 4 9 8 2 4 1 4 3 6]\n",
      " [2 5 9 1 1 1 1 2 8 4 8 7 7 3 8 5 1 6 8 3 4 8 2 7 9]\n",
      " [4 8 1 2 6 3 9 4 7 4 5 5 4 3 7 4 7 7 9 5 4 7 9 4 5]\n",
      " [8 4 6 8 3 5 9 7 3 1 1 2 4 4 6 9 5 4 7 6 2 3 7 4 6]\n",
      " [1 2 1 7 8 6 6 7 5 3 1 9 3 5 2 8 7 8 9 1 5 9 5 3 4]\n",
      " [5 6 3 7 2 8 2 2 1 3 2 7 4 9 4 2 1 8 3 6 6 4 9 2 2]\n",
      " [2 1 1 5 5 5 4 8 8 6 3 3 1 2 9 3 5 9 2 1 4 7 6 4 1]\n",
      " [5 6 5 9 8 4 3 4 4 7 2 1 8 2 8 1 3 3 2 2 5 1 7 3 6]\n",
      " [7 2 4 8 3 2 8 3 9 2 7 5 8 2 3 7 4 8 2 4 7 4 1 6 2]\n",
      " [2 6 1 2 1 5 2 8 9 5 1 6 6 6 7 9 1 3 8 1 4 9 8 4 2]\n",
      " [2 5 3 9 4 6 2 5 5 5 5 1 8 5 1 5 6 3 5 3 9 6 2 9 9]]\n"
     ]
    }
   ],
   "source": [
    "a=np.random.randint(1,30,size=[nz,1,nw,ntr])\n",
    "print(a[0,0,:,:])"
   ]
  },
  {
   "cell_type": "code",
   "execution_count": 180,
   "metadata": {},
   "outputs": [
    {
     "data": {
      "application/vnd.jupyter.widget-view+json": {
       "model_id": "a7af86ae6864464f87861152c67621ba",
       "version_major": 2,
       "version_minor": 0
      },
      "text/plain": [
       "FloatProgress(value=0.0, max=99.0)"
      ]
     },
     "metadata": {},
     "output_type": "display_data"
    },
    {
     "data": {
      "application/vnd.jupyter.widget-view+json": {
       "model_id": "21cf41fc0e3b490cace300dc11114b76",
       "version_major": 2,
       "version_minor": 0
      },
      "text/plain": [
       "FloatProgress(value=0.0, max=99.0)"
      ]
     },
     "metadata": {},
     "output_type": "display_data"
    },
    {
     "data": {
      "application/vnd.jupyter.widget-view+json": {
       "model_id": "763819c34f6f42089d90d8d307ef0bdd",
       "version_major": 2,
       "version_minor": 0
      },
      "text/plain": [
       "FloatProgress(value=0.0, max=99.0)"
      ]
     },
     "metadata": {},
     "output_type": "display_data"
    },
    {
     "data": {
      "application/vnd.jupyter.widget-view+json": {
       "model_id": "3fd3be5c55b043ca8806c90fa529bd95",
       "version_major": 2,
       "version_minor": 0
      },
      "text/plain": [
       "FloatProgress(value=0.0, max=99.0)"
      ]
     },
     "metadata": {},
     "output_type": "display_data"
    },
    {
     "data": {
      "application/vnd.jupyter.widget-view+json": {
       "model_id": "9d6338586615411c9b013484e3f41fc8",
       "version_major": 2,
       "version_minor": 0
      },
      "text/plain": [
       "FloatProgress(value=0.0, max=99.0)"
      ]
     },
     "metadata": {},
     "output_type": "display_data"
    }
   ],
   "source": [
    "fin_motif = []\n",
    "min_loss = 99999999999\n",
    "best_ite = -1\n",
    "all_loss = []\n",
    "all_motif = []\n",
    "\n",
    "for ite in range(5):\n",
    "    if ite == 0:\n",
    "        init_motif = np.ones((nz,1,nw,ntr))\n",
    "#         print(init_motif[0,0,:,:])\n",
    "    else:\n",
    "        init_motif = np.random.randint(1,30,size=[nz,1,nw,ntr])\n",
    "#         print(init_motif[0,0,:,:])\n",
    "    init_motif = torch.from_numpy(init_motif).cuda()\n",
    "    init_motif = init_motif.type_as(torch.ones(nd,nz,1,Td).cuda())\n",
    "    \n",
    "    tem_loss = []\n",
    "    def p_w_ta_d(z,motifs):\n",
    "        t = F.conv_transpose2d(z,motifs)\n",
    "        return t.view(-1)\n",
    "    # ADD: introduce some variables\n",
    "    prior0 = 0.1*N/nd / nz / Td\n",
    "    prior1 = 0.1*N/nz / nw / ntr\n",
    "    #randinit = 0\n",
    "\n",
    "    def model(data):\n",
    "        s0 = (nd, nz, 1, Td)\n",
    "        s1 = (nz, 1, nw, ntr)\n",
    "        alpha0 = torch.ones(*s0).cuda()\n",
    "        alpha1 = torch.ones(*s1).cuda()\n",
    "        z = pyro.sample(\"latent0\", pdist.Dirichlet(concentration=alpha0.view(nd, -1)))\n",
    "        motifs = pyro.sample(\"latent1\", pdist.Dirichlet(concentration=alpha1.view(nz, -1)))\n",
    "\n",
    "        z = z.reshape(*s0)\n",
    "        motifs = motifs.reshape(*s1)\n",
    "        p = p_w_ta_d(z, motifs)\n",
    "        with pyro.iarange(\"data\", len(data)):\n",
    "            zts = pyro.sample(\"zts\", pdist.Categorical(probs=z))\n",
    "            pyro.sample(\"observe\", pdist.Multinomial(probs=p), obs=data)\n",
    "\n",
    "    # Give the initialization\n",
    "\n",
    "    step_motif_count = 0\n",
    "    tem_motif = []\n",
    "\n",
    "    def guide(data):\n",
    "        qalpha0 = pyro.param(\"qalpha0\", torch.ones(nd,nz,1,Td).cuda(), constraint=constraints.positive) # z_ts table\n",
    "        global step_motif_count\n",
    "        if flag_ISM:\n",
    "            qalpha1 = pyro.param(\"qalpha1\", init_motif, constraint=constraints.positive) # motif\n",
    "            if step_motif_count%5 == 0:\n",
    "                tem_motif.append(qalpha1)\n",
    "        else:\n",
    "            qalpha1 = pyro.param(\"qalpha1\",  init_motif, constraint=constraints.positive) # motif\n",
    "            if step_motif_count%5 == 0:\n",
    "                tem_motif.append(qalpha1)\n",
    "\n",
    "    #     CHANGE: use the fact that dirichlet can draw independant dirichlets\n",
    "        pyro.sample(\"latent0\",pdist.Dirichlet(concentration=qalpha0.view(nd, -1)))\n",
    "        pyro.sample(\"latent1\",pdist.Dirichlet(concentration=qalpha1.view(nz, -1)))\n",
    "    def show_motifs():\n",
    "        infer_motifs = np.load(\"qalpha1.npy\")\n",
    "        for i in range(nz):\n",
    "            plt.figure(i)\n",
    "            locals()['infer_motif' +str(i)] = infer_motifs[i,0,:,:]\n",
    "            plt.imshow(-locals()['infer_motif' +str(i)],cmap = \"gray\")\n",
    "            plt.xticks([])\n",
    "            plt.yticks([])\n",
    "            plt.show()\n",
    "    def show_real_motifs():\n",
    "        for i in range(nz):\n",
    "            plt.figure(i)\n",
    "            locals()['real_motif' +str(i)] =  motifs[0,0,:,:].cpu().numpy()\n",
    "            plt.imshow(-locals()['real_motif' +str(i)],cmap = \"gray\")\n",
    "            plt.xticks([])\n",
    "            plt.yticks([])\n",
    "            plt.show()\n",
    "            \n",
    "    # CHANGE: change adam params\n",
    "    pyro.clear_param_store()\n",
    "    adam_params = {\"lr\": 0.08}\n",
    "    optimizer = pyro.optim.Adam(adam_params)\n",
    "    svi = SVI(model, guide, optimizer, loss=Trace_ELBO())\n",
    "    n_steps = 100\n",
    "    pro = FloatProgress(min=0, max=n_steps-1)\n",
    "    display(pro)\n",
    "    \n",
    "    for step in range(n_steps):\n",
    "        loss = svi.step(data)\n",
    "        tem_loss.append(loss)\n",
    "        pro.value += 1\n",
    "        pro.description = str(step)\n",
    "        \n",
    "    all_motif.append(tem_motif)\n",
    "    tem = min(tem_loss)\n",
    "    all_loss.append(tem_loss)\n",
    "    if tem < min_loss:\n",
    "        min_loss = tem\n",
    "        best_ite = ite\n",
    "        fin_motif = tem_motif"
   ]
  },
  {
   "cell_type": "code",
   "execution_count": 181,
   "metadata": {},
   "outputs": [
    {
     "name": "stdout",
     "output_type": "stream",
     "text": [
      "0\n",
      "[1786753393.1875, 1748760420.6450195, 1692784924.4692383, 1609574356.265625, 1588451803.519043, 1531306475.631836, 1530656484.2905273, 1450335837.6269531, 1445718000.628418, 1421887332.4472656, 1419117781.350586, 1375669656.1254883, 1377488361.3725586, 1328329672.682129, 1329006663.0800781, 1313466755.0478516, 1295287530.0239258, 1279658772.5668945, 1269159969.7597656, 1256549091.7753906, 1246936550.9223633, 1222994893.1660156, 1218220769.4829102, 1179674687.0615234, 1184511869.5551758, 1186271763.9995117, 1162369174.7524414, 1144832668.418457, 1133587055.5341797, 1124295935.8422852, 1110196960.541504, 1105422286.7895508, 1092674766.7026367, 1079143491.2202148, 1066954249.1489258, 1062576005.3461914, 1047928005.4174805, 1037712847.2944336, 1028793062.0043945, 1006638143.1435547, 987178939.2055664, 985880473.6293945, 959597162.7231445, 939406418.3120117, 930126592.0463867, 916659676.5351562, 896479705.8378906, 869270072.1254883, 861867605.5625, 844208413.2792969, 823958441.9550781, 792722868.8334961, 770621987.2958984, 746124346.9477539, 733966944.2895508, 715215487.3457031, 696986436.4453125, 668782214.6049805, 653403049.831543, 630413160.3510742, 608496626.5893555, 605145643.4145508, 583008502.8432617, 559118709.7280273, 554743887.3481445, 540993236.2553711, 523264277.24560547, 512669460.68115234, 492409390.52197266, 479663463.32177734, 469649783.40283203, 453495048.91552734, 447242875.15771484, 437620327.78759766, 425431849.9057617, 413078933.7602539, 407486148.52001953, 400185526.9350586, 383670789.94677734, 373280691.3100586, 368299299.37646484, 361510681.34228516, 349691279.93408203, 342802027.63623047, 333686109.24658203, 331209181.79833984, 327561300.30029297, 319271052.66552734, 311504352.89990234, 304187420.81396484, 296705478.70654297, 290916976.40966797, 283238432.09228516, 280889371.01904297, 276071559.20654297, 262022350.0571289, 260529568.01513672, 254669347.79248047, 248094273.35888672, 239791248.03173828]\n"
     ]
    }
   ],
   "source": [
    "print(best_ite)\n",
    "print(all_loss[0])\n",
    "# a = all_motif[3].detach().cpu().numpy()\n",
    "# plt.imshow(a[0][0])\n"
   ]
  },
  {
   "cell_type": "code",
   "execution_count": 235,
   "metadata": {},
   "outputs": [
    {
     "data": {
      "text/plain": [
       "<matplotlib.image.AxesImage at 0x26006523a90>"
      ]
     },
     "execution_count": 235,
     "metadata": {},
     "output_type": "execute_result"
    },
    {
     "data": {
      "image/png": "[encoded data removed]",
      "text/plain": [
       "<Figure size 864x504 with 1 Axes>"
      ]
     },
     "metadata": {
      "needs_background": "light"
     },
     "output_type": "display_data"
    }
   ],
   "source": [
    "cmp_motif = np.array(all_motif[0])\n",
    "plt.imshow(cmp_motif[99][2][0].detach().cpu().numpy())"
   ]
  },
  {
   "cell_type": "code",
   "execution_count": 93,
   "metadata": {},
   "outputs": [
    {
     "ename": "IndexError",
     "evalue": "index 1 is out of bounds for dimension 0 with size 1",
     "output_type": "error",
     "traceback": [
      "\u001b[1;31m---------------------------------------------------------------------------\u001b[0m",
      "\u001b[1;31mIndexError\u001b[0m                                Traceback (most recent call last)",
      "\u001b[1;32m<ipython-input-93-0e553ab41946>\u001b[0m in \u001b[0;36m<module>\u001b[1;34m\u001b[0m\n\u001b[1;32m----> 1\u001b[1;33m \u001b[0mplt\u001b[0m\u001b[1;33m.\u001b[0m\u001b[0mimshow\u001b[0m\u001b[1;33m(\u001b[0m\u001b[0mmotifs\u001b[0m\u001b[1;33m[\u001b[0m\u001b[1;36m1\u001b[0m\u001b[1;33m,\u001b[0m\u001b[1;36m0\u001b[0m\u001b[1;33m,\u001b[0m\u001b[1;33m:\u001b[0m\u001b[1;33m,\u001b[0m\u001b[1;33m:\u001b[0m\u001b[1;33m]\u001b[0m\u001b[1;33m.\u001b[0m\u001b[0mcpu\u001b[0m\u001b[1;33m(\u001b[0m\u001b[1;33m)\u001b[0m\u001b[1;33m)\u001b[0m\u001b[1;33m\u001b[0m\u001b[1;33m\u001b[0m\u001b[0m\n\u001b[0m",
      "\u001b[1;31mIndexError\u001b[0m: index 1 is out of bounds for dimension 0 with size 1"
     ]
    }
   ],
   "source": [
    "plt.imshow(motifs[1,0,:,:].cpu())"
   ]
  },
  {
   "cell_type": "code",
   "execution_count": 128,
   "metadata": {},
   "outputs": [
    {
     "name": "stdout",
     "output_type": "stream",
     "text": [
      "20.085536923187668\n"
     ]
    }
   ],
   "source": [
    "print(np.exp(3))"
   ]
  },
  {
   "cell_type": "code",
   "execution_count": 236,
   "metadata": {},
   "outputs": [
    {
     "name": "stdout",
     "output_type": "stream",
     "text": [
      "[0.7753310998280843, 0.7393534978230795, 0.7112540404001871, 0.6869306564331055, 0.6646465063095093, 0.6443410714467367, 0.625679095586141, 0.608792265256246, 0.5933761596679688, 0.5796433289845785, 0.5672097603480021, 0.5552500089009603, 0.5437812805175781, 0.5329803625742594, 0.5227365493774414, 0.5126254558563232, 0.5031172037124634, 0.4938470125198364, 0.4853983720143636, 0.4769010941187541, 0.4686007499694824, 0.46024401982625324, 0.45288105805714923, 0.4454895655314128, 0.4383832613627116, 0.4320027033487956, 0.42579372723897296, 0.41936540603637695, 0.4130380153656006, 0.40675826867421466, 0.4005115032196045, 0.3949185212453206, 0.38968463738759357, 0.3848042885462443, 0.38017189502716064, 0.37532226244608563, 0.370183269182841, 0.36549214522043866, 0.3608221610387166, 0.3564891815185547, 0.35228657722473145, 0.3481629689534505, 0.34432049592336017, 0.3409239848454793, 0.3378671010335286, 0.33544305960337323, 0.3337528705596924, 0.3327028751373291, 0.33208094040552777, 0.33203287919362384, 0.3327990372975667, 0.33411749203999835, 0.33584920565287274, 0.3381739854812622, 0.3409647544225057, 0.344257911046346, 0.3479075034459432, 0.35203806559244794, 0.35659130414326984, 0.361603577931722, 0.3668716351191203, 0.3722514708836873, 0.37766774495442706, 0.38317588965098065, 0.3887488842010498, 0.3940161466598511, 0.3991175095240275, 0.40397147337595624, 0.40862401326497394, 0.41308645407358807, 0.41735541820526123, 0.4215719699859619, 0.4256478150685628, 0.42961835861206055, 0.4333328406016032, 0.4369266827901204, 0.44032994906107586, 0.44350945949554443, 0.44628485043843585, 0.44855308532714844, 0.45031483968098956, 0.45171308517456055, 0.45263369878133136, 0.4533350467681885, 0.4540770451227824, 0.4547181924184163, 0.45525574684143066, 0.45539355278015137, 0.4553003708521525, 0.4549407958984375, 0.45454498132069904, 0.4541103045145671, 0.4536014397939046, 0.4530487060546875, 0.45244749387105304, 0.4519936243693034, 0.4516992966334025, 0.45144303639729816, 0.4511782725652059, 0.4508216381072998]\n"
     ]
    }
   ],
   "source": [
    "def cal_median_KL(i):\n",
    "    KL = []\n",
    "#     infer_motif0 = infer_motif[0,0,:,:]cmp_motif[99][1][0].detach().cpu().numpy()\n",
    "#     infer_motif1 = infer_motif[1,0,:,:]\n",
    "#     infer_motif2 = infer_motif[2,0,:,:]\n",
    "    infer_motif0 = cmp_motif[i][0][0].detach().cpu().numpy()\n",
    "    infer_motif1 = cmp_motif[i][1][0].detach().cpu().numpy()\n",
    "    infer_motif2 = cmp_motif[i][2][0].detach().cpu().numpy()\n",
    "    \n",
    "    norm_infer_motif0 = infer_motif0/infer_motif0.sum()\n",
    "    norm_infer_motif1 = infer_motif2/infer_motif2.sum()\n",
    "    norm_infer_motif2 = infer_motif1/infer_motif1.sum()\n",
    "    normalizer = 0\n",
    "    for n in range(nz):\n",
    "        temKL = 0\n",
    "        real_motif = motifs[n,0,:,:].cpu()\n",
    "        norm_real_motif = real_motif/real_motif.sum()\n",
    "        for i in range(nw):\n",
    "            for j in  range(ntr):\n",
    "                if norm_real_motif[i,j] == 0:\n",
    "                    temKL += 0\n",
    "                else:\n",
    "                    normalizer += norm_real_motif[i,j] +  locals()['norm_infer_motif'+str(n)][i,j]\n",
    "                    temKL += norm_real_motif[i,j] * (np.log(norm_real_motif[i,j]/ locals()['norm_infer_motif'+str(n)][i,j]))\n",
    "        temKL = temKL/normalizer\n",
    "        KL.append(temKL)\n",
    "#     print(min(KL))\n",
    "    mean_KL = np.sum(KL)/nz\n",
    "    \n",
    "#     norm_KL = 1-np.exp(-mean_KL)\n",
    "    return mean_KL\n",
    "final_data = []\n",
    "cmp_motif = np.array(all_motif[0])\n",
    "for i in range(n_steps):\n",
    "#     tem = tem_motif[i]\n",
    "#     tem = tem.cpu().detach().numpy()\n",
    "    tem_rec = cal_median_KL(i)\n",
    "    final_data.append(tem_rec.item())\n",
    "print(final_data)"
   ]
  },
  {
   "cell_type": "code",
   "execution_count": null,
   "metadata": {},
   "outputs": [],
   "source": [
    "print(final_data)"
   ]
  },
  {
   "cell_type": "code",
   "execution_count": null,
   "metadata": {},
   "outputs": [],
   "source": []
  },
  {
   "cell_type": "code",
   "execution_count": null,
   "metadata": {},
   "outputs": [],
   "source": []
  },
  {
   "cell_type": "code",
   "execution_count": null,
   "metadata": {},
   "outputs": [],
   "source": []
  },
  {
   "cell_type": "code",
   "execution_count": null,
   "metadata": {},
   "outputs": [],
   "source": []
  },
  {
   "cell_type": "code",
   "execution_count": null,
   "metadata": {},
   "outputs": [],
   "source": []
  },
  {
   "cell_type": "code",
   "execution_count": null,
   "metadata": {},
   "outputs": [],
   "source": []
  },
  {
   "cell_type": "code",
   "execution_count": null,
   "metadata": {},
   "outputs": [],
   "source": []
  }
 ],
 "metadata": {
  "kernelspec": {
   "display_name": "Python 3",
   "language": "python",
   "name": "python3"
  },
  "language_info": {
   "codemirror_mode": {
    "name": "ipython",
    "version": 3
   },
   "file_extension": ".py",
   "mimetype": "text/x-python",
   "name": "python",
   "nbconvert_exporter": "python",
   "pygments_lexer": "ipython3",
   "version": "3.7.1"
  }
 },
 "nbformat": 4,
 "nbformat_minor": 2
}
