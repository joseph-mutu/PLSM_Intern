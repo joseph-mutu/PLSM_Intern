{
 "cells": [
  {
   "cell_type": "code",
   "execution_count": 1,
   "metadata": {},
   "outputs": [
    {
     "name": "stdout",
     "output_type": "stream",
     "text": [
      "torch.Size([2, 1, 20, 170])\n"
     ]
    },
    {
     "data": {
      "text/plain": [
       "<matplotlib.image.AxesImage at 0x1b48012c860>"
      ]
     },
     "execution_count": 1,
     "metadata": {},
     "output_type": "execute_result"
    },
    {
     "data": {
      "image/png": "[encoded data removed]",
      "text/plain": [
       "<Figure size 864x504 with 1 Axes>"
      ]
     },
     "metadata": {
      "needs_background": "light"
     },
     "output_type": "display_data"
    }
   ],
   "source": [
    "from __future__ import print_function\n",
    "import math\n",
    "import matplotlib.cm as cm\n",
    "from matplotlib import pyplot as plt\n",
    "\n",
    "# ADD: for the nice progress bar\n",
    "from ipywidgets import FloatProgress\n",
    "from IPython.display import display\n",
    "\n",
    "import numpy as np\n",
    "from PIL import Image\n",
    "from PIL import ImageDraw\n",
    "from PIL import ImageFont\n",
    "from random import randint\n",
    "\n",
    "import numpy as np\n",
    "import torch\n",
    "import torch.nn.functional as F\n",
    "from torch.autograd import Variable\n",
    "import pyro\n",
    "from pyro.optim import Adam\n",
    "from pyro.infer import SVI\n",
    "import pyro.distributions as pdist\n",
    "import torch.distributions as tdist\n",
    "import torch.distributions.constraints as constraints\n",
    "import pyro.infer\n",
    "from pyro.infer import SVI, Trace_ELBO,  TraceGraph_ELBO\n",
    "import pyro.optim\n",
    "\n",
    "%matplotlib inline\n",
    "\n",
    "torch.manual_seed(101)\n",
    "\n",
    "flag_ISM = 0\n",
    "overlap_flag = 1\n",
    "nw = 20  # number of words 25\n",
    "ntr = 21  # number of relative times in a motif 70\n",
    "nd = 2  # number of documents \n",
    "Td= 150 # number of time period\n",
    "nz = 3\n",
    "\n",
    "\n",
    "#-----------------------------------------------------------------\n",
    "plt.rc('figure', figsize=(12.0, 7.0))\n",
    "def get_size(txt, font):\n",
    "    test_img = Image.new('L', (1, 1))\n",
    "    test_draw = ImageDraw.Draw(test_img)\n",
    "    return test_draw.textsize(txt, font)\n",
    "\n",
    "def string_to_matrix(s, fontname, fontsize, nw, ntr):\n",
    "    # Define the Text Color and the Background\n",
    "    color_text = \"White\"\n",
    "    color_background = \"Black\"\n",
    "    # Define the image font and resize the nword in a rectangle that suit it\n",
    "    text = s\n",
    "    font = ImageFont.truetype(fontname, fontsize)\n",
    "    width, height = get_size(text, font)\n",
    "    img = Image.new('L', (ntr, nw), color_background)\n",
    "    d = ImageDraw.Draw(img)\n",
    "    d.text((3, height / 10), text, fill=color_text, font=font)\n",
    "    #d.rectangle((0, 0, width, height))\n",
    "    path = 'Image_' + text + '.png'\n",
    "    img.save(path)\n",
    "    im = Image.open(path).convert('L')\n",
    "    motif = np.asarray(im, np.float32)  # Motif Matrix\n",
    "    return motif\n",
    "\n",
    "# motifs_as_string = [\"eggplop\", \"eggnog\", \"eggplant\", \"banana\", \"apple\"]\n",
    "motifs_as_string = [\"WYX\", \"Crab\",\"HJQ\"]\n",
    "\n",
    "nz0 = len(motifs_as_string)\n",
    "\n",
    "fontname = 'JennaSue.ttf'\n",
    "fontsize = 20\n",
    "\n",
    "motifs_as_matrix = [string_to_matrix(st, fontname, fontsize, nw, ntr) for st in motifs_as_string]\n",
    "\n",
    "# CHANGE: simplified using\n",
    "motifs = torch.stack([ torch.tensor(m[np.newaxis, :, :]) for m in motifs_as_matrix ], 0).cuda()\n",
    "\n",
    "# ADD: number of documents\n",
    "\n",
    "z = torch.zeros(nd,nz0,1,Td).cuda()\n",
    "\n",
    "# the following tries to generate the clean data(patterns are clear, no overlao)\n",
    "#clear version\n",
    "if overlap_flag == 0:\n",
    "    z[0,0,0,1]=1\n",
    "    z[0,1,0,99]=1\n",
    "    z[0,2,0,30]=1\n",
    "    z[0,2,0,70]=1\n",
    "    z[0,0,0,149]=1\n",
    "\n",
    "    z[1,2,0,90]=1\n",
    "    z[1,2,0,10]=1\n",
    "    z[1,1,0,40]=1\n",
    "    z[1,0,0,120]=1\n",
    "    z[1,1,0,140]=1\n",
    "elif overlap_flag == 1:\n",
    "    #overlap version\n",
    "    z[0,0,0,20]=1\n",
    "    z[0,2,0,99]=1\n",
    "    z[0,1,0,30]=1\n",
    "    z[0,2,0,70]=1\n",
    "    z[0,1,0,110]=1\n",
    "    z[0,0,0,149]=1\n",
    "\n",
    "    z[1,2,0,90]=1\n",
    "    z[1,2,0,10]=1\n",
    "    z[1,1,0,20]=1\n",
    "    z[1,0,0,120]=1\n",
    "    z[1,1,0,130]=1\n",
    "elif overlap_flag == 2:\n",
    "    #overlap version\n",
    "    z[0,0,0,20]=1\n",
    "    z[0,2,0,99]=1\n",
    "    z[0,1,0,25]=1\n",
    "    z[0,2,0,70]=1\n",
    "    z[0,1,0,60]=1\n",
    "    z[0,1,0,110]=1\n",
    "    z[0,2,0,130]=1\n",
    "    z[0,0,0,149]=1\n",
    "\n",
    "    z[1,2,0,90]=1\n",
    "    z[1,1,0,85]=1\n",
    "    z[1,2,0,10]=1\n",
    "    z[1,1,0,20]=1\n",
    "    z[1,0,0,50]=1\n",
    "    z[1,1,0,60]=1\n",
    "    z[1,0,0,120]=1\n",
    "    z[1,1,0,130]=1\n",
    "elif overlap_flag == 3:\n",
    "    #overlap version\n",
    "    z[0,0,0,10]=1\n",
    "    z[0,1,0,20]=1\n",
    "    z[0,2,0,45]=1\n",
    "    z[0,1,0,69]=1\n",
    "    z[0,0,0,80]=1\n",
    "    z[0,2,0,110]=1\n",
    "#     z[0,1,0,140]=1\n",
    "    \n",
    "    z[1,2,0,10]=1\n",
    "    z[1,1,0,20]=1\n",
    "    z[1,0,0,50]=1\n",
    "    z[1,1,0,60]=1\n",
    "    z[1,2,0,90]=1\n",
    "#     z[1,0,0,130]=1\n",
    "#     z[1,1,0,110]=1\n",
    "\n",
    "# CHANGE: rename to avoid conflict with a defined variable later\n",
    "p_w_ta_d0 = F.conv_transpose2d(z,motifs).cuda()\n",
    "# CHANGE: use (-1) as a shape to let it infer the size\n",
    "print(p_w_ta_d0.shape)\n",
    "p_w_ta_d0 = p_w_ta_d0.view(-1)\n",
    "\n",
    "# CHANGE: don't sample but rather \"get the average\"\n",
    "data = 1 * p_w_ta_d0\n",
    "N = data.sum()\n",
    "\n",
    "plt.imshow(data.reshape(-1, Td+ntr-1).cpu())\n",
    "\n"
   ]
  },
  {
   "cell_type": "code",
   "execution_count": 2,
   "metadata": {},
   "outputs": [],
   "source": [
    "# java -jar sequence-mining/target/sequence-mining-1.0.jar -i 600 -f ism_data.dat -v \n",
    "def save_ism_data(data):\n",
    "#     np.set_printoptions(threshold=np.inf)\n",
    "    ism_data = data.reshape(-1,Td+ntr-1).cpu().numpy()\n",
    "    non_num_data = ism_data\n",
    "    for i in range(ism_data.shape[0]):\n",
    "        non_num_data[i,:] = np.where(ism_data[i,:]>0,i+1 if i <20 else i-19,0)\n",
    "    ism_seq = []\n",
    "    step = 25\n",
    "    # Change the number in the data martirx into index number.\n",
    "    # Ignore its real value, only record if it apperas or not\n",
    "    for i in range(nd):\n",
    "        cur_col = 0\n",
    "        start_raw = i*nw\n",
    "        while cur_col < (non_num_data.shape[1] - ntr + 1):\n",
    "#             tem = non_num_data[start_raw:start_raw+nw,cur_col:cur_col+ntr].reshape(-1,nw*ntr,order = 'F')\n",
    "            tem = non_num_data[start_raw:start_raw+nw,cur_col:cur_col+ntr].reshape(-1,nw*ntr)\n",
    "            tem_index_pos = np.where(tem>0)\n",
    "            ism_seq.append(tem[:,tem_index_pos[1]])\n",
    "            cur_col += step\n",
    "    with open(\"D:\\Study\\Jean Monnet\\Intern\\sequence-mining-master\\ism_data.dat\",\"w\") as file:\n",
    "        file.truncate()\n",
    "        for i in range(len(ism_seq)):\n",
    "            if len(ism_seq[i][0]) != 0:\n",
    "                tem_str = ism_seq[i][0].astype(int).astype(str).tolist()\n",
    "                file.write(\" -1 \".join(tem_str))\n",
    "                file.write(' -2\\n')\n",
    "    file.close()\n",
    "    return non_num_data\n",
    "np.set_printoptions(threshold=np.inf)\n",
    "non_num_data = save_ism_data(data)\n",
    "original_data = data.reshape(nw*nd,Td+ntr-1).cpu().numpy()"
   ]
  },
  {
   "cell_type": "code",
   "execution_count": 4,
   "metadata": {},
   "outputs": [],
   "source": [
    "#Add 3 columns of zero to avoid exceeding data bound\n",
    "# seq = [[20, 11],[13, 11, 12],[11, 12]]\n",
    "seq = [[4, 5, 10],[7, 14, 16],[3, 11]]\n",
    "tem_zero = np.zeros((non_num_data.shape[0],2))\n",
    "tem_zero = np.zeros((non_num_data.shape[0],2))\n",
    "non_num_data = np.concatenate((non_num_data,tem_zero),axis = 1)\n",
    "\n",
    "original_data = np.concatenate((original_data,tem_zero),axis = 1)\n",
    "\n",
    "def initialize_motif():\n",
    "    init_motif = np.ones((nz,1,nw,ntr))    \n",
    "    step = 30\n",
    "    for i in range(nd):\n",
    "        cur_raw = i*nw\n",
    "        cur_col = 0\n",
    "        while cur_col <= (non_num_data.shape[1] - ntr + 1):\n",
    "            tem_data = original_data[cur_raw:cur_raw+nw,cur_col:cur_col+ntr]\n",
    "            for i in range(len(seq)):\n",
    "                tem_seq = seq[i]\n",
    "                cur_motif = init_motif[i,0,:,:]\n",
    "                for sub_seq in tem_seq:\n",
    "                    sub_data = tem_data[sub_seq-1,:]\n",
    "                    cur_motif[sub_seq-1,:] += sub_data\n",
    "                init_motif[i,0,:,:] = cur_motif\n",
    "            cur_col += step\n",
    "    return init_motif\n",
    "init_motif = np.ones((nz,1,nw,ntr))\n",
    "init_motif = initialize_motif()\n",
    "init_motif = torch.from_numpy(init_motif).cuda()\n",
    "init_motif = init_motif.type_as(torch.ones(nd,nz,1,Td).cuda())"
   ]
  },
  {
   "cell_type": "code",
   "execution_count": 13,
   "metadata": {},
   "outputs": [],
   "source": [
    "def p_w_ta_d(z,motifs):\n",
    "    t = F.conv_transpose2d(z,motifs)\n",
    "    return t.view(-1)\n",
    "# ADD: introduce some variables\n",
    "prior0 = 0.1*N/nd / nz / Td\n",
    "prior1 = 0.1*N/nz / nw / ntr\n",
    "#randinit = 0\n",
    "\n",
    "def model(data):\n",
    "    s0 = (nd, nz, 1, Td)\n",
    "    s1 = (nz, 1, nw, ntr)\n",
    "    alpha0 = torch.ones(*s0).cuda()\n",
    "    alpha1 = torch.ones(*s1).cuda()\n",
    "    z = pyro.sample(\"latent0\", pdist.Dirichlet(concentration=alpha0.view(nd, -1)))\n",
    "    motifs = pyro.sample(\"latent1\", pdist.Dirichlet(concentration=alpha1.view(nz, -1)))\n",
    "\n",
    "    z = z.reshape(*s0)\n",
    "    motifs = motifs.reshape(*s1)\n",
    "    p = p_w_ta_d(z, motifs)\n",
    "    with pyro.iarange(\"data\", len(data)):\n",
    "        zts = pyro.sample(\"zts\", pdist.Categorical(probs=z))\n",
    "        pyro.sample(\"observe\", pdist.Multinomial(probs=p), obs=data)\n",
    "\n",
    "# Give the initialization\n",
    "\n",
    "step_motif_count = 0\n",
    "tem_motif = []\n",
    "\n",
    "def guide(data):\n",
    "    qalpha0 = pyro.param(\"qalpha0\", torch.ones(nd,nz,1,Td).cuda(), constraint=constraints.positive) # z_ts table\n",
    "    global step_motif_count\n",
    "    if flag_ISM:\n",
    "        qalpha1 = pyro.param(\"qalpha1\", init_motif, constraint=constraints.positive) # motif\n",
    "        if step_motif_count%5 == 0:\n",
    "            tem_motif.append(qalpha1)\n",
    "    else:\n",
    "        qalpha1 = pyro.param(\"qalpha1\",  torch.ones(nz,1,nw,ntr).cuda(), constraint=constraints.positive) # motif\n",
    "        if step_motif_count%5 == 0:\n",
    "            tem_motif.append(qalpha1)\n",
    "            \n",
    "#     CHANGE: use the fact that dirichlet can draw independant dirichlets\n",
    "    pyro.sample(\"latent0\",pdist.Dirichlet(concentration=qalpha0.view(nd, -1)))\n",
    "    pyro.sample(\"latent1\",pdist.Dirichlet(concentration=qalpha1.view(nz, -1)))\n",
    "def show_motifs():\n",
    "    infer_motifs = np.load(\"qalpha1.npy\")\n",
    "    for i in range(nz):\n",
    "        plt.figure(i)\n",
    "        locals()['infer_motif' +str(i)] = infer_motifs[i,0,:,:]\n",
    "        plt.imshow(-locals()['infer_motif' +str(i)],cmap = \"gray\")\n",
    "        plt.xticks([])\n",
    "        plt.yticks([])\n",
    "        plt.show()\n",
    "def show_real_motifs():\n",
    "    for i in range(nz):\n",
    "        plt.figure(i)\n",
    "        locals()['real_motif' +str(i)] =  motifs[0,0,:,:].cpu().numpy()\n",
    "        plt.imshow(-locals()['real_motif' +str(i)],cmap = \"gray\")\n",
    "        plt.xticks([])\n",
    "        plt.yticks([])\n",
    "        plt.show()\n",
    "# CHANGE: change adam params\n",
    "adam_params = {\"lr\": 0.05}\n",
    "optimizer = pyro.optim.Adam(adam_params)\n",
    "svi = SVI(model, guide, optimizer, loss=Trace_ELBO())"
   ]
  },
  {
   "cell_type": "code",
   "execution_count": 6,
   "metadata": {
    "scrolled": false
   },
   "outputs": [
    {
     "data": {
      "application/vnd.jupyter.widget-view+json": {
       "model_id": "28e204b16cf14c46b1e892a733c04008",
       "version_major": 2,
       "version_minor": 0
      },
      "text/plain": [
       "FloatProgress(value=0.0, max=199.0)"
      ]
     },
     "metadata": {},
     "output_type": "display_data"
    },
    {
     "data": {
      "image/png": "[encoded data removed]",
      "text/plain": [
       "<Figure size 432x288 with 1 Axes>"
      ]
     },
     "metadata": {
      "needs_background": "light"
     },
     "output_type": "display_data"
    },
    {
     "name": "stdout",
     "output_type": "stream",
     "text": [
      "Wall time: 21.5 s\n"
     ]
    }
   ],
   "source": [
    "%%time\n",
    "pyro.clear_param_store()\n",
    "n_steps = 200\n",
    "pro = FloatProgress(min=0, max=n_steps-1)\n",
    "display(pro)\n",
    "# data_cuda = data.cuda()\n",
    "\n",
    "for step in range(n_steps):\n",
    "    global step_motif_count\n",
    "    step_motif_count += 1\n",
    "    svi.step(data)\n",
    "    pro.value += 1\n",
    "    pro.description = str(step)\n",
    " \n",
    "# CHANGE: change only at the end\n",
    "# np.save(file=\"qalpha0\",arr=pyro.param(\"qalpha0\").detach().cpu().numpy())\n",
    "np.save(file=\"qalpha1\",arr=pyro.param(\"qalpha1\").detach().cpu().numpy())\n",
    "\n",
    "# # ADD: quick plot before exhaustive plot\n",
    "loaded = np.load(\"qalpha1.npy\")\n",
    "plt.imshow( -loaded.reshape(-1, ntr), cmap=\"gray\")\n",
    "plt.show()"
   ]
  },
  {
   "cell_type": "code",
   "execution_count": 3,
   "metadata": {},
   "outputs": [
    {
     "data": {
      "application/vnd.jupyter.widget-view+json": {
       "model_id": "baac1c781395489dab93a476f150bdb0",
       "version_major": 2,
       "version_minor": 0
      },
      "text/plain": [
       "FloatProgress(value=0.0, max=199.0)"
      ]
     },
     "metadata": {},
     "output_type": "display_data"
    },
    {
     "data": {
      "image/png": "[encoded data removed]",
      "text/plain": [
       "<Figure size 432x288 with 1 Axes>"
      ]
     },
     "metadata": {
      "needs_background": "light"
     },
     "output_type": "display_data"
    },
    {
     "name": "stdout",
     "output_type": "stream",
     "text": [
      "Wall time: 20.7 s\n"
     ]
    }
   ],
   "source": [
    "%%time\n",
    "pyro.clear_param_store()\n",
    "n_steps = 200\n",
    "pro = FloatProgress(min=0, max=n_steps-1)\n",
    "display(pro)\n",
    "# data_cuda = data.cuda()\n",
    "\n",
    "for step in range(n_steps):\n",
    "    global step_motif_count\n",
    "    step_motif_count += 1\n",
    "    svi.step(data)\n",
    "    pro.value += 1\n",
    "    pro.description = str(step)\n",
    " \n",
    "# CHANGE: change only at the end\n",
    "# np.save(file=\"qalpha0\",arr=pyro.param(\"qalpha0\").detach().cpu().numpy())\n",
    "np.save(file=\"qalpha1\",arr=pyro.param(\"qalpha1\").detach().cpu().numpy())\n",
    "\n",
    "# # ADD: quick plot before exhaustive plot\n",
    "loaded = np.load(\"qalpha1.npy\")\n",
    "plt.imshow( -loaded.reshape(-1, ntr), cmap=\"gray\")\n",
    "plt.show()"
   ]
  },
  {
   "cell_type": "code",
   "execution_count": 11,
   "metadata": {},
   "outputs": [
    {
     "name": "stdout",
     "output_type": "stream",
     "text": [
      "2.5269800821940103\n"
     ]
    },
    {
     "data": {
      "text/plain": [
       "2.5269800821940103"
      ]
     },
     "execution_count": 11,
     "metadata": {},
     "output_type": "execute_result"
    }
   ],
   "source": [
    "def cal_KL():\n",
    "    KL = []\n",
    "    infer_motif0 = loaded[0,0,:,:]\n",
    "    infer_motif1 = loaded[1,0,:,:]\n",
    "    infer_motif2 = loaded[2,0,:,:]\n",
    "    norm_infer_motif0 = infer_motif1/infer_motif1.sum()\n",
    "    norm_infer_motif1 = infer_motif2/infer_motif2.sum()\n",
    "    norm_infer_motif2 = infer_motif0/infer_motif0.sum()\n",
    "    for n in range(nz):\n",
    "        temKL = 0\n",
    "        real_motif = motifs[n,0,:,:].cpu()\n",
    "        norm_real_motif = real_motif/real_motif.sum()\n",
    "        for i in range(nw):\n",
    "            for j in  range(ntr):\n",
    "                if norm_real_motif[i,j] == 0:\n",
    "                    temKL += 0\n",
    "                else:\n",
    "                    temKL += norm_real_motif[i,j] * np.log(norm_real_motif[i,j]/ locals()['norm_infer_motif'+str(n)][i,j])\n",
    "        KL.append(temKL)\n",
    "    mean_KL = np.sum(KL)/nz\n",
    "    print(mean_KL)\n",
    "    return mean_KL\n",
    "def cal_median_KL(infer_motif):\n",
    "    KL = []\n",
    "    infer_motif0 = infer_motif[0,0,:,:]\n",
    "    infer_motif1 = infer_motif[1,0,:,:]\n",
    "    infer_motif2 = infer_motif[2,0,:,:]\n",
    "    norm_infer_motif0 = infer_motif1/infer_motif1.sum()\n",
    "    norm_infer_motif1 = infer_motif2/infer_motif2.sum()\n",
    "    norm_infer_motif2 = infer_motif0/infer_motif0.sum()\n",
    "    normalizer = 0\n",
    "    for n in range(nz):\n",
    "        temKL = 0\n",
    "        real_motif = motifs[n,0,:,:].cpu()\n",
    "        norm_real_motif = real_motif/real_motif.sum()\n",
    "        for i in range(nw):\n",
    "            for j in  range(ntr):\n",
    "                if norm_real_motif[i,j] == 0:\n",
    "                    temKL += 0\n",
    "                else:\n",
    "#                     normalizer += norm_real_motif[i,j] +  locals()['norm_infer_motif'+str(n)][i,j]\n",
    "                    temKL += norm_real_motif[i,j] * (np.log(norm_real_motif[i,j]/ locals()['norm_infer_motif'+str(n)][i,j]))\n",
    "#         temKL = temKL/normalizer\n",
    "        KL.append(temKL)\n",
    "    print(KL)\n",
    "#     mean_KL = np.sum(KL)/nz\n",
    "#     print(mean_KL)\n",
    "    return min(KL)\n",
    "cal_KL()"
   ]
  },
  {
   "cell_type": "code",
   "execution_count": 12,
   "metadata": {},
   "outputs": [
    {
     "name": "stdout",
     "output_type": "stream",
     "text": [
      "[tensor(1.2359), tensor(1.5553), tensor(1.0597)]\n",
      "tensor(1.0597)\n",
      "[tensor(1.1414), tensor(1.3958), tensor(1.0299)]\n",
      "tensor(1.0299)\n",
      "[tensor(1.0895), tensor(1.3040), tensor(0.9961)]\n",
      "tensor(0.9961)\n",
      "[tensor(1.0649), tensor(1.2577), tensor(0.9806)]\n",
      "tensor(0.9806)\n",
      "[tensor(1.0438), tensor(1.2365), tensor(0.9855)]\n",
      "tensor(0.9855)\n",
      "[tensor(1.0003), tensor(1.2206), tensor(0.9922)]\n",
      "tensor(0.9922)\n",
      "[tensor(0.9646), tensor(1.2043), tensor(1.0311)]\n",
      "tensor(0.9646)\n",
      "[tensor(1.0003), tensor(1.1802), tensor(1.0841)]\n",
      "tensor(1.0003)\n",
      "[tensor(1.1245), tensor(1.1636), tensor(1.1695)]\n",
      "tensor(1.1245)\n",
      "[tensor(1.3146), tensor(1.1730), tensor(1.3352)]\n",
      "tensor(1.1730)\n",
      "[tensor(1.5149), tensor(1.1988), tensor(1.5941)]\n",
      "tensor(1.1988)\n",
      "[tensor(1.6845), tensor(1.2420), tensor(1.9072)]\n",
      "tensor(1.2420)\n",
      "[tensor(1.7983), tensor(1.3180), tensor(2.1925)]\n",
      "tensor(1.3180)\n",
      "[tensor(1.8785), tensor(1.4193), tensor(2.4194)]\n",
      "tensor(1.4193)\n",
      "[tensor(1.9627), tensor(1.5217), tensor(2.5868)]\n",
      "tensor(1.5217)\n",
      "[tensor(2.0648), tensor(1.6267), tensor(2.7018)]\n",
      "tensor(1.6267)\n",
      "[tensor(2.1670), tensor(1.7491), tensor(2.8118)]\n",
      "tensor(1.7491)\n",
      "[tensor(2.2503), tensor(1.8691), tensor(2.8983)]\n",
      "tensor(1.8691)\n",
      "[tensor(2.3196), tensor(1.9974), tensor(2.9856)]\n",
      "tensor(1.9974)\n",
      "[tensor(2.3781), tensor(2.1296), tensor(3.0488)]\n",
      "tensor(2.1296)\n"
     ]
    }
   ],
   "source": [
    "mean_record = []\n",
    "for i in range(len(tem_motif)):\n",
    "    tem = tem_motif[i]\n",
    "    tem = tem.cpu().detach().numpy()\n",
    "    tem_KL = cal_median_KL(tem)\n",
    "    print(tem_KL)\n",
    "    mean_record.append(tem_KL)\n",
    "    "
   ]
  },
  {
   "cell_type": "code",
   "execution_count": 12,
   "metadata": {},
   "outputs": [
    {
     "name": "stdout",
     "output_type": "stream",
     "text": [
      "[tensor(2.0648), tensor(1.6267), tensor(2.7018)]\n",
      "2.131098906199137\n"
     ]
    },
    {
     "data": {
      "text/plain": [
       "<matplotlib.image.AxesImage at 0x15a1767ab00>"
      ]
     },
     "execution_count": 12,
     "metadata": {},
     "output_type": "execute_result"
    },
    {
     "data": {
      "image/png": "[encoded data removed]",
      "text/plain": [
       "<Figure size 432x288 with 1 Axes>"
      ]
     },
     "metadata": {
      "needs_background": "light"
     },
     "output_type": "display_data"
    }
   ],
   "source": [
    "a = tem_motif[15]\n",
    "a = a.cpu().detach().numpy()\n",
    "cal_median_KL(a)\n",
    "plt.imshow(a[2,0,:,:])"
   ]
  },
  {
   "cell_type": "code",
   "execution_count": 10,
   "metadata": {},
   "outputs": [
    {
     "name": "stdout",
     "output_type": "stream",
     "text": [
      "[[1 2 3]\n",
      " [4 5 6]]\n",
      "[[2 3 4]\n",
      " [5 6 7]]\n",
      "[[-1.38629436 -1.21639532 -1.15072829]\n",
      " [-1.11571776 -1.09392934 -1.07905476]]\n"
     ]
    }
   ],
   "source": [
    "a = np.arange(1,7).reshape(2,3)\n",
    "print(a)\n",
    "b = np.arange(2,8).reshape(2,3)\n",
    "print(b)\n",
    "KL =  b * np.log(a/b)\n",
    "print(KL)"
   ]
  },
  {
   "cell_type": "code",
   "execution_count": 15,
   "metadata": {},
   "outputs": [
    {
     "name": "stdout",
     "output_type": "stream",
     "text": [
      "1\n"
     ]
    }
   ],
   "source": [
    "a = [1,2,3]\n",
    "print(min(a))"
   ]
  },
  {
   "cell_type": "code",
   "execution_count": null,
   "metadata": {},
   "outputs": [],
   "source": []
  },
  {
   "cell_type": "code",
   "execution_count": null,
   "metadata": {},
   "outputs": [],
   "source": []
  },
  {
   "cell_type": "code",
   "execution_count": null,
   "metadata": {},
   "outputs": [],
   "source": []
  },
  {
   "cell_type": "code",
   "execution_count": null,
   "metadata": {},
   "outputs": [],
   "source": []
  }
 ],
 "metadata": {
  "kernelspec": {
   "display_name": "Python 3",
   "language": "python",
   "name": "python3"
  },
  "language_info": {
   "codemirror_mode": {
    "name": "ipython",
    "version": 3
   },
   "file_extension": ".py",
   "mimetype": "text/x-python",
   "name": "python",
   "nbconvert_exporter": "python",
   "pygments_lexer": "ipython3",
   "version": "3.7.1"
  }
 },
 "nbformat": 4,
 "nbformat_minor": 2
}
