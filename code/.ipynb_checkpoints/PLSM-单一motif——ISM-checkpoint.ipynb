{
 "cells": [
  {
   "cell_type": "code",
   "execution_count": 12,
   "metadata": {},
   "outputs": [
    {
     "name": "stdout",
     "output_type": "stream",
     "text": [
      "torch.Size([2, 1, 20, 174])\n"
     ]
    },
    {
     "data": {
      "text/plain": [
       "<matplotlib.image.AxesImage at 0x257d4a688d0>"
      ]
     },
     "execution_count": 12,
     "metadata": {},
     "output_type": "execute_result"
    },
    {
     "data": {
      "image/png": "[encoded data removed]",
      "text/plain": [
       "<Figure size 864x504 with 1 Axes>"
      ]
     },
     "metadata": {
      "needs_background": "light"
     },
     "output_type": "display_data"
    }
   ],
   "source": [
    "from __future__ import print_function\n",
    "import math\n",
    "import matplotlib.cm as cm\n",
    "from matplotlib import pyplot as plt\n",
    "\n",
    "# ADD: for the nice progress bar\n",
    "from ipywidgets import FloatProgress\n",
    "from IPython.display import display\n",
    "\n",
    "import numpy as np\n",
    "from PIL import Image\n",
    "from PIL import ImageDraw\n",
    "from PIL import ImageFont\n",
    "from random import randint\n",
    "\n",
    "\n",
    "import numpy as np\n",
    "import torch\n",
    "import torch.nn.functional as F\n",
    "from torch.autograd import Variable\n",
    "import pyro\n",
    "from pyro.optim import Adam\n",
    "from pyro.infer import SVI\n",
    "import pyro.distributions as pdist\n",
    "import torch.distributions as tdist\n",
    "import torch.distributions.constraints as constraints\n",
    "import pyro.infer\n",
    "from pyro.infer import SVI, Trace_ELBO,  TraceGraph_ELBO\n",
    "import pyro.optim\n",
    "\n",
    "%matplotlib inline\n",
    "\n",
    "# torch.manual_seed(101)\n",
    "\n",
    "flag_ISM = 0\n",
    "overlap_flag = 0\n",
    "nw = 20  # number of words 25\n",
    "ntr = 25  # number of relative times in a motif 70\n",
    "nd = 2  # number of documents \n",
    "Td= 150 # number of time period\n",
    "nz = 1\n",
    "\n",
    "\n",
    "#-----------------------------------------------------------------\n",
    "plt.rc('figure', figsize=(12.0, 7.0))\n",
    "def get_size(txt, font):\n",
    "    test_img = Image.new('L', (1, 1))\n",
    "    test_draw = ImageDraw.Draw(test_img)\n",
    "    return test_draw.textsize(txt, font)\n",
    "\n",
    "def string_to_matrix(s, fontname, fontsize, nw, ntr):\n",
    "    # Define the Text Color and the Background\n",
    "    color_text = \"White\"\n",
    "    color_background = \"Black\"\n",
    "    # Define the image font and resize the nword in a rectangle that suit it\n",
    "    text = s\n",
    "    font = ImageFont.truetype(fontname, fontsize)\n",
    "    width, height = get_size(text, font)\n",
    "    img = Image.new('L', (ntr, nw), color_background)\n",
    "    d = ImageDraw.Draw(img)\n",
    "    d.text((3, height / 10), text, fill=color_text, font=font)\n",
    "    #d.rectangle((0, 0, width, height))\n",
    "    path = 'Image_' + text + '.png'\n",
    "    img.save(path)\n",
    "    im = Image.open(path).convert('L')\n",
    "    motif = np.asarray(im, np.float32)  # Motif Matrix\n",
    "    return motif\n",
    "\n",
    "# motifs_as_string = [\"eggplop\", \"eggnog\", \"eggplant\", \"banana\", \"apple\"]\n",
    "# motifs_as_string = [\"WYX\", \"Crab\",\"HJQ\"]\n",
    "motifs_as_string = [\"WYX\"]\n",
    "\n",
    "nz0 = len(motifs_as_string)\n",
    "\n",
    "fontname = 'JennaSue.ttf'\n",
    "fontsize = 18\n",
    "\n",
    "motifs_as_matrix = [string_to_matrix(st, fontname, fontsize, nw, ntr) for st in motifs_as_string]\n",
    "\n",
    "# CHANGE: simplified using\n",
    "motifs = torch.stack([ torch.tensor(m[np.newaxis, :, :]) for m in motifs_as_matrix ], 0).cuda()\n",
    "\n",
    "# ADD: number of documents\n",
    "\n",
    "z = torch.zeros(nd,nz0,1,Td).cuda()\n",
    "\n",
    "# the following tries to generate the clean data(patterns are clear, no overlao)\n",
    "#clear version\n",
    "if overlap_flag == 0:\n",
    "    z[0,0,0,1]=1\n",
    "    z[0,0,0,99]=1\n",
    "    z[0,0,0,30]=1\n",
    "    z[0,0,0,70]=1\n",
    "    z[0,0,0,149]=1\n",
    "\n",
    "    z[1,0,0,90]=1\n",
    "    z[1,0,0,10]=1\n",
    "    z[1,0,0,40]=1\n",
    "    z[1,0,0,120]=1\n",
    "    z[1,0,0,140]=1\n",
    "\n",
    "\n",
    "# CHANGE: rename to avoid conflict with a defined variable later\n",
    "p_w_ta_d0 = F.conv_transpose2d(z,motifs).cuda()\n",
    "# CHANGE: use (-1) as a shape to let it infer the size\n",
    "print(p_w_ta_d0.shape)\n",
    "p_w_ta_d0 = p_w_ta_d0.view(-1)\n",
    "\n",
    "# CHANGE: don't sample but rather \"get the average\"\n",
    "data = 1 * p_w_ta_d0\n",
    "N = data.sum()\n",
    "\n",
    "plt.imshow(data.reshape(-1, Td+ntr-1).cpu())\n"
   ]
  },
  {
   "cell_type": "code",
   "execution_count": 13,
   "metadata": {},
   "outputs": [],
   "source": [
    "# java -jar sequence-mining/target/sequence-mining-1.0.jar -i 100 -f ism_data.dat -v -l INFO\n",
    "def save_ism_data(data):\n",
    "    \n",
    "    # Consider about the time. Assign each square in the motif a number ranging from 1 to nw*ntr\n",
    "    ism_data = data.reshape(-1,Td+ntr-1).cpu().numpy()\n",
    "    tem_data = np.zeros((ism_data.shape[0],3))\n",
    "    ism_data = np.concatenate((ism_data,tem_data),axis = 1)\n",
    "    ism_seq = []\n",
    "    step = 30\n",
    "    for i in range(nd):\n",
    "        cur_col = 0\n",
    "        start_raw = i*nw\n",
    "        while cur_col < (ism_data.shape[1] - ntr + 1):\n",
    "            # During the process, using matrix to simplify the calculation\n",
    "            # Choose all sqaures in the cur_window(Moving the window to generate the sequence)\n",
    "            # pick its corresponding index in motif(1~nw*ntr)\n",
    "            tem_index_pos = []\n",
    "            tem_seq = []\n",
    "            cur_window = ism_data[start_raw:start_raw+nw,cur_col:cur_col+ntr]\n",
    "            cmp_mat = np.ones((nw,ntr))\n",
    "            pos_mat = np.arange(nw*ntr).reshape(nw,ntr)\n",
    "            tem_seq = pos_mat * (cur_window > cmp_mat)\n",
    "            tem_seq = tem_seq.reshape(-1,nw*ntr)[0]\n",
    "            tem_index_pos = np.array(np.where(tem_seq > 0))\n",
    "            tem_index_pos = tem_index_pos + 1\n",
    "            ism_seq.append(tem_index_pos)\n",
    "            \n",
    "            cur_col += step\n",
    "    with open(\"D:\\Study\\Jean Monnet\\Intern\\sequence-mining-master\\ism_data.dat\",\"w\") as file:\n",
    "        file.truncate()\n",
    "        for i in range(len(ism_seq)):\n",
    "            if len(ism_seq[i][0]) != 0:\n",
    "                tem_str = ism_seq[i][0].astype(int).astype(str).tolist()\n",
    "                file.write(\" -1 \".join(tem_str))\n",
    "                file.write(' -2\\n')\n",
    "    file.close()\n",
    "save_ism_data(data)"
   ]
  },
  {
   "cell_type": "code",
   "execution_count": 25,
   "metadata": {},
   "outputs": [
    {
     "name": "stdout",
     "output_type": "stream",
     "text": [
      "\n"
     ]
    }
   ],
   "source": [
    "from itertools import combinations, permutations\n",
    "from scipy.special import comb, perm\n",
    "all_seq = [[168, 190, 193, 194, 270, 271, 295, 296], [97, 165, 242, 267, 320, 341], [169, 191, 195, 216, 220, 245, 272, 297, 366], [215, 219, 241, 244, 266, 291, 316, 322], [88, 113, 138, 163, 164, 189, 192, 233, 282, 311], [96, 167, 269, 294, 319, 340, 365], [123, 148, 173, 174, 198, 199, 200, 225, 240, 265, 290, 315, 350, 375], [158, 356], [89, 114, 139, 143, 171, 196, 217, 221, 246, 258, 283, 307, 332, 369, 394], [118, 156, 159, 181, 185, 206, 210, 235, 262, 287, 312, 336, 344, 390], [121, 146, 212, 237], [124, 149, 175, 222, 247, 293], [76, 101, 126, 151, 176, 201, 226, 252], [92, 105, 112, 117, 137, 142, 162, 170, 188, 205, 260, 285, 305, 368, 393, 415], [99, 115, 140, 144, 166, 268, 292, 317, 342, 346, 400, 425], [86, 104, 161, 179, 309, 330, 355], [108, 227, 252], [114, 139, 143, 171, 196, 217, 221, 246, 264, 289, 291, 292, 314, 316, 345, 349, 374, 399, 424], [116, 120, 141, 145, 158, 166, 268, 279], [119, 131, 135, 157, 182, 186, 207, 211, 236, 259, 284, 288, 298, 308], [121, 146, 214, 215, 219, 241, 244, 266], [125, 150, 175, 200, 225, 250, 275, 300, 325], [160, 170, 188, 213, 222, 247, 263, 273], [164, 189, 192, 224, 239, 250, 275, 300, 325], [169, 191, 195, 216, 220, 245, 254], [204, 214, 215, 219, 241, 244, 266], [229, 240, 265, 290, 315], [76, 301], [78, 102, 127, 128, 132, 152, 153, 159, 181, 185, 206, 210, 235, 262, 287, 312, 326, 334, 358, 359, 380, 383, 384, 405], [79, 103, 160, 177, 178, 202, 205, 260, 285, 301], [82, 107, 111, 129, 133, 136, 154, 157, 182, 186, 207, 211, 236, 259, 284], [90, 106, 115, 140, 144, 166, 268, 292, 317, 342, 345, 357, 367, 370, 391, 395, 416], [91, 111, 129, 133, 136, 154, 157, 182, 186, 207, 211, 236, 259, 284, 293, 304, 318, 335, 339, 343, 364, 367, 389, 392, 414], [93, 118, 156, 159, 181, 185, 206, 210, 235, 262, 287, 312, 313, 323, 333, 337], [95, 112, 117, 137, 142, 162, 170, 188, 205, 260, 285, 305, 368, 393], [187, 208, 230, 255, 280], [251, 276], [184, 209, 231, 232, 234, 256, 257, 261, 281, 286, 306]]\n",
    "print()"
   ]
  },
  {
   "cell_type": "code",
   "execution_count": 26,
   "metadata": {},
   "outputs": [
    {
     "data": {
      "application/vnd.jupyter.widget-view+json": {
       "model_id": "80556a58012a4bf5916bf00bc85ac1cb",
       "version_major": 2,
       "version_minor": 0
      },
      "text/plain": [
       "FloatProgress(value=0.0, max=49.0)"
      ]
     },
     "metadata": {},
     "output_type": "display_data"
    },
    {
     "data": {
      "application/vnd.jupyter.widget-view+json": {
       "model_id": "f1ff2e04acf5437488897a216f96e719",
       "version_major": 2,
       "version_minor": 0
      },
      "text/plain": [
       "FloatProgress(value=0.0, max=49.0)"
      ]
     },
     "metadata": {},
     "output_type": "display_data"
    },
    {
     "data": {
      "application/vnd.jupyter.widget-view+json": {
       "model_id": "253872f894f94b0ba6918284feb95cac",
       "version_major": 2,
       "version_minor": 0
      },
      "text/plain": [
       "FloatProgress(value=0.0, max=49.0)"
      ]
     },
     "metadata": {},
     "output_type": "display_data"
    },
    {
     "data": {
      "application/vnd.jupyter.widget-view+json": {
       "model_id": "441b8041c695419d85593f466a541e85",
       "version_major": 2,
       "version_minor": 0
      },
      "text/plain": [
       "FloatProgress(value=0.0, max=49.0)"
      ]
     },
     "metadata": {},
     "output_type": "display_data"
    },
    {
     "data": {
      "application/vnd.jupyter.widget-view+json": {
       "model_id": "156787fa97f2429a8aae501eb0509e60",
       "version_major": 2,
       "version_minor": 0
      },
      "text/plain": [
       "FloatProgress(value=0.0, max=49.0)"
      ]
     },
     "metadata": {},
     "output_type": "display_data"
    },
    {
     "data": {
      "application/vnd.jupyter.widget-view+json": {
       "model_id": "be984237794d4bd0be00669a3533664e",
       "version_major": 2,
       "version_minor": 0
      },
      "text/plain": [
       "FloatProgress(value=0.0, max=49.0)"
      ]
     },
     "metadata": {},
     "output_type": "display_data"
    },
    {
     "data": {
      "application/vnd.jupyter.widget-view+json": {
       "model_id": "bf50d99171fa49a0a91e17a3af8b8fd7",
       "version_major": 2,
       "version_minor": 0
      },
      "text/plain": [
       "FloatProgress(value=0.0, max=49.0)"
      ]
     },
     "metadata": {},
     "output_type": "display_data"
    },
    {
     "data": {
      "application/vnd.jupyter.widget-view+json": {
       "model_id": "a2a3b093e9914e4c80490d52002d2cad",
       "version_major": 2,
       "version_minor": 0
      },
      "text/plain": [
       "FloatProgress(value=0.0, max=49.0)"
      ]
     },
     "metadata": {},
     "output_type": "display_data"
    },
    {
     "data": {
      "application/vnd.jupyter.widget-view+json": {
       "model_id": "00b89e61d8694be991f8b3fa1df9e3a0",
       "version_major": 2,
       "version_minor": 0
      },
      "text/plain": [
       "FloatProgress(value=0.0, max=49.0)"
      ]
     },
     "metadata": {},
     "output_type": "display_data"
    },
    {
     "data": {
      "application/vnd.jupyter.widget-view+json": {
       "model_id": "9ffdb4bb6bf244cbb1012117d02ba4c5",
       "version_major": 2,
       "version_minor": 0
      },
      "text/plain": [
       "FloatProgress(value=0.0, max=49.0)"
      ]
     },
     "metadata": {},
     "output_type": "display_data"
    },
    {
     "data": {
      "application/vnd.jupyter.widget-view+json": {
       "model_id": "f370671bfbb8425e91ffdd4fec4e42ab",
       "version_major": 2,
       "version_minor": 0
      },
      "text/plain": [
       "FloatProgress(value=0.0, max=49.0)"
      ]
     },
     "metadata": {},
     "output_type": "display_data"
    },
    {
     "data": {
      "application/vnd.jupyter.widget-view+json": {
       "model_id": "f2ebba6bccac460abe0e997db236f79d",
       "version_major": 2,
       "version_minor": 0
      },
      "text/plain": [
       "FloatProgress(value=0.0, max=49.0)"
      ]
     },
     "metadata": {},
     "output_type": "display_data"
    },
    {
     "data": {
      "application/vnd.jupyter.widget-view+json": {
       "model_id": "32ead12cdf2446aa8dff5f2dccc2d794",
       "version_major": 2,
       "version_minor": 0
      },
      "text/plain": [
       "FloatProgress(value=0.0, max=49.0)"
      ]
     },
     "metadata": {},
     "output_type": "display_data"
    },
    {
     "data": {
      "application/vnd.jupyter.widget-view+json": {
       "model_id": "7a00716ca3ff4afe91f76605c474fd1b",
       "version_major": 2,
       "version_minor": 0
      },
      "text/plain": [
       "FloatProgress(value=0.0, max=49.0)"
      ]
     },
     "metadata": {},
     "output_type": "display_data"
    },
    {
     "data": {
      "application/vnd.jupyter.widget-view+json": {
       "model_id": "88374f364f0c49cba822f8124ea2d7aa",
       "version_major": 2,
       "version_minor": 0
      },
      "text/plain": [
       "FloatProgress(value=0.0, max=49.0)"
      ]
     },
     "metadata": {},
     "output_type": "display_data"
    },
    {
     "data": {
      "application/vnd.jupyter.widget-view+json": {
       "model_id": "d22bf413d924426eaccba8ff6a321e89",
       "version_major": 2,
       "version_minor": 0
      },
      "text/plain": [
       "FloatProgress(value=0.0, max=49.0)"
      ]
     },
     "metadata": {},
     "output_type": "display_data"
    },
    {
     "data": {
      "application/vnd.jupyter.widget-view+json": {
       "model_id": "31d6cdb26a1246ebaca4bbb86506d893",
       "version_major": 2,
       "version_minor": 0
      },
      "text/plain": [
       "FloatProgress(value=0.0, max=49.0)"
      ]
     },
     "metadata": {},
     "output_type": "display_data"
    },
    {
     "data": {
      "application/vnd.jupyter.widget-view+json": {
       "model_id": "91324d2b7313424bb1e54f1e8b1e8c98",
       "version_major": 2,
       "version_minor": 0
      },
      "text/plain": [
       "FloatProgress(value=0.0, max=49.0)"
      ]
     },
     "metadata": {},
     "output_type": "display_data"
    },
    {
     "data": {
      "application/vnd.jupyter.widget-view+json": {
       "model_id": "bec931633f704fa59c61622b80964910",
       "version_major": 2,
       "version_minor": 0
      },
      "text/plain": [
       "FloatProgress(value=0.0, max=49.0)"
      ]
     },
     "metadata": {},
     "output_type": "display_data"
    },
    {
     "data": {
      "application/vnd.jupyter.widget-view+json": {
       "model_id": "4ddfbe5a400e4d30b45caad6e15be11c",
       "version_major": 2,
       "version_minor": 0
      },
      "text/plain": [
       "FloatProgress(value=0.0, max=49.0)"
      ]
     },
     "metadata": {},
     "output_type": "display_data"
    },
    {
     "data": {
      "application/vnd.jupyter.widget-view+json": {
       "model_id": "5e422df1bb0e4ee5b172490c3aee9fdb",
       "version_major": 2,
       "version_minor": 0
      },
      "text/plain": [
       "FloatProgress(value=0.0, max=49.0)"
      ]
     },
     "metadata": {},
     "output_type": "display_data"
    },
    {
     "data": {
      "application/vnd.jupyter.widget-view+json": {
       "model_id": "c27c1d12f2b9427990cc58bd4c0ce203",
       "version_major": 2,
       "version_minor": 0
      },
      "text/plain": [
       "FloatProgress(value=0.0, max=49.0)"
      ]
     },
     "metadata": {},
     "output_type": "display_data"
    },
    {
     "data": {
      "application/vnd.jupyter.widget-view+json": {
       "model_id": "4dd7151c345f4c3f9bb0aab6a82cb6f2",
       "version_major": 2,
       "version_minor": 0
      },
      "text/plain": [
       "FloatProgress(value=0.0, max=49.0)"
      ]
     },
     "metadata": {},
     "output_type": "display_data"
    },
    {
     "data": {
      "application/vnd.jupyter.widget-view+json": {
       "model_id": "367e91a0fe1449e88735a14f67c939ce",
       "version_major": 2,
       "version_minor": 0
      },
      "text/plain": [
       "FloatProgress(value=0.0, max=49.0)"
      ]
     },
     "metadata": {},
     "output_type": "display_data"
    },
    {
     "data": {
      "application/vnd.jupyter.widget-view+json": {
       "model_id": "cd65018fb53f4f0da41774b249fcac5b",
       "version_major": 2,
       "version_minor": 0
      },
      "text/plain": [
       "FloatProgress(value=0.0, max=49.0)"
      ]
     },
     "metadata": {},
     "output_type": "display_data"
    },
    {
     "data": {
      "application/vnd.jupyter.widget-view+json": {
       "model_id": "36c66b83c64442ea9f8824b7e64d3a09",
       "version_major": 2,
       "version_minor": 0
      },
      "text/plain": [
       "FloatProgress(value=0.0, max=49.0)"
      ]
     },
     "metadata": {},
     "output_type": "display_data"
    },
    {
     "data": {
      "application/vnd.jupyter.widget-view+json": {
       "model_id": "a5015a0e6a2e4e77b97ba9a7288180cf",
       "version_major": 2,
       "version_minor": 0
      },
      "text/plain": [
       "FloatProgress(value=0.0, max=49.0)"
      ]
     },
     "metadata": {},
     "output_type": "display_data"
    },
    {
     "data": {
      "application/vnd.jupyter.widget-view+json": {
       "model_id": "8e1493d836dc45019e3d917584b79b4f",
       "version_major": 2,
       "version_minor": 0
      },
      "text/plain": [
       "FloatProgress(value=0.0, max=49.0)"
      ]
     },
     "metadata": {},
     "output_type": "display_data"
    },
    {
     "data": {
      "application/vnd.jupyter.widget-view+json": {
       "model_id": "05e9df6f18b1491d89fa2740e937bed3",
       "version_major": 2,
       "version_minor": 0
      },
      "text/plain": [
       "FloatProgress(value=0.0, max=49.0)"
      ]
     },
     "metadata": {},
     "output_type": "display_data"
    },
    {
     "data": {
      "application/vnd.jupyter.widget-view+json": {
       "model_id": "6ba12ed64cc845f280a68f92df8f16d5",
       "version_major": 2,
       "version_minor": 0
      },
      "text/plain": [
       "FloatProgress(value=0.0, max=49.0)"
      ]
     },
     "metadata": {},
     "output_type": "display_data"
    },
    {
     "data": {
      "application/vnd.jupyter.widget-view+json": {
       "model_id": "fb560ff4dda44a6cb1a6c48d762d06da",
       "version_major": 2,
       "version_minor": 0
      },
      "text/plain": [
       "FloatProgress(value=0.0, max=49.0)"
      ]
     },
     "metadata": {},
     "output_type": "display_data"
    },
    {
     "data": {
      "application/vnd.jupyter.widget-view+json": {
       "model_id": "f24e0a8505f44082b1d944c167020347",
       "version_major": 2,
       "version_minor": 0
      },
      "text/plain": [
       "FloatProgress(value=0.0, max=49.0)"
      ]
     },
     "metadata": {},
     "output_type": "display_data"
    },
    {
     "data": {
      "application/vnd.jupyter.widget-view+json": {
       "model_id": "ec57f4c58d11403186f452b4214cf786",
       "version_major": 2,
       "version_minor": 0
      },
      "text/plain": [
       "FloatProgress(value=0.0, max=49.0)"
      ]
     },
     "metadata": {},
     "output_type": "display_data"
    },
    {
     "data": {
      "application/vnd.jupyter.widget-view+json": {
       "model_id": "e43d91adf6264d02a5904ed20b2cd508",
       "version_major": 2,
       "version_minor": 0
      },
      "text/plain": [
       "FloatProgress(value=0.0, max=49.0)"
      ]
     },
     "metadata": {},
     "output_type": "display_data"
    },
    {
     "data": {
      "application/vnd.jupyter.widget-view+json": {
       "model_id": "268c7592387543b7a536f8fd76e18365",
       "version_major": 2,
       "version_minor": 0
      },
      "text/plain": [
       "FloatProgress(value=0.0, max=49.0)"
      ]
     },
     "metadata": {},
     "output_type": "display_data"
    },
    {
     "data": {
      "application/vnd.jupyter.widget-view+json": {
       "model_id": "0c5f436652294bf194ac988d1d5a0960",
       "version_major": 2,
       "version_minor": 0
      },
      "text/plain": [
       "FloatProgress(value=0.0, max=49.0)"
      ]
     },
     "metadata": {},
     "output_type": "display_data"
    },
    {
     "data": {
      "application/vnd.jupyter.widget-view+json": {
       "model_id": "1a5a991710e0484d8352c55927402064",
       "version_major": 2,
       "version_minor": 0
      },
      "text/plain": [
       "FloatProgress(value=0.0, max=49.0)"
      ]
     },
     "metadata": {},
     "output_type": "display_data"
    },
    {
     "data": {
      "application/vnd.jupyter.widget-view+json": {
       "model_id": "481002dee87b481eaedc0626166ede86",
       "version_major": 2,
       "version_minor": 0
      },
      "text/plain": [
       "FloatProgress(value=0.0, max=49.0)"
      ]
     },
     "metadata": {},
     "output_type": "display_data"
    }
   ],
   "source": [
    "fin_motif = []\n",
    "min_loss = 99999999999\n",
    "best_ite = -1\n",
    "all_loss = []\n",
    "\n",
    "for ite in range(len(all_seq)):\n",
    "    #循环搜索不同的序列初始值\n",
    "    ism_data = data.reshape(-1,Td+ntr-1).cpu().numpy()\n",
    "    non_num_data = ism_data\n",
    "    for i in range(ism_data.shape[0]):\n",
    "        non_num_data[i,:] = np.where(ism_data[i,:]>0,i+1 if i <20 else i-19,0)\n",
    "\n",
    "    seq = all_seq[ite]\n",
    "\n",
    "    original_data = data.reshape(nw*nd,ntr+Td-1).cpu().numpy()\n",
    "    tem_zero = np.zeros((non_num_data.shape[0],3))\n",
    "    non_num_data = np.concatenate((non_num_data,tem_zero),axis = 1)\n",
    "    def return_col_raw(num):\n",
    "        cor = []\n",
    "        col_index = num%ntr\n",
    "        if col_index == 0:\n",
    "            col_index = ntr - 1\n",
    "            raw_index = int(num/ntr) - 1\n",
    "        else:\n",
    "            col_index = col_index - 1\n",
    "            raw_index = int(num/ntr)\n",
    "        cor.append(raw_index)\n",
    "        cor.append(col_index)\n",
    "        return cor\n",
    "    def initialize_motif():\n",
    "        init_motif = np.ones((nz,1,nw,ntr))    \n",
    "        step = 20\n",
    "        for i in range(nd):\n",
    "            cur_raw = i*nw\n",
    "            cur_col = 0\n",
    "            while cur_col <= (non_num_data.shape[1] - ntr + 1):\n",
    "                tem_data = original_data[cur_raw:cur_raw+nw,cur_col:cur_col+ntr]\n",
    "#                 for i in range(len(seq)):\n",
    "#                     tem_seq = seq[i]\n",
    "                cur_motif = init_motif[0,0,:,:]\n",
    "                for sub_seq in seq:\n",
    "                    tem_cor = return_col_raw(sub_seq)\n",
    "                    cur_motif[tem_cor[0],tem_cor[1]] += tem_data[tem_cor[0],tem_cor[1]]\n",
    "                init_motif[0,0,:,:] = cur_motif\n",
    "                cur_col += step\n",
    "        return init_motif\n",
    "\n",
    "    init_motif = np.ones((nz,1,nw,ntr))\n",
    "    init_motif = initialize_motif()\n",
    "    init_motif = torch.from_numpy(init_motif).cuda()\n",
    "    init_motif = init_motif.type_as(torch.ones(nd,nz,1,Td).cuda())\n",
    "\n",
    "\n",
    "    tem_loss = []\n",
    "    def p_w_ta_d(z,motifs):\n",
    "        t = F.conv_transpose2d(z,motifs)\n",
    "        return t.view(-1)\n",
    "    # ADD: introduce some variables\n",
    "    prior0 = 0.1*N/nd / nz / Td\n",
    "    prior1 = 0.1*N/nz / nw / ntr\n",
    "    #randinit = 0\n",
    "\n",
    "    def model(data):\n",
    "        s0 = (nd, nz, 1, Td)\n",
    "        s1 = (nz, 1, nw, ntr)\n",
    "        alpha0 = torch.ones(*s0).cuda()\n",
    "        alpha1 = torch.ones(*s1).cuda()\n",
    "        z = pyro.sample(\"latent0\", pdist.Dirichlet(concentration=alpha0.view(nd, -1)))\n",
    "        motifs = pyro.sample(\"latent1\", pdist.Dirichlet(concentration=alpha1.view(nz, -1)))\n",
    "\n",
    "        z = z.reshape(*s0)\n",
    "        motifs = motifs.reshape(*s1)\n",
    "        p = p_w_ta_d(z, motifs)\n",
    "        with pyro.iarange(\"data\", len(data)):\n",
    "            zts = pyro.sample(\"zts\", pdist.Categorical(probs=z))\n",
    "            pyro.sample(\"observe\", pdist.Multinomial(probs=p), obs=data)\n",
    "\n",
    "    # Give the initialization\n",
    "\n",
    "    step_motif_count = 0\n",
    "    tem_motif = []\n",
    "\n",
    "    def guide(data):\n",
    "        qalpha0 = pyro.param(\"qalpha0\", torch.ones(nd,nz,1,Td).cuda(), constraint=constraints.positive) # z_ts table\n",
    "        global step_motif_count\n",
    "        if flag_ISM:\n",
    "            qalpha1 = pyro.param(\"qalpha1\", init_motif, constraint=constraints.positive) # motif\n",
    "            if step_motif_count%5 == 0:\n",
    "                tem_motif.append(qalpha1)\n",
    "        else:\n",
    "            qalpha1 = pyro.param(\"qalpha1\",  torch.ones(nz,1,nw,ntr).cuda(), constraint=constraints.positive) # motif\n",
    "            if step_motif_count%5 == 0:\n",
    "                tem_motif.append(qalpha1)\n",
    "\n",
    "    #     CHANGE: use the fact that dirichlet can draw independant dirichlets\n",
    "        pyro.sample(\"latent0\",pdist.Dirichlet(concentration=qalpha0.view(nd, -1)))\n",
    "        pyro.sample(\"latent1\",pdist.Dirichlet(concentration=qalpha1.view(nz, -1)))\n",
    "    def show_motifs():\n",
    "        infer_motifs = np.load(\"qalpha1.npy\")\n",
    "        for i in range(nz):\n",
    "            plt.figure(i)\n",
    "            locals()['infer_motif' +str(i)] = infer_motifs[i,0,:,:]\n",
    "            plt.imshow(-locals()['infer_motif' +str(i)],cmap = \"gray\")\n",
    "            plt.xticks([])\n",
    "            plt.yticks([])\n",
    "            plt.show()\n",
    "    def show_real_motifs():\n",
    "        for i in range(nz):\n",
    "            plt.figure(i)\n",
    "            locals()['real_motif' +str(i)] =  motifs[0,0,:,:].cpu().numpy()\n",
    "            plt.imshow(-locals()['real_motif' +str(i)],cmap = \"gray\")\n",
    "            plt.xticks([])\n",
    "            plt.yticks([])\n",
    "            plt.show()\n",
    "    # CHANGE: change adam params\n",
    "    pyro.clear_param_store()\n",
    "    adam_params = {\"lr\": 0.1}\n",
    "    optimizer = pyro.optim.Adam(adam_params)\n",
    "    svi = SVI(model, guide, optimizer, loss=Trace_ELBO())\n",
    "    n_steps = 50\n",
    "    pro = FloatProgress(min=0, max=n_steps-1)\n",
    "    display(pro)\n",
    "    for step in range(n_steps):\n",
    "        loss = svi.step(data)\n",
    "        tem_loss.append(loss)\n",
    "        pro.value += 1\n",
    "        pro.description = str(step)\n",
    "    tem = min(tem_loss)\n",
    "    all_loss.append(tem_loss)\n",
    "    if tem < min_loss:\n",
    "        min_loss = tem\n",
    "        best_ite = ite"
   ]
  },
  {
   "cell_type": "code",
   "execution_count": 29,
   "metadata": {},
   "outputs": [
    {
     "name": "stdout",
     "output_type": "stream",
     "text": [
      "18\n",
      "[1708828407.0898438, 1635003405.774292, 1539356077.001709, 1496083230.6478271, 1464778886.802124, 1386948587.083374, 1354145148.7872314, 1333529273.237793, 1299787824.08313, 1230249596.9091797, 1202600917.5389404, 1153921521.1278076, 1142031618.05542, 1115586858.8032227, 1073222343.43396, 1056202470.2990723, 1065014494.4481201, 1027304949.7122803, 1018901135.5888672, 979687846.7967529, 984677707.1484375, 944900691.4483643, 929543266.1522217, 924225723.6907959, 879098963.2510986, 887080515.2351074, 879653676.6229248, 855254116.1629639, 802386422.8572998, 816065577.9586182, 804357617.305542, 758439092.2655029, 741887527.7629395, 708956101.9820557, 699250910.2064209, 637287509.1021729, 622297242.3050537, 590771791.4195557, 544193901.788208, 519480933.2735596, 497676286.0743408, 443882555.77233887, 415940091.3892822, 378714990.7406006, 338792757.90441895, 316499616.6065674, 281431323.62316895, 261264989.46643066, 246008079.59387207, 222711149.772583]\n"
     ]
    }
   ],
   "source": [
    "print(best_ite)\n",
    "print(all_loss[18])"
   ]
  },
  {
   "cell_type": "code",
   "execution_count": 32,
   "metadata": {},
   "outputs": [
    {
     "name": "stdout",
     "output_type": "stream",
     "text": [
      "[1669429039.5234375, 1652811911.5550537, 1608631826.881836, 1526655147.1243896, 1464057317.8477783, 1357604254.809082, 1385264075.2093506, 1264367059.8758545, 1270571923.2025146, 1229833797.237793, 1167128445.668335, 1168534943.4923096, 1158223720.8826904, 1057919189.4622803, 1096255041.2858887, 1071993628.9963379, 1067339919.8990479, 1050354078.2305908, 1029211685.3641357, 1014484051.8040771, 992852387.607666, 946905035.0394287, 943776996.3243408, 930666224.7650146, 908931814.7753906, 891783847.8099365, 883647973.8673096, 887692189.1306152, 856519429.7757568, 851581629.1936035, 854084986.0249023, 816047971.8260498, 811467468.0904541, 817258092.9703369, 780519685.8580322, 758222143.901001, 738066917.5206299, 728547588.0367432, 714977451.2141113, 691611299.7116699, 659562261.091919, 658980095.1798096, 623445152.0994873, 601997285.366333, 568249380.0072021, 547710776.8109131, 523227368.0533447, 492051108.22961426, 484225782.07922363, 442104547.9298096]\n"
     ]
    }
   ],
   "source": [
    "print(all_loss[0])"
   ]
  },
  {
   "cell_type": "code",
   "execution_count": 33,
   "metadata": {},
   "outputs": [
    {
     "name": "stdout",
     "output_type": "stream",
     "text": [
      "[116, 120, 141, 145, 158, 166, 268, 279]\n"
     ]
    }
   ],
   "source": [
    "print(all_seq[18])"
   ]
  },
  {
   "cell_type": "code",
   "execution_count": null,
   "metadata": {},
   "outputs": [],
   "source": []
  },
  {
   "cell_type": "code",
   "execution_count": null,
   "metadata": {},
   "outputs": [],
   "source": []
  },
  {
   "cell_type": "code",
   "execution_count": null,
   "metadata": {},
   "outputs": [],
   "source": []
  },
  {
   "cell_type": "code",
   "execution_count": null,
   "metadata": {},
   "outputs": [],
   "source": []
  },
  {
   "cell_type": "code",
   "execution_count": null,
   "metadata": {},
   "outputs": [],
   "source": []
  }
 ],
 "metadata": {
  "kernelspec": {
   "display_name": "Python 3",
   "language": "python",
   "name": "python3"
  },
  "language_info": {
   "codemirror_mode": {
    "name": "ipython",
    "version": 3
   },
   "file_extension": ".py",
   "mimetype": "text/x-python",
   "name": "python",
   "nbconvert_exporter": "python",
   "pygments_lexer": "ipython3",
   "version": "3.7.1"
  }
 },
 "nbformat": 4,
 "nbformat_minor": 2
}
