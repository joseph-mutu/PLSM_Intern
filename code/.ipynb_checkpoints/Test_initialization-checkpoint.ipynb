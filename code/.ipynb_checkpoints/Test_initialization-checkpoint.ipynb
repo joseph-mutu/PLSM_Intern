{
 "cells": [
  {
   "cell_type": "code",
   "execution_count": 1,
   "metadata": {},
   "outputs": [
    {
     "name": "stdout",
     "output_type": "stream",
     "text": [
      "torch.Size([2, 1, 20, 124])\n"
     ]
    },
    {
     "data": {
      "text/plain": [
       "<matplotlib.image.AxesImage at 0x23d88fc4c18>"
      ]
     },
     "execution_count": 1,
     "metadata": {},
     "output_type": "execute_result"
    },
    {
     "data": {
      "image/png": "[encoded data removed]",
      "text/plain": [
       "<Figure size 864x504 with 1 Axes>"
      ]
     },
     "metadata": {
      "needs_background": "light"
     },
     "output_type": "display_data"
    }
   ],
   "source": [
    "from __future__ import print_function\n",
    "import math\n",
    "import matplotlib.cm as cm\n",
    "from matplotlib import pyplot as plt\n",
    "\n",
    "# ADD: for the nice progress bar|\n",
    "from ipywidgets import FloatProgress\n",
    "from IPython.display import display\n",
    "\n",
    "import numpy as np\n",
    "from PIL import Image\n",
    "from PIL import ImageDraw\n",
    "from PIL import ImageFont\n",
    "from random import randint\n",
    "\n",
    "\n",
    "import numpy as np\n",
    "import torch\n",
    "import torch.nn.functional as F\n",
    "from torch.autograd import Variable\n",
    "import pyro\n",
    "from pyro.optim import Adam\n",
    "from pyro.infer import SVI\n",
    "import pyro.distributions as pdist\n",
    "import torch.distributions as tdist\n",
    "import torch.distributions.constraints as constraints\n",
    "import pyro.infer\n",
    "from pyro.infer import SVI, Trace_ELBO\n",
    "import pyro.optim\n",
    "\n",
    "%matplotlib inline\n",
    "\n",
    "torch.manual_seed(101)\n",
    "\n",
    "nw = 20  # number of words 25\n",
    "ntr = 25  # number of relative times in a motif 70\n",
    "nd = 2  # number of documents \n",
    "Td= 100 # number of time period\n",
    "nz = 3\n",
    "#-----------------------------------------------------------------\n",
    "plt.rc('figure', figsize=(12.0, 7.0))\n",
    "def get_size(txt, font):\n",
    "    test_img = Image.new('L', (1, 1))\n",
    "    test_draw = ImageDraw.Draw(test_img)\n",
    "    return test_draw.textsize(txt, font)\n",
    "\n",
    "def string_to_matrix(s, fontname, fontsize, nw, ntr):\n",
    "    # Define the Text Color and the Background\n",
    "    color_text = \"White\"\n",
    "    color_background = \"Black\"\n",
    "    # Define the image font and resize the nword in a rectangle that suit it\n",
    "    text = s\n",
    "    font = ImageFont.truetype(fontname, fontsize)\n",
    "    width, height = get_size(text, font)\n",
    "    img = Image.new('L', (ntr, nw), color_background)\n",
    "    d = ImageDraw.Draw(img)\n",
    "    d.text((3, height / 10), text, fill=color_text, font=font)\n",
    "    #d.rectangle((0, 0, width, height))\n",
    "    path = 'Image_' + text + '.png'\n",
    "    img.save(path)\n",
    "    im = Image.open(path).convert('L')\n",
    "    motif = np.asarray(im, np.float32)  # Motif Matrix\n",
    "    return motif\n",
    "\n",
    "# motifs_as_string = [\"eggplop\", \"eggnog\", \"eggplant\", \"banana\", \"apple\"]\n",
    "motifs_as_string = [\"wyx\", \"juice\",\"HJQ\"]\n",
    "\n",
    "nz0 = len(motifs_as_string)\n",
    "\n",
    "fontname = 'JennaSue.ttf'\n",
    "fontsize = 20\n",
    "\n",
    "motifs_as_matrix = [string_to_matrix(st, fontname, fontsize, nw, ntr) for st in motifs_as_string]\n",
    "\n",
    "# CHANGE: simplified using\n",
    "motifs = torch.stack([ torch.tensor(m[np.newaxis, :, :]) for m in motifs_as_matrix ], 0).cuda()\n",
    "\n",
    "# ADD: number of documents\n",
    "\n",
    "z = torch.zeros(nd,nz0,1,Td).cuda()\n",
    "# z[0,0,0,128]=1\n",
    "z[0,1,0,32]=1\n",
    "z[0,2,0,18]=1\n",
    "z[0,0,0,40]=1\n",
    "# z[0,2,0,90]=1\n",
    "z[0,0,0,99]=1\n",
    "z[0,2,0,58]=1\n",
    "# z[0,0,0,31]=1\n",
    "# z[1,1,0,24]=1\n",
    "z[1,2,0,60]=1\n",
    "z[1,1,0,99]=1\n",
    "z[1,0,0,10]=1\n",
    "z[1,2,0,20]=1\n",
    "\n",
    "# CHANGE: rename to avoid conflict with a defined variable later\n",
    "p_w_ta_d0 = F.conv_transpose2d(z,motifs).cuda()\n",
    "# CHANGE: use (-1) as a shape to let it infer the size\n",
    "print(p_w_ta_d0.shape)\n",
    "p_w_ta_d0 = p_w_ta_d0.view(-1)\n",
    "\n",
    "# CHANGE: don't sample but rather \"get the average\"\n",
    "data = 1 * p_w_ta_d0\n",
    "N = data.sum()\n",
    "\n",
    "plt.imshow(data.reshape(-1, Td+ntr-1).cpu())\n",
    "\n",
    "# java -jar sequence-mining/target/sequence-mining-1.0.jar -i 600 -f ism_data.dat -v \n"
   ]
  },
  {
   "cell_type": "code",
   "execution_count": 2,
   "metadata": {},
   "outputs": [],
   "source": [
    "motif0 = motifs[0].view(-1).reshape(nw,ntr).cpu()\n",
    "motif1 = motifs[1].view(-1).reshape(nw,ntr).cpu()\n",
    "motif2 = motifs[2].view(-1).reshape(nw,ntr).cpu()"
   ]
  },
  {
   "cell_type": "code",
   "execution_count": 3,
   "metadata": {},
   "outputs": [],
   "source": [
    "# Record the coordinates in motif0, motif1 and motif2 in order to check if the initialized distribution will affect the inference\n",
    "def ini_motif(motifs,init_motif):\n",
    "    init_motif = init_motif\n",
    "    motif0 = motifs[0].view(-1).reshape(nw,ntr).cpu()\n",
    "    motif1 = motifs[1].view(-1).reshape(nw,ntr).cpu()\n",
    "    motif2 = motifs[2].view(-1).reshape(nw,ntr).cpu()\n",
    "    init_motif = np.ones((nz,1,nw,ntr))\n",
    "    for j in range(nw):\n",
    "        for k in range(ntr):\n",
    "            init_motif[0,0,j,k] = 5 if motif0[j,k] > 0 else 1\n",
    "            init_motif[1,0,j,k] = 5 if motif1[j,k] > 0 else 1\n",
    "            init_motif[2,0,j,k] = 5  if motif2[j,k] > 0 else 1\n",
    "    return init_motif\n",
    "init_motif = np.ones((nz,1,nw,ntr))\n",
    "init_motif = ini_motif(motifs,init_motif)\n",
    "init_motif = torch.from_numpy(init_motif).cuda()\n",
    "init_motif = init_motif.type_as(torch.ones(nd,nz,1,Td).cuda())"
   ]
  },
  {
   "cell_type": "code",
   "execution_count": 4,
   "metadata": {},
   "outputs": [],
   "source": [
    "def p_w_ta_d(z,motifs):\n",
    "    t = F.conv_transpose2d(z,motifs)\n",
    "    return t.view(-1)\n",
    "\n",
    "pyro.clear_param_store()\n",
    "\n",
    "# ADD: introduce some variables\n",
    "prior0 = 0.1*N/nd / nz / Td\n",
    "prior1 = 0.1*N/nz / nw / ntr\n",
    "#randinit = 0\n",
    "\n",
    "def model(data):\n",
    "    s0 = (nd, nz, 1, Td)\n",
    "    s1 = (nz, 1, nw, ntr)\n",
    "    alpha0 = torch.ones(*s0).cuda()\n",
    "    alpha1 = torch.ones(*s1).cuda()\n",
    "    z = pyro.sample(\"latent0\", pdist.Dirichlet(concentration=alpha0.view(nd, -1)))\n",
    "    motifs = pyro.sample(\"latent1\", pdist.Dirichlet(concentration=alpha1.view(nz, -1)))\n",
    "\n",
    "    z = z.reshape(*s0)\n",
    "    motifs = motifs.reshape(*s1)\n",
    "    p = p_w_ta_d(z, motifs)\n",
    "    with pyro.iarange(\"data\", len(data)):\n",
    "        zts = pyro.sample(\"zts\", pdist.Categorical(probs=z))\n",
    "        pyro.sample(\"observe\", pdist.Multinomial(probs=p), obs=data)\n",
    "\n",
    "# Give the initialization\n",
    "\n",
    "def guide(data):\n",
    "    qalpha0 = pyro.param(\"qalpha0\", torch.ones(nd,nz,1,Td).cuda(), constraint=constraints.positive) # z_ts table\n",
    "#     qalpha1 = pyro.param(\"qalpha1\", torch.ones(nz,1,nw,ntr).cuda(), constraint=constraints.positive) # motif\n",
    "    qalpha1 = pyro.param(\"qalpha1\", init_motif.cuda(), constraint=constraints.positive) # motif\n",
    "    # CHANGE: use the fact that dirichlet can draw independant dirichlets\n",
    "    pyro.sample(\"latent0\",pdist.Dirichlet(concentration=qalpha0.view(nd, -1)))\n",
    "    pyro.sample(\"latent1\",pdist.Dirichlet(concentration=qalpha1.view(nz, -1)))\n",
    "\n",
    "    \n",
    "# CHANGE: change adam params\n",
    "adam_params = {\"lr\": 0.05}\n",
    "optimizer = pyro.optim.Adam(adam_params)\n",
    "svi = SVI(model, guide, optimizer, loss=Trace_ELBO())"
   ]
  },
  {
   "cell_type": "code",
   "execution_count": 17,
   "metadata": {},
   "outputs": [
    {
     "data": {
      "application/vnd.jupyter.widget-view+json": {
       "model_id": "fc0d477730274a7580f93232ae6bee63",
       "version_major": 2,
       "version_minor": 0
      },
      "text/plain": [
       "FloatProgress(value=0.0, max=199.0)"
      ]
     },
     "metadata": {},
     "output_type": "display_data"
    },
    {
     "data": {
      "image/png": "[encoded data removed]",
      "text/plain": [
       "<Figure size 864x504 with 1 Axes>"
      ]
     },
     "metadata": {
      "needs_background": "light"
     },
     "output_type": "display_data"
    },
    {
     "name": "stdout",
     "output_type": "stream",
     "text": [
      "6911.8345\n",
      "5931.192\n",
      "6587.962\n",
      "Wall time: 12.4 s\n"
     ]
    }
   ],
   "source": [
    "%%time\n",
    "n_steps = 200\n",
    "pro = FloatProgress(min=0, max=n_steps-1)\n",
    "display(pro)\n",
    "# data_cuda = data.cuda()\n",
    "\n",
    "for step in range(n_steps):\n",
    "    svi.step(data)\n",
    "    pro.value += 1\n",
    "    pro.description = str(step)\n",
    "    \n",
    "# CHANGE: change only at the end\n",
    "np.save(file=\"qalpha0\",arr=pyro.param(\"qalpha0\").detach().cpu().numpy())\n",
    "np.save(file=\"qalpha1\",arr=pyro.param(\"qalpha1\").detach().cpu().numpy())\n",
    "\n",
    "# ADD: quick plot before exhaustive plot\n",
    "loaded = np.load(\"qalpha1.npy\")\n",
    "plt.imshow( -loaded.reshape(-1, ntr), cmap=\"gray\")\n",
    "plt.show()\n",
    "\n",
    "for i in range(nz):\n",
    "    #plt.imshow(loaded[i].squeeze())\n",
    "    print(loaded[i].sum())\n",
    "    #plt.show()"
   ]
  },
  {
   "cell_type": "code",
   "execution_count": 5,
   "metadata": {},
   "outputs": [
    {
     "data": {
      "application/vnd.jupyter.widget-view+json": {
       "model_id": "1663dc0aeb25446f9fd3367a6532b877",
       "version_major": 2,
       "version_minor": 0
      },
      "text/plain": [
       "FloatProgress(value=0.0, max=199.0)"
      ]
     },
     "metadata": {},
     "output_type": "display_data"
    },
    {
     "data": {
      "image/png": "[encoded data removed]",
      "text/plain": [
       "<Figure size 432x288 with 1 Axes>"
      ]
     },
     "metadata": {
      "needs_background": "light"
     },
     "output_type": "display_data"
    },
    {
     "name": "stdout",
     "output_type": "stream",
     "text": [
      "52562.633\n",
      "74063.31\n",
      "42284.69\n",
      "Wall time: 12.2 s\n"
     ]
    }
   ],
   "source": [
    "%%time\n",
    "n_steps = 200\n",
    "pro = FloatProgress(min=0, max=n_steps-1)\n",
    "display(pro)\n",
    "# data_cuda = data.cuda()\n",
    "\n",
    "for step in range(n_steps):\n",
    "    svi.step(data)\n",
    "    pro.value += 1\n",
    "    pro.description = str(step)\n",
    "    \n",
    "# CHANGE: change only at the end\n",
    "np.save(file=\"qalpha0\",arr=pyro.param(\"qalpha0\").detach().cpu().numpy())\n",
    "np.save(file=\"qalpha1\",arr=pyro.param(\"qalpha1\").detach().cpu().numpy())\n",
    "\n",
    "# ADD: quick plot before exhaustive plot\n",
    "loaded = np.load(\"qalpha1.npy\")\n",
    "plt.imshow( -loaded.reshape(-1, ntr), cmap=\"gray\")\n",
    "plt.show()\n",
    "\n",
    "for i in range(nz):\n",
    "    #plt.imshow(loaded[i].squeeze())\n",
    "    print(loaded[i].sum())\n",
    "    #plt.show()"
   ]
  },
  {
   "cell_type": "code",
   "execution_count": 5,
   "metadata": {},
   "outputs": [
    {
     "data": {
      "application/vnd.jupyter.widget-view+json": {
       "model_id": "be242b867155440080be95d2455070d5",
       "version_major": 2,
       "version_minor": 0
      },
      "text/plain": [
       "FloatProgress(value=0.0, max=199.0)"
      ]
     },
     "metadata": {},
     "output_type": "display_data"
    },
    {
     "data": {
      "image/png": "[encoded data removed]",
      "text/plain": [
       "<Figure size 432x288 with 1 Axes>"
      ]
     },
     "metadata": {
      "needs_background": "light"
     },
     "output_type": "display_data"
    },
    {
     "name": "stdout",
     "output_type": "stream",
     "text": [
      "7899.619\n",
      "8649.718\n",
      "7229.9395\n",
      "Wall time: 12.6 s\n"
     ]
    }
   ],
   "source": [
    "%%time\n",
    "n_steps = 200\n",
    "pro = FloatProgress(min=0, max=n_steps-1)\n",
    "display(pro)\n",
    "# data_cuda = data.cuda()\n",
    "\n",
    "for step in range(n_steps):\n",
    "    svi.step(data)\n",
    "    pro.value += 1\n",
    "    pro.description = str(step)\n",
    "    \n",
    "# CHANGE: change only at the end\n",
    "np.save(file=\"qalpha0\",arr=pyro.param(\"qalpha0\").detach().cpu().numpy())\n",
    "np.save(file=\"qalpha1\",arr=pyro.param(\"qalpha1\").detach().cpu().numpy())\n",
    "\n",
    "# ADD: quick plot before exhaustive plot\n",
    "loaded = np.load(\"qalpha1.npy\")\n",
    "plt.imshow( -loaded.reshape(-1, ntr), cmap=\"gray\")\n",
    "plt.show()\n",
    "\n",
    "for i in range(nz):\n",
    "    #plt.imshow(loaded[i].squeeze())\n",
    "    print(loaded[i].sum())\n",
    "    #plt.show()"
   ]
  },
  {
   "cell_type": "code",
   "execution_count": null,
   "metadata": {},
   "outputs": [],
   "source": []
  }
 ],
 "metadata": {
  "kernelspec": {
   "display_name": "Python 3",
   "language": "python",
   "name": "python3"
  },
  "language_info": {
   "codemirror_mode": {
    "name": "ipython",
    "version": 3
   },
   "file_extension": ".py",
   "mimetype": "text/x-python",
   "name": "python",
   "nbconvert_exporter": "python",
   "pygments_lexer": "ipython3",
   "version": "3.7.1"
  }
 },
 "nbformat": 4,
 "nbformat_minor": 2
}
