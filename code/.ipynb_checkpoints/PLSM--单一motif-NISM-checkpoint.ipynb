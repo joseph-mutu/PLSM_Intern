{
 "cells": [
  {
   "cell_type": "code",
   "execution_count": 1,
   "metadata": {},
   "outputs": [
    {
     "name": "stdout",
     "output_type": "stream",
     "text": [
      "torch.Size([2, 1, 20, 174])\n"
     ]
    },
    {
     "data": {
      "text/plain": [
       "<matplotlib.image.AxesImage at 0x1d6081b7da0>"
      ]
     },
     "execution_count": 1,
     "metadata": {},
     "output_type": "execute_result"
    },
    {
     "data": {
      "image/png": "[encoded data removed]",
      "text/plain": [
       "<Figure size 864x504 with 1 Axes>"
      ]
     },
     "metadata": {
      "needs_background": "light"
     },
     "output_type": "display_data"
    }
   ],
   "source": [
    "from __future__ import print_function\n",
    "import math\n",
    "import matplotlib.cm as cm\n",
    "from matplotlib import pyplot as plt\n",
    "\n",
    "# ADD: for the nice progress bar\n",
    "from ipywidgets import FloatProgress\n",
    "from IPython.display import display\n",
    "\n",
    "import numpy as np\n",
    "from PIL import Image\n",
    "from PIL import ImageDraw\n",
    "from PIL import ImageFont\n",
    "from random import randint\n",
    "\n",
    "\n",
    "import numpy as np\n",
    "import torch\n",
    "import torch.nn.functional as F\n",
    "from torch.autograd import Variable\n",
    "import pyro\n",
    "from pyro.optim import Adam\n",
    "from pyro.infer import SVI\n",
    "import pyro.distributions as pdist\n",
    "import torch.distributions as tdist\n",
    "import torch.distributions.constraints as constraints\n",
    "import pyro.infer\n",
    "from pyro.infer import SVI, Trace_ELBO,  TraceGraph_ELBO\n",
    "import pyro.optim\n",
    "\n",
    "%matplotlib inline\n",
    "\n",
    "# torch.manual_seed(101)\n",
    "\n",
    "flag_ISM = 0\n",
    "overlap_flag = 1\n",
    "nw = 20  # number of words 25\n",
    "ntr = 25  # number of relative times in a motif 70\n",
    "nd = 2  # number of documents \n",
    "Td= 150 # number of time period\n",
    "nz = 3\n",
    "\n",
    "\n",
    "#-----------------------------------------------------------------\n",
    "plt.rc('figure', figsize=(12.0, 7.0))\n",
    "def get_size(txt, font):\n",
    "    test_img = Image.new('L', (1, 1))\n",
    "    test_draw = ImageDraw.Draw(test_img)\n",
    "    return test_draw.textsize(txt, font)\n",
    "\n",
    "def string_to_matrix(s, fontname, fontsize, nw, ntr):\n",
    "    # Define the Text Color and the Background\n",
    "    color_text = \"White\"\n",
    "    color_background = \"Black\"\n",
    "    # Define the image font and resize the nword in a rectangle that suit it\n",
    "    text = s\n",
    "    font = ImageFont.truetype(fontname, fontsize)\n",
    "    width, height = get_size(text, font)\n",
    "    img = Image.new('L', (ntr, nw), color_background)\n",
    "    d = ImageDraw.Draw(img)\n",
    "    d.text((3, height / 10), text, fill=color_text, font=font)\n",
    "    #d.rectangle((0, 0, width, height))\n",
    "    path = 'Image_' + text + '.png'\n",
    "    img.save(path)\n",
    "    im = Image.open(path).convert('L')\n",
    "    motif = np.asarray(im, np.float32)  # Motif Matrix\n",
    "    return motif\n",
    "\n",
    "# motifs_as_string = [\"eggplop\", \"eggnog\", \"eggplant\", \"banana\", \"apple\"]\n",
    "# motifs_as_string = [\"WYX\", \"Crab\",\"HJQ\"]\n",
    "motifs_as_string = [\"WYX\", \"Crab\",\"HJQ\"]\n",
    "\n",
    "nz0 = len(motifs_as_string)\n",
    "\n",
    "fontname = 'JennaSue.ttf'\n",
    "fontsize = 18\n",
    "\n",
    "motifs_as_matrix = [string_to_matrix(st, fontname, fontsize, nw, ntr) for st in motifs_as_string]\n",
    "\n",
    "# CHANGE: simplified using\n",
    "motifs = torch.stack([ torch.tensor(m[np.newaxis, :, :]) for m in motifs_as_matrix ], 0).cuda()\n",
    "\n",
    "# ADD: number of documents\n",
    "\n",
    "z = torch.zeros(nd,nz0,1,Td).cuda()\n",
    "\n",
    "# the following tries to generate the clean data(patterns are clear, no overlao)\n",
    "#clear version\n",
    "# if overlap_flag == 0:\n",
    "# #     z[0,0,0,1]=1\n",
    "# #     z[0,0,0,99]=1\n",
    "# #     z[0,0,0,30]=1\n",
    "# #     z[0,0,0,70]=1\n",
    "# #     z[0,0,0,149]=1\n",
    "\n",
    "# #     z[1,0,0,90]=1\n",
    "# #     z[1,0,0,10]=1\n",
    "# #     z[1,0,0,40]=1\n",
    "# #     z[1,0,0,120]=1\n",
    "# #     z[1,0,0,140]=1\n",
    "#     z[0,0,0,1]=1\n",
    "#     z[0,1,0,99]=1\n",
    "#     z[0,2,0,30]=1\n",
    "#     z[0,2,0,70]=1\n",
    "#     z[0,0,0,149]=1\n",
    "\n",
    "#     z[1,2,0,90]=1\n",
    "#     z[1,2,0,10]=1\n",
    "#     z[1,1,0,40]=1\n",
    "#     z[1,0,0,120]=1\n",
    "#     z[1,1,0,140]=1\n",
    "if overlap_flag == 0:\n",
    "    z[0,0,0,1]=1\n",
    "    z[0,1,0,99]=1\n",
    "    z[0,2,0,30]=1\n",
    "    z[0,2,0,70]=1\n",
    "    z[0,0,0,149]=1\n",
    "\n",
    "    z[1,2,0,90]=1\n",
    "    z[1,2,0,10]=1\n",
    "    z[1,1,0,40]=1\n",
    "    z[1,0,0,120]=1\n",
    "    z[1,1,0,140]=1\n",
    "elif overlap_flag == 1:\n",
    "    #overlap version\n",
    "    z[0,0,0,20]=1\n",
    "    z[0,2,0,99]=1\n",
    "    z[0,1,0,30]=1\n",
    "    z[0,2,0,70]=1\n",
    "    z[0,1,0,110]=1\n",
    "    z[0,0,0,149]=1\n",
    "\n",
    "    z[1,2,0,90]=1\n",
    "    z[1,2,0,10]=1\n",
    "    z[1,1,0,20]=1\n",
    "    z[1,0,0,120]=1\n",
    "    z[1,1,0,130]=1\n",
    "elif overlap_flag == 2:\n",
    "    #overlap version\n",
    "    z[0,0,0,20]=1\n",
    "    z[0,2,0,99]=1\n",
    "    z[0,1,0,25]=1\n",
    "    z[0,2,0,70]=1\n",
    "    z[0,1,0,60]=1\n",
    "    z[0,1,0,110]=1\n",
    "    z[0,2,0,130]=1\n",
    "    z[0,0,0,149]=1\n",
    "\n",
    "    z[1,2,0,90]=1\n",
    "    z[1,1,0,85]=1\n",
    "    z[1,2,0,10]=1\n",
    "    z[1,1,0,20]=1\n",
    "    z[1,0,0,50]=1\n",
    "    z[1,1,0,60]=1\n",
    "    z[1,0,0,120]=1\n",
    "    z[1,1,0,130]=1\n",
    "elif overlap_flag == 3:\n",
    "    #overlap version\n",
    "    z[0,0,0,10]=1\n",
    "    z[0,1,0,20]=1\n",
    "    z[0,2,0,45]=1\n",
    "    z[0,1,0,69]=1\n",
    "    z[0,0,0,80]=1\n",
    "    z[0,2,0,110]=1\n",
    "    z[0,1,0,140]=1\n",
    "    \n",
    "    z[1,2,0,10]=1\n",
    "    z[1,1,0,20]=1\n",
    "    z[1,0,0,50]=1\n",
    "    z[1,1,0,60]=1\n",
    "    z[1,2,0,90]=1\n",
    "    z[1,0,0,130]=1\n",
    "    z[1,1,0,110]=1\n",
    "\n",
    "# CHANGE: rename to avoid conflict with a defined variable later\n",
    "p_w_ta_d0 = F.conv_transpose2d(z,motifs).cuda()\n",
    "# CHANGE: use (-1) as a shape to let it infer the size\n",
    "print(p_w_ta_d0.shape)\n",
    "p_w_ta_d0 = p_w_ta_d0.view(-1)\n",
    "\n",
    "# CHANGE: don't sample but rather \"get the average\"\n",
    "data = 1 * p_w_ta_d0\n",
    "N = data.sum()\n",
    "\n",
    "plt.imshow(data.reshape(-1, Td+ntr-1).cpu())\n"
   ]
  },
  {
   "cell_type": "code",
   "execution_count": 8,
   "metadata": {},
   "outputs": [
    {
     "data": {
      "application/vnd.jupyter.widget-view+json": {
       "model_id": "ff83e6155b7f478193d13edb45ec1b4b",
       "version_major": 2,
       "version_minor": 0
      },
      "text/plain": [
       "FloatProgress(value=0.0, max=99.0)"
      ]
     },
     "metadata": {},
     "output_type": "display_data"
    },
    {
     "ename": "KeyboardInterrupt",
     "evalue": "",
     "output_type": "error",
     "traceback": [
      "\u001b[1;31m---------------------------------------------------------------------------\u001b[0m",
      "\u001b[1;31mKeyboardInterrupt\u001b[0m                         Traceback (most recent call last)",
      "\u001b[1;32m<ipython-input-8-fa93472b1996>\u001b[0m in \u001b[0;36m<module>\u001b[1;34m\u001b[0m\n\u001b[0;32m     76\u001b[0m     \u001b[0mdisplay\u001b[0m\u001b[1;33m(\u001b[0m\u001b[0mpro\u001b[0m\u001b[1;33m)\u001b[0m\u001b[1;33m\u001b[0m\u001b[1;33m\u001b[0m\u001b[0m\n\u001b[0;32m     77\u001b[0m     \u001b[1;32mfor\u001b[0m \u001b[0mstep\u001b[0m \u001b[1;32min\u001b[0m \u001b[0mrange\u001b[0m\u001b[1;33m(\u001b[0m\u001b[0mn_steps\u001b[0m\u001b[1;33m)\u001b[0m\u001b[1;33m:\u001b[0m\u001b[1;33m\u001b[0m\u001b[1;33m\u001b[0m\u001b[0m\n\u001b[1;32m---> 78\u001b[1;33m         \u001b[0mloss\u001b[0m \u001b[1;33m=\u001b[0m \u001b[0msvi\u001b[0m\u001b[1;33m.\u001b[0m\u001b[0mstep\u001b[0m\u001b[1;33m(\u001b[0m\u001b[0mdata\u001b[0m\u001b[1;33m)\u001b[0m\u001b[1;33m\u001b[0m\u001b[1;33m\u001b[0m\u001b[0m\n\u001b[0m\u001b[0;32m     79\u001b[0m         \u001b[0mtem_loss\u001b[0m\u001b[1;33m.\u001b[0m\u001b[0mappend\u001b[0m\u001b[1;33m(\u001b[0m\u001b[0mloss\u001b[0m\u001b[1;33m)\u001b[0m\u001b[1;33m\u001b[0m\u001b[1;33m\u001b[0m\u001b[0m\n\u001b[0;32m     80\u001b[0m         \u001b[0mpro\u001b[0m\u001b[1;33m.\u001b[0m\u001b[0mvalue\u001b[0m \u001b[1;33m+=\u001b[0m \u001b[1;36m1\u001b[0m\u001b[1;33m\u001b[0m\u001b[1;33m\u001b[0m\u001b[0m\n",
      "\u001b[1;32m~\\Anaconda3\\lib\\site-packages\\pyro\\infer\\svi.py\u001b[0m in \u001b[0;36mstep\u001b[1;34m(self, *args, **kwargs)\u001b[0m\n\u001b[0;32m     97\u001b[0m         \u001b[1;31m# get loss and compute gradients\u001b[0m\u001b[1;33m\u001b[0m\u001b[1;33m\u001b[0m\u001b[1;33m\u001b[0m\u001b[0m\n\u001b[0;32m     98\u001b[0m         \u001b[1;32mwith\u001b[0m \u001b[0mpoutine\u001b[0m\u001b[1;33m.\u001b[0m\u001b[0mtrace\u001b[0m\u001b[1;33m(\u001b[0m\u001b[0mparam_only\u001b[0m\u001b[1;33m=\u001b[0m\u001b[1;32mTrue\u001b[0m\u001b[1;33m)\u001b[0m \u001b[1;32mas\u001b[0m \u001b[0mparam_capture\u001b[0m\u001b[1;33m:\u001b[0m\u001b[1;33m\u001b[0m\u001b[1;33m\u001b[0m\u001b[0m\n\u001b[1;32m---> 99\u001b[1;33m             \u001b[0mloss\u001b[0m \u001b[1;33m=\u001b[0m \u001b[0mself\u001b[0m\u001b[1;33m.\u001b[0m\u001b[0mloss_and_grads\u001b[0m\u001b[1;33m(\u001b[0m\u001b[0mself\u001b[0m\u001b[1;33m.\u001b[0m\u001b[0mmodel\u001b[0m\u001b[1;33m,\u001b[0m \u001b[0mself\u001b[0m\u001b[1;33m.\u001b[0m\u001b[0mguide\u001b[0m\u001b[1;33m,\u001b[0m \u001b[1;33m*\u001b[0m\u001b[0margs\u001b[0m\u001b[1;33m,\u001b[0m \u001b[1;33m**\u001b[0m\u001b[0mkwargs\u001b[0m\u001b[1;33m)\u001b[0m\u001b[1;33m\u001b[0m\u001b[1;33m\u001b[0m\u001b[0m\n\u001b[0m\u001b[0;32m    100\u001b[0m \u001b[1;33m\u001b[0m\u001b[0m\n\u001b[0;32m    101\u001b[0m         params = set(site[\"value\"].unconstrained()\n",
      "\u001b[1;32m~\\Anaconda3\\lib\\site-packages\\pyro\\infer\\trace_elbo.py\u001b[0m in \u001b[0;36mloss_and_grads\u001b[1;34m(self, model, guide, *args, **kwargs)\u001b[0m\n\u001b[0;32m    134\u001b[0m             \u001b[1;32mif\u001b[0m \u001b[0mtrainable_params\u001b[0m \u001b[1;32mand\u001b[0m \u001b[0mgetattr\u001b[0m\u001b[1;33m(\u001b[0m\u001b[0msurrogate_loss_particle\u001b[0m\u001b[1;33m,\u001b[0m \u001b[1;34m'requires_grad'\u001b[0m\u001b[1;33m,\u001b[0m \u001b[1;32mFalse\u001b[0m\u001b[1;33m)\u001b[0m\u001b[1;33m:\u001b[0m\u001b[1;33m\u001b[0m\u001b[1;33m\u001b[0m\u001b[0m\n\u001b[0;32m    135\u001b[0m                 \u001b[0msurrogate_loss_particle\u001b[0m \u001b[1;33m=\u001b[0m \u001b[0msurrogate_loss_particle\u001b[0m \u001b[1;33m/\u001b[0m \u001b[0mself\u001b[0m\u001b[1;33m.\u001b[0m\u001b[0mnum_particles\u001b[0m\u001b[1;33m\u001b[0m\u001b[1;33m\u001b[0m\u001b[0m\n\u001b[1;32m--> 136\u001b[1;33m                 \u001b[0msurrogate_loss_particle\u001b[0m\u001b[1;33m.\u001b[0m\u001b[0mbackward\u001b[0m\u001b[1;33m(\u001b[0m\u001b[0mretain_graph\u001b[0m\u001b[1;33m=\u001b[0m\u001b[0mself\u001b[0m\u001b[1;33m.\u001b[0m\u001b[0mretain_graph\u001b[0m\u001b[1;33m)\u001b[0m\u001b[1;33m\u001b[0m\u001b[1;33m\u001b[0m\u001b[0m\n\u001b[0m\u001b[0;32m    137\u001b[0m \u001b[1;33m\u001b[0m\u001b[0m\n\u001b[0;32m    138\u001b[0m         \u001b[0mwarn_if_nan\u001b[0m\u001b[1;33m(\u001b[0m\u001b[0mloss\u001b[0m\u001b[1;33m,\u001b[0m \u001b[1;34m\"loss\"\u001b[0m\u001b[1;33m)\u001b[0m\u001b[1;33m\u001b[0m\u001b[1;33m\u001b[0m\u001b[0m\n",
      "\u001b[1;32m~\\Anaconda3\\lib\\site-packages\\torch\\tensor.py\u001b[0m in \u001b[0;36mbackward\u001b[1;34m(self, gradient, retain_graph, create_graph)\u001b[0m\n\u001b[0;32m    100\u001b[0m                 \u001b[0mproducts\u001b[0m\u001b[1;33m.\u001b[0m \u001b[0mDefaults\u001b[0m \u001b[0mto\u001b[0m\u001b[0;31m \u001b[0m\u001b[0;31m`\u001b[0m\u001b[0;31m`\u001b[0m\u001b[1;32mFalse\u001b[0m\u001b[0;31m`\u001b[0m\u001b[0;31m`\u001b[0m\u001b[1;33m.\u001b[0m\u001b[1;33m\u001b[0m\u001b[1;33m\u001b[0m\u001b[0m\n\u001b[0;32m    101\u001b[0m         \"\"\"\n\u001b[1;32m--> 102\u001b[1;33m         \u001b[0mtorch\u001b[0m\u001b[1;33m.\u001b[0m\u001b[0mautograd\u001b[0m\u001b[1;33m.\u001b[0m\u001b[0mbackward\u001b[0m\u001b[1;33m(\u001b[0m\u001b[0mself\u001b[0m\u001b[1;33m,\u001b[0m \u001b[0mgradient\u001b[0m\u001b[1;33m,\u001b[0m \u001b[0mretain_graph\u001b[0m\u001b[1;33m,\u001b[0m \u001b[0mcreate_graph\u001b[0m\u001b[1;33m)\u001b[0m\u001b[1;33m\u001b[0m\u001b[1;33m\u001b[0m\u001b[0m\n\u001b[0m\u001b[0;32m    103\u001b[0m \u001b[1;33m\u001b[0m\u001b[0m\n\u001b[0;32m    104\u001b[0m     \u001b[1;32mdef\u001b[0m \u001b[0mregister_hook\u001b[0m\u001b[1;33m(\u001b[0m\u001b[0mself\u001b[0m\u001b[1;33m,\u001b[0m \u001b[0mhook\u001b[0m\u001b[1;33m)\u001b[0m\u001b[1;33m:\u001b[0m\u001b[1;33m\u001b[0m\u001b[1;33m\u001b[0m\u001b[0m\n",
      "\u001b[1;32m~\\Anaconda3\\lib\\site-packages\\torch\\autograd\\__init__.py\u001b[0m in \u001b[0;36mbackward\u001b[1;34m(tensors, grad_tensors, retain_graph, create_graph, grad_variables)\u001b[0m\n\u001b[0;32m     88\u001b[0m     Variable._execution_engine.run_backward(\n\u001b[0;32m     89\u001b[0m         \u001b[0mtensors\u001b[0m\u001b[1;33m,\u001b[0m \u001b[0mgrad_tensors\u001b[0m\u001b[1;33m,\u001b[0m \u001b[0mretain_graph\u001b[0m\u001b[1;33m,\u001b[0m \u001b[0mcreate_graph\u001b[0m\u001b[1;33m,\u001b[0m\u001b[1;33m\u001b[0m\u001b[1;33m\u001b[0m\u001b[0m\n\u001b[1;32m---> 90\u001b[1;33m         allow_unreachable=True)  # allow_unreachable flag\n\u001b[0m\u001b[0;32m     91\u001b[0m \u001b[1;33m\u001b[0m\u001b[0m\n\u001b[0;32m     92\u001b[0m \u001b[1;33m\u001b[0m\u001b[0m\n",
      "\u001b[1;31mKeyboardInterrupt\u001b[0m: "
     ]
    }
   ],
   "source": [
    "fin_motif = []\n",
    "min_loss = 99999999999\n",
    "best_ite = -1\n",
    "all_loss = []\n",
    "all_motif = []\n",
    "\n",
    "for ite in range(10):\n",
    "    tem_loss = []\n",
    "    def p_w_ta_d(z,motifs):\n",
    "        t = F.conv_transpose2d(z,motifs)\n",
    "        return t.view(-1)\n",
    "    # ADD: introduce some variables\n",
    "    prior0 = 0.1*N/nd / nz / Td\n",
    "    prior1 = 0.1*N/nz / nw / ntr\n",
    "    #randinit = 0\n",
    "\n",
    "    def model(data):\n",
    "        s0 = (nd, nz, 1, Td)\n",
    "        s1 = (nz, 1, nw, ntr)\n",
    "        alpha0 = torch.ones(*s0).cuda()\n",
    "        alpha1 = torch.ones(*s1).cuda()\n",
    "        z = pyro.sample(\"latent0\", pdist.Dirichlet(concentration=alpha0.view(nd, -1)))\n",
    "        motifs = pyro.sample(\"latent1\", pdist.Dirichlet(concentration=alpha1.view(nz, -1)))\n",
    "\n",
    "        z = z.reshape(*s0)\n",
    "        motifs = motifs.reshape(*s1)\n",
    "        p = p_w_ta_d(z, motifs)\n",
    "        with pyro.iarange(\"data\", len(data)):\n",
    "            zts = pyro.sample(\"zts\", pdist.Categorical(probs=z))\n",
    "            pyro.sample(\"observe\", pdist.Multinomial(probs=p), obs=data)\n",
    "\n",
    "    # Give the initialization\n",
    "\n",
    "    step_motif_count = 0\n",
    "    tem_motif = []\n",
    "\n",
    "    def guide(data):\n",
    "        qalpha0 = pyro.param(\"qalpha0\", torch.ones(nd,nz,1,Td).cuda(), constraint=constraints.positive) # z_ts table\n",
    "        global step_motif_count\n",
    "        if flag_ISM:\n",
    "            qalpha1 = pyro.param(\"qalpha1\", init_motif, constraint=constraints.positive) # motif\n",
    "            if step_motif_count%5 == 0:\n",
    "                tem_motif.append(qalpha1)\n",
    "        else:\n",
    "            qalpha1 = pyro.param(\"qalpha1\",  torch.ones(nz,1,nw,ntr).cuda(), constraint=constraints.positive) # motif\n",
    "            if step_motif_count%5 == 0:\n",
    "                tem_motif.append(qalpha1)\n",
    "\n",
    "    #     CHANGE: use the fact that dirichlet can draw independant dirichlets\n",
    "        pyro.sample(\"latent0\",pdist.Dirichlet(concentration=qalpha0.view(nd, -1)))\n",
    "        pyro.sample(\"latent1\",pdist.Dirichlet(concentration=qalpha1.view(nz, -1)))\n",
    "    def show_motifs():\n",
    "        infer_motifs = np.load(\"qalpha1.npy\")\n",
    "        for i in range(nz):\n",
    "            plt.figure(i)\n",
    "            locals()['infer_motif' +str(i)] = infer_motifs[i,0,:,:]\n",
    "            plt.imshow(-locals()['infer_motif' +str(i)],cmap = \"gray\")\n",
    "            plt.xticks([])\n",
    "            plt.yticks([])\n",
    "            plt.show()\n",
    "    def show_real_motifs():\n",
    "        for i in range(nz):\n",
    "            plt.figure(i)\n",
    "            locals()['real_motif' +str(i)] =  motifs[0,0,:,:].cpu().numpy()\n",
    "            plt.imshow(-locals()['real_motif' +str(i)],cmap = \"gray\")\n",
    "            plt.xticks([])\n",
    "            plt.yticks([])\n",
    "            plt.show()\n",
    "    # CHANGE: change adam params\n",
    "    pyro.clear_param_store()\n",
    "    adam_params = {\"lr\": 0.001}\n",
    "    optimizer = pyro.optim.Adam(adam_params)\n",
    "    svi = SVI(model, guide, optimizer, loss=Trace_ELBO())\n",
    "    n_steps = 100\n",
    "    pro = FloatProgress(min=0, max=n_steps-1)\n",
    "    display(pro)\n",
    "    for step in range(n_steps):\n",
    "        loss = svi.step(data)\n",
    "        tem_loss.append(loss)\n",
    "        pro.value += 1\n",
    "        pro.description = str(step)\n",
    "    all_motif.append(tem_motif)\n",
    "    tem = min(tem_loss)\n",
    "    all_loss.append(tem_loss)\n",
    "    if tem < min_loss:\n",
    "        min_loss = tem\n",
    "        best_ite = ite\n",
    "        fin_motif = tem_motif"
   ]
  },
  {
   "cell_type": "code",
   "execution_count": 3,
   "metadata": {},
   "outputs": [
    {
     "name": "stdout",
     "output_type": "stream",
     "text": [
      "0\n",
      "[1832995877.21875, 1916147277.0615234, 1825472676.7597656, 1810063817.0375977, 1807087420.8632812, 1846992822.362793, 1846792867.815918, 1830245978.5268555, 1812904636.9663086, 1792021717.4555664, 1768726694.644043, 1803890266.2299805, 1777965260.150879, 1792225154.7983398, 1772561031.211914, 1808427303.0805664, 1799664403.125, 1722173450.791504, 1728131817.5595703, 1740594239.4243164, 1744015441.484375, 1731394959.2543945, 1682220576.9838867, 1689420646.9638672, 1710853236.097168, 1671467690.7114258, 1661648491.7905273, 1671782571.2050781, 1645194187.743164, 1663232767.7436523, 1616087684.7944336, 1645701942.317871, 1628685306.0473633, 1614150266.3339844, 1625763481.6645508, 1620632312.6870117, 1638674671.6430664, 1583497075.5341797, 1573957861.387207, 1569680897.5751953, 1599913507.739746, 1636767598.1445312, 1565523109.25, 1571589151.0322266, 1615039377.6577148, 1561973519.3417969, 1584704980.0952148, 1566697140.883789, 1578247670.2734375, 1560017650.307129, 1579495239.2485352, 1526021561.7329102, 1559339890.6801758, 1550011733.0249023, 1533984984.6948242, 1507824208.3154297, 1543785035.0742188, 1529552973.7875977, 1491922330.4199219, 1503402799.2871094, 1526449789.3779297, 1514904736.2456055, 1500671731.0356445, 1488170441.9746094, 1488325534.815918, 1475069149.3842773, 1476286967.793457, 1465532130.0498047, 1505161802.9814453, 1451747501.5449219, 1437200249.9907227, 1473066935.8486328, 1470709508.7104492, 1435731356.7802734, 1446148113.604004, 1438029974.8110352, 1449920353.979004, 1465883101.2407227, 1447293376.4399414, 1455444317.9145508, 1436604165.3291016, 1425060847.6625977, 1419409919.4174805, 1439574920.8686523, 1437272269.1313477, 1412239311.1801758, 1408941906.130371, 1431276598.7978516, 1403831057.7368164, 1400724831.8222656, 1397031272.8339844, 1447180685.1264648, 1398912287.3134766, 1402034436.0922852, 1379086063.3095703, 1381841206.5200195, 1398085153.7797852, 1393202550.9326172, 1338760801.8759766, 1403606987.5913086]\n"
     ]
    }
   ],
   "source": [
    "print(best_ite)\n",
    "print(all_loss[best_ite])"
   ]
  },
  {
   "cell_type": "code",
   "execution_count": 10,
   "metadata": {},
   "outputs": [
    {
     "name": "stdout",
     "output_type": "stream",
     "text": [
      "38\n"
     ]
    }
   ],
   "source": [
    "print(len(all_motif))"
   ]
  },
  {
   "cell_type": "code",
   "execution_count": 4,
   "metadata": {},
   "outputs": [
    {
     "name": "stdout",
     "output_type": "stream",
     "text": [
      "torch.Size([20, 25])\n"
     ]
    }
   ],
   "source": [
    "# a = all_motif[3].detach().cpu().numpy()\n",
    "# plt.imshow(a[0][0])\n",
    "cmp_motif = np.array(all_motif[0])\n",
    "print(cmp_motif[0][0][0].shape)"
   ]
  },
  {
   "cell_type": "code",
   "execution_count": 5,
   "metadata": {},
   "outputs": [
    {
     "data": {
      "text/plain": [
       "<matplotlib.image.AxesImage at 0x1d608481908>"
      ]
     },
     "execution_count": 5,
     "metadata": {},
     "output_type": "execute_result"
    },
    {
     "data": {
      "image/png": "[encoded data removed]",
      "text/plain": [
       "<Figure size 432x288 with 1 Axes>"
      ]
     },
     "metadata": {
      "needs_background": "light"
     },
     "output_type": "display_data"
    }
   ],
   "source": [
    "plt.imshow(cmp_motif[99][0][0].detach().cpu().numpy())"
   ]
  },
  {
   "cell_type": "code",
   "execution_count": 53,
   "metadata": {},
   "outputs": [
    {
     "data": {
      "text/plain": [
       "<matplotlib.image.AxesImage at 0x1cf4db38a90>"
      ]
     },
     "execution_count": 53,
     "metadata": {},
     "output_type": "execute_result"
    },
    {
     "data": {
      "image/png": "[encoded data removed]",
      "text/plain": [
       "<Figure size 864x504 with 1 Axes>"
      ]
     },
     "metadata": {
      "needs_background": "light"
     },
     "output_type": "display_data"
    }
   ],
   "source": [
    "plt.imshow(motifs[0,0,:,:].cpu())"
   ]
  },
  {
   "cell_type": "code",
   "execution_count": 6,
   "metadata": {},
   "outputs": [],
   "source": [
    "def cal_median_KL(i):\n",
    "    KL = []\n",
    "#     infer_motif0 = infer_motif[0,0,:,:]cmp_motif[99][1][0].detach().cpu().numpy()\n",
    "#     infer_motif1 = infer_motif[1,0,:,:]\n",
    "#     infer_motif2 = infer_motif[2,0,:,:]\n",
    "    infer_motif0 = cmp_motif[i][0][0].detach().cpu().numpy()\n",
    "    infer_motif1 = cmp_motif[i][1][0].detach().cpu().numpy()\n",
    "    infer_motif2 = cmp_motif[i][2][0].detach().cpu().numpy()\n",
    "    \n",
    "    norm_infer_motif0 = infer_motif0/infer_motif0.sum()\n",
    "    norm_infer_motif1 = infer_motif2/infer_motif2.sum()\n",
    "    norm_infer_motif2 = infer_motif1/infer_motif1.sum()\n",
    "    normalizer = 0\n",
    "    for n in range(nz):\n",
    "        temKL = 0\n",
    "        real_motif = motifs[n,0,:,:].cpu()\n",
    "        norm_real_motif = real_motif/real_motif.sum()\n",
    "        for i in range(nw):\n",
    "            for j in  range(ntr):\n",
    "                if norm_real_motif[i,j] == 0:\n",
    "                    temKL += 0\n",
    "                else:\n",
    "                    normalizer += norm_real_motif[i,j] +  locals()['norm_infer_motif'+str(n)][i,j]\n",
    "                    temKL += norm_real_motif[i,j] * (np.log(norm_real_motif[i,j]/ locals()['norm_infer_motif'+str(n)][i,j]))\n",
    "        temKL = temKL/normalizer\n",
    "        KL.append(temKL)\n",
    "    print(min(KL))\n",
    "    mean_KL = np.sum(KL)/nz\n",
    "#     print(mean_KL)\n",
    "    return mean_KL"
   ]
  },
  {
   "cell_type": "code",
   "execution_count": 7,
   "metadata": {},
   "outputs": [
    {
     "name": "stdout",
     "output_type": "stream",
     "text": [
      "tensor(0.3426)\n",
      "tensor(0.3413)\n",
      "tensor(0.3401)\n",
      "tensor(0.3390)\n",
      "tensor(0.3379)\n",
      "tensor(0.3368)\n",
      "tensor(0.3356)\n",
      "tensor(0.3345)\n",
      "tensor(0.3334)\n",
      "tensor(0.3323)\n",
      "tensor(0.3313)\n",
      "tensor(0.3302)\n",
      "tensor(0.3292)\n",
      "tensor(0.3282)\n",
      "tensor(0.3272)\n",
      "tensor(0.3262)\n",
      "tensor(0.3252)\n",
      "tensor(0.3243)\n",
      "tensor(0.3233)\n",
      "tensor(0.3224)\n",
      "tensor(0.3215)\n",
      "tensor(0.3206)\n",
      "tensor(0.3198)\n",
      "tensor(0.3189)\n",
      "tensor(0.3180)\n",
      "tensor(0.3172)\n",
      "tensor(0.3163)\n",
      "tensor(0.3154)\n",
      "tensor(0.3145)\n",
      "tensor(0.3136)\n",
      "tensor(0.3128)\n",
      "tensor(0.3120)\n",
      "tensor(0.3112)\n",
      "tensor(0.3105)\n",
      "tensor(0.3098)\n",
      "tensor(0.3090)\n",
      "tensor(0.3083)\n",
      "tensor(0.3075)\n",
      "tensor(0.3068)\n",
      "tensor(0.3061)\n",
      "tensor(0.3055)\n",
      "tensor(0.3048)\n",
      "tensor(0.3042)\n",
      "tensor(0.3036)\n",
      "tensor(0.3030)\n",
      "tensor(0.3024)\n",
      "tensor(0.3017)\n",
      "tensor(0.3011)\n",
      "tensor(0.3005)\n",
      "tensor(0.2999)\n",
      "tensor(0.2992)\n",
      "tensor(0.2986)\n",
      "tensor(0.2981)\n",
      "tensor(0.2975)\n",
      "tensor(0.2969)\n",
      "tensor(0.2963)\n",
      "tensor(0.2958)\n",
      "tensor(0.2952)\n",
      "tensor(0.2946)\n",
      "tensor(0.2941)\n",
      "tensor(0.2935)\n",
      "tensor(0.2929)\n",
      "tensor(0.2924)\n",
      "tensor(0.2919)\n",
      "tensor(0.2913)\n",
      "tensor(0.2908)\n",
      "tensor(0.2903)\n",
      "tensor(0.2898)\n",
      "tensor(0.2892)\n",
      "tensor(0.2887)\n",
      "tensor(0.2882)\n",
      "tensor(0.2877)\n",
      "tensor(0.2871)\n",
      "tensor(0.2866)\n",
      "tensor(0.2861)\n",
      "tensor(0.2856)\n",
      "tensor(0.2851)\n",
      "tensor(0.2845)\n",
      "tensor(0.2840)\n",
      "tensor(0.2835)\n",
      "tensor(0.2831)\n",
      "tensor(0.2826)\n",
      "tensor(0.2821)\n",
      "tensor(0.2816)\n",
      "tensor(0.2811)\n",
      "tensor(0.2806)\n",
      "tensor(0.2800)\n",
      "tensor(0.2795)\n",
      "tensor(0.2791)\n",
      "tensor(0.2786)\n",
      "tensor(0.2781)\n",
      "tensor(0.2776)\n",
      "tensor(0.2771)\n",
      "tensor(0.2767)\n",
      "tensor(0.2762)\n",
      "tensor(0.2758)\n",
      "tensor(0.2753)\n",
      "tensor(0.2749)\n",
      "tensor(0.2744)\n",
      "tensor(0.2739)\n"
     ]
    }
   ],
   "source": [
    "final_data = []\n",
    "for i in range(n_steps):\n",
    "#     tem = tem_motif[i]\n",
    "#     tem = tem.cpu().detach().numpy()\n",
    "    tem_rec = cal_median_KL(i)\n",
    "    final_data.append(tem_rec.item())"
   ]
  },
  {
   "cell_type": "code",
   "execution_count": 46,
   "metadata": {},
   "outputs": [
    {
     "name": "stdout",
     "output_type": "stream",
     "text": [
      "[0.7753310998280843, 0.7341970602671305, 0.7016337712605795, 0.6735880374908447, 0.6492435137430826, 0.6285802125930786, 0.6094366312026978, 0.5925114154815674, 0.5769228537877401, 0.5620941321055094, 0.5478248596191406, 0.5343217452367147, 0.521788756052653, 0.5102002620697021, 0.4989885091781616, 0.4888194799423218, 0.478527029355367, 0.468228022257487, 0.4581446647644043, 0.44800670941670734, 0.43833446502685547, 0.42993215719858807, 0.42182616392771405, 0.41434888044993085, 0.40773220856984455, 0.4005250930786133, 0.3940337498982747, 0.3878006140391032, 0.38218581676483154, 0.3769822915395101, 0.37210480372111004, 0.3678118387858073, 0.36373404661814374, 0.36025623480478924, 0.3572208881378174, 0.3543074131011963, 0.35163986682891846, 0.3494799534479777, 0.3472521702448527, 0.3454253673553467, 0.34398603439331055, 0.34285855293273926, 0.3421434164047241, 0.34187499682108563, 0.3421730597813924, 0.3426351547241211, 0.34348992506663006, 0.3446619510650635, 0.34631407260894775, 0.34807825088500977, 0.3498632510503133, 0.35133516788482666, 0.35265930493672687, 0.3537346124649048, 0.3544664780298869, 0.35463114579518634, 0.3541110356648763, 0.3530972401301066, 0.35135122140248615, 0.3490320046742757, 0.34616891543070477, 0.34296031792958576, 0.33934541543324787, 0.3354894717534383, 0.3312360445658366, 0.32669196526209515, 0.3220963676770528, 0.317426860332489, 0.3127318819363912, 0.3082149823506673, 0.30380727847417194, 0.2995274265607198, 0.29524407784144086, 0.29107656081517536, 0.287003497282664, 0.2829850912094116, 0.2791110674540202, 0.27508817116419476, 0.27096688747406006, 0.2667493224143982, 0.26233919461568195, 0.2578335801760356, 0.2531620462735494, 0.24817691246668497, 0.24303054809570312, 0.2379289666811625, 0.23281766970952353, 0.22784705956776938, 0.22299695014953613, 0.21823342641194662, 0.21365390221277872, 0.20936385790506998, 0.20543299118677774, 0.20174644390741983, 0.19834127028783163, 0.19522053003311157, 0.19232014815012613, 0.18969170252482095, 0.18720887104670206, 0.18478381633758545]\n"
     ]
    }
   ],
   "source": [
    "print(final_data)"
   ]
  },
  {
   "cell_type": "code",
   "execution_count": null,
   "metadata": {},
   "outputs": [],
   "source": []
  },
  {
   "cell_type": "code",
   "execution_count": null,
   "metadata": {},
   "outputs": [],
   "source": []
  },
  {
   "cell_type": "code",
   "execution_count": null,
   "metadata": {},
   "outputs": [],
   "source": []
  }
 ],
 "metadata": {
  "kernelspec": {
   "display_name": "Python 3",
   "language": "python",
   "name": "python3"
  },
  "language_info": {
   "codemirror_mode": {
    "name": "ipython",
    "version": 3
   },
   "file_extension": ".py",
   "mimetype": "text/x-python",
   "name": "python",
   "nbconvert_exporter": "python",
   "pygments_lexer": "ipython3",
   "version": "3.7.1"
  }
 },
 "nbformat": 4,
 "nbformat_minor": 2
}
