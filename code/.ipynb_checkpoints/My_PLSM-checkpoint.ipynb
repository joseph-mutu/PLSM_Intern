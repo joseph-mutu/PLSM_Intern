{
 "cells": [
  {
   "cell_type": "code",
   "execution_count": 2,
   "metadata": {},
   "outputs": [
    {
     "ename": "SyntaxError",
     "evalue": "invalid syntax (<ipython-input-2-76859be03552>, line 3)",
     "output_type": "error",
     "traceback": [
      "\u001b[1;36m  File \u001b[1;32m\"<ipython-input-2-76859be03552>\"\u001b[1;36m, line \u001b[1;32m3\u001b[0m\n\u001b[1;33m    jvmPath = ur'C:\\Program Files\\Java\\jre1.8.0_211\\bin\\server\\jvm.dll'\u001b[0m\n\u001b[1;37m                                                                      ^\u001b[0m\n\u001b[1;31mSyntaxError\u001b[0m\u001b[1;31m:\u001b[0m invalid syntax\n"
     ]
    }
   ],
   "source": [
    "import jpype\n",
    "# 启动JVM\n",
    "jvmPath = ur'C:\\Program Files\\Java\\jre1.8.0_211\\bin\\server\\jvm.dll'\n",
    "jpype.startJVM(jvmPath) \n",
    "# 加载jar包\n",
    "jpype.startJVM(a, \"-Djava.class.path=D:\\\\Study\\\\Jean Monnet\\\\Intern\\\\sequence-mining-master\\\\sequence-mining\\\\target\\\\sequence-mining-1.0.jar\")　　　　　　　\n",
    "# 指定main class\n",
    "# HanLP = JClass('com.hankcs.hanlp.HanLP')\n",
    ".SequenceMining \n",
    "JDClass = jpype.JClass(\"sequencemining.main.SequenceMining\")\n",
    "# 创建类实例对象\n",
    "jd = JDClass()\n",
    "result = jd(\"-i\", 100, \"-f\", \"example.dat\" ,\"-v\")\n",
    "print (result)\n",
    "# 关闭JVM\n",
    "jpype.shutdownJVM()"
   ]
  },
  {
   "cell_type": "code",
   "execution_count": 1,
   "metadata": {},
   "outputs": [],
   "source": [
    "from __future__ import print_function\n",
    "import math\n",
    "import matplotlib.cm as cm\n",
    "from matplotlib import pyplot as plt\n",
    "\n",
    "# ADD: for the nice progress bar\n",
    "from ipywidgets import FloatProgress\n",
    "from IPython.display import display\n",
    "\n",
    "import numpy as np\n",
    "from PIL import Image\n",
    "from PIL import ImageDraw\n",
    "from PIL import ImageFont\n",
    "from random import randint\n",
    "\n",
    "\n",
    "import numpy as np\n",
    "import torch\n",
    "import torch.nn.functional as F\n",
    "from torch.autograd import Variable\n",
    "import pyro\n",
    "from pyro.optim import Adam\n",
    "from pyro.infer import SVI\n",
    "import pyro.distributions as pdist\n",
    "import torch.distributions as tdist\n",
    "import torch.distributions.constraints as constraints\n",
    "import pyro.infer\n",
    "from pyro.infer import SVI, Trace_ELBO\n",
    "import pyro.optim\n",
    "\n",
    "%matplotlib inline\n",
    "# # import some dependencies\n",
    "# try:\n",
    "#     import seaborn as sns\n",
    "#     sns.set()\n",
    "# except ImportError:\n",
    "#     pass\n",
    "\n",
    "torch.manual_seed(101)\n",
    "\n",
    "# from IPython.core.debugger import set_trace\n",
    "# softplus = torch.nn.Softplus()\n",
    "nw = 20  # number of words 25\n",
    "ntr = 40  # number of relative times in a motif 70\n",
    "nd = 2  # number of documents \n",
    "Td= 100 # number of time period\n",
    "nz = 3"
   ]
  },
  {
   "cell_type": "code",
   "execution_count": 2,
   "metadata": {},
   "outputs": [],
   "source": [
    "# ADD: change figure size\n",
    "plt.rc('figure', figsize=(12.0, 7.0))"
   ]
  },
  {
   "cell_type": "code",
   "execution_count": 3,
   "metadata": {},
   "outputs": [],
   "source": [
    "def get_size(txt, font):\n",
    "    test_img = Image.new('L', (1, 1))\n",
    "    test_draw = ImageDraw.Draw(test_img)\n",
    "    return test_draw.textsize(txt, font)\n",
    "\n",
    "def string_to_matrix(s, fontname, fontsize, nw, ntr):\n",
    "    # Define the Text Color and the Background\n",
    "    color_text = \"White\"\n",
    "    color_background = \"Black\"\n",
    "    # Define the image font and resize the nword in a rectangle that suit it\n",
    "    text = s\n",
    "    font = ImageFont.truetype(fontname, fontsize)\n",
    "    width, height = get_size(text, font)\n",
    "    img = Image.new('L', (ntr, nw), color_background)\n",
    "    d = ImageDraw.Draw(img)\n",
    "    d.text((3, height / 10), text, fill=color_text, font=font)\n",
    "    #d.rectangle((0, 0, width, height))\n",
    "    path = 'Image_' + text + '.png'\n",
    "    img.save(path)\n",
    "    im = Image.open(path).convert('L')\n",
    "    motif = np.asarray(im, np.float32)  # Motif Matrix\n",
    "    return motif\n",
    "\n",
    "# motifs_as_string = [\"eggplop\", \"eggnog\", \"eggplant\", \"banana\", \"apple\"]\n",
    "motifs_as_string = [\"wyx\", \"juice\",\"HJQ\"]\n",
    "\n",
    "# ADD: a variable with the ground-truth number of motifs\n",
    "nz0 = len(motifs_as_string)\n",
    "\n",
    "fontname = 'JennaSue.ttf'\n",
    "fontsize = 20\n",
    "\n",
    "motifs_as_matrix = [string_to_matrix(st, fontname, fontsize, nw, ntr) for st in motifs_as_string]\n",
    "\n",
    "# CHANGE: simplified using\n",
    "motifs = torch.stack([ torch.tensor(m[np.newaxis, :, :]) for m in motifs_as_matrix ], 0).cuda()"
   ]
  },
  {
   "cell_type": "code",
   "execution_count": 4,
   "metadata": {},
   "outputs": [],
   "source": [
    "# ADD: number of documents\n",
    "\n",
    "z = torch.zeros(nd,nz0,1,Td).cuda()\n",
    "# z[0,0,0,1]=1\n",
    "# z[0,1,0,50]=1\n",
    "# z[0,2,0,70]=1\n",
    "# z[0,3,0,120]=1\n",
    "# z[0,4,0,160]=1\n",
    "\n",
    "# z[1,0,0,25]=1\n",
    "# z[1,1,0,50]=1\n",
    "# z[1,2,0,80]=1\n",
    "# z[1,3,0,120]=1\n",
    "# z[1,4,0,140]=1\n",
    "\n",
    "# z[2,0,0,0]=1\n",
    "# z[2,1,0,60]=1\n",
    "# z[2,2,0,90]=1\n",
    "# z[2,3,0,120]=1\n",
    "# z[2,4,0,130]=1\n",
    "\n",
    "# z[3,0,0,160]=1\n",
    "# z[3,1,0,0]=1\n",
    "# z[3,2,0,70]=1\n",
    "# z[3,3,0,50]=1\n",
    "# z[3,4,0,20]=1\n",
    "\n",
    "# z[4,0,0,160]=1\n",
    "# z[4,1,0,120]=1\n",
    "# z[4,2,0,70]=1\n",
    "# z[4,3,0,20]=1\n",
    "# z[4,4,0,0]=1\n",
    "#============================================\n",
    "# z[0,0,0,128]=1\n",
    "z[0,1,0,32]=1\n",
    "# z[0,2,0,90]=1\n",
    "z[0,1,0,99]=1\n",
    "z[0,2,0,58]=1\n",
    "# z[0,0,0,31]=1\n",
    "\n",
    "# z[1,1,0,24]=1\n",
    "z[1,2,0,60]=1\n",
    "z[1,1,0,99]=1\n",
    "z[1,0,0,10]=1\n",
    "\n",
    "# z[0,0,0,12]=1\n",
    "# z[0,1,0,3]=1\n",
    "\n",
    "\n",
    "# z[1,1,0,2]=1\n",
    "# z[1,1,0,14]=1\n",
    "\n",
    "\n",
    "\n",
    "\n",
    "# z[0,0,0,128]=1\n",
    "# z[0,1,0,100]=1\n",
    "# z[0,2,0,57]=1\n",
    "\n",
    "# z[1,0,0,24]=1\n",
    "# z[1,1,0,87]=1\n",
    "# z[1,2,0,154]=1\n",
    "\n",
    "# z[2,0,0,0]=1\n",
    "# z[2,1,0,3]=1\n",
    "# z[2,2,0,14]=1\n",
    "\n",
    "# z[3,0,0,16]=1\n",
    "# z[3,1,0,23]=1\n",
    "# z[3,2,0,37]=1\n",
    "\n",
    "# z[4,2,0,29]=1\n",
    "# z[4,3,0,20]=1\n",
    "# z[4,4,0,11]=1\n",
    "\n",
    "\n",
    "# ADD: after 5 doc, fill with random draws\n",
    "# for i in range(5, nd):\n",
    "#     ri = np.random.randint\n",
    "#     for j in range(2+ri(8)):\n",
    "#         z[i,ri(5),0,ri(Td)] = 1"
   ]
  },
  {
   "cell_type": "code",
   "execution_count": 5,
   "metadata": {},
   "outputs": [
    {
     "name": "stdout",
     "output_type": "stream",
     "text": [
      "torch.Size([2, 1, 20, 139])\n",
      "tensor(83876., device='cuda:0')\n"
     ]
    }
   ],
   "source": [
    "# CHANGE: rename to avoid conflict with a defined variable later\n",
    "p_w_ta_d0 = F.conv_transpose2d(z,motifs).cuda()\n",
    "# CHANGE: use (-1) as a shape to let it infer the size\n",
    "print(p_w_ta_d0.shape)\n",
    "p_w_ta_d0 = p_w_ta_d0.view(-1)\n",
    "\n",
    "# CHANGE: don't sample but rather \"get the average\"\n",
    "data = 1 * p_w_ta_d0\n",
    "N = data.sum()\n",
    "print(N)\n",
    "## CHANGE: use a variable for the number of words\n",
    "#N = 5000\n",
    "#data = pdist.Multinomial(5000,probs=p_w_ta_d0).sample()"
   ]
  },
  {
   "cell_type": "code",
   "execution_count": 6,
   "metadata": {},
   "outputs": [],
   "source": [
    "# generate document with Gaussian noisy points\n",
    "def noisy_doc(data):\n",
    "    s1,s2 = int(len(data)/ (Td+ntr-1)), int(Td+ntr-1)\n",
    "    means=torch.zeros(s1,s2)\n",
    "    std = torch.ones(s1,s2)\n",
    "    sigma = 15\n",
    "    std = std*sigma\n",
    "    noise = torch.normal(means, std).cuda()\n",
    "    nnoise = noise.cpu().numpy()\n",
    "    noisy_data = torch.from_numpy(data.cpu().numpy() + nnoise.reshape(1,-1)).cuda()\n",
    "    return noisy_data"
   ]
  },
  {
   "cell_type": "code",
   "execution_count": 7,
   "metadata": {},
   "outputs": [],
   "source": [
    "#Add noise into data and show the docs\n",
    "# tem_data = noisy_doc(data)[0]\n",
    "# tem_data = torch.abs(torch.ceil(tem_data))\n",
    "# plt.imshow(tem_data.reshape(-1, Td+ntr-1).cpu())\n",
    "# data = tem_data\n",
    "# print(data)"
   ]
  },
  {
   "cell_type": "code",
   "execution_count": 8,
   "metadata": {
    "scrolled": false
   },
   "outputs": [
    {
     "data": {
      "text/plain": [
       "<matplotlib.image.AxesImage at 0x26c010e3780>"
      ]
     },
     "execution_count": 8,
     "metadata": {},
     "output_type": "execute_result"
    },
    {
     "data": {
      "image/png": "[encoded data removed]",
      "text/plain": [
       "<Figure size 864x504 with 1 Axes>"
      ]
     },
     "metadata": {
      "needs_background": "light"
     },
     "output_type": "display_data"
    }
   ],
   "source": [
    "#Show the docs\n",
    "plt.imshow(data.reshape(-1, Td+ntr-1).cpu())"
   ]
  },
  {
   "cell_type": "code",
   "execution_count": 9,
   "metadata": {},
   "outputs": [
    {
     "name": "stdout",
     "output_type": "stream",
     "text": [
      "torch.Size([40, 139])\n"
     ]
    }
   ],
   "source": [
    "print(data.reshape(-1,Td+ntr-1).shape)"
   ]
  },
  {
   "cell_type": "code",
   "execution_count": 10,
   "metadata": {},
   "outputs": [
    {
     "name": "stdout",
     "output_type": "stream",
     "text": [
      "[3, 4]\n"
     ]
    }
   ],
   "source": [
    "a = [1,2,3,4,5,3,2,1,4]\n",
    "print(a[2:4])"
   ]
  },
  {
   "cell_type": "code",
   "execution_count": 9,
   "metadata": {
    "scrolled": true
   },
   "outputs": [
    {
     "name": "stdout",
     "output_type": "stream",
     "text": [
      "0\n",
      "20\n",
      "40\n",
      "60\n",
      "80\n",
      "0\n",
      "20\n",
      "40\n",
      "60\n",
      "80\n"
     ]
    }
   ],
   "source": [
    "# java -jar sequence-mining/target/sequence-mining-1.0.jar -i 600 -f ism_data.dat -v \n",
    "def save_ism_data(data):\n",
    "#     np.set_printoptions(threshold=np.inf)\n",
    "    ism_data = data.reshape(-1,Td+ntr-1).cpu().numpy()\n",
    "    non_num_data = ism_data\n",
    "    for i in range(ism_data.shape[0]):\n",
    "        non_num_data[i,:] = np.where(ism_data[i,:]>0,i+1 if i <20 else i-19,0)\n",
    "    ism_seq = []\n",
    "    step =20\n",
    "    # Change the number in the data martirx into index number.\n",
    "    # Ignore its real value, only record if it apperas or not\n",
    "    for i in range(nd):\n",
    "        cur_col = 0\n",
    "        start_raw = i*nw\n",
    "        while cur_col < (non_num_data.shape[1] - ntr + 1):\n",
    "            print(cur_col)\n",
    "            tem = non_num_data[start_raw:start_raw+nw,cur_col:cur_col+ntr].reshape(-1,nw*ntr,order = 'F')\n",
    "    #         print(tem)\n",
    "            tem_index_pos = np.where(tem>0)\n",
    "            ism_seq.append(tem[:,tem_index_pos[1]])\n",
    "            cur_col += step\n",
    "    with open(\"D:\\Study\\Jean Monnet\\Intern\\Model\\sequence-mining-master\\ism_data.dat\",\"w\") as file:\n",
    "        file.truncate()\n",
    "        for i in range(len(ism_seq)):\n",
    "            if len(ism_seq[i][0]) != 0:\n",
    "                tem_str = ism_seq[i][0].astype(int).astype(str).tolist()\n",
    "                file.write(\" -1 \".join(tem_str))\n",
    "                file.write(' -2\\n')\n",
    "    file.close()\n",
    "    return non_num_data\n",
    "non_num_data= save_ism_data(data)"
   ]
  },
  {
   "cell_type": "code",
   "execution_count": 11,
   "metadata": {},
   "outputs": [],
   "source": [
    "def search_pattern(data,pattern,cur_col,cur_raw):\n",
    "    data = data\n",
    "    pattern = pattern\n",
    "    global pattern_cor,pattern_index,pattern_cor_in_data\n",
    "    for i in range(len(pattern)):\n",
    "        if pattern_index[i] == 1:\n",
    "            print(\"pattern\",pattern[i],\"is found in other matrix\",\"cur i is\",i)\n",
    "            continue\n",
    "        tem_pattern = pattern[i]\n",
    "        end_count = 0\n",
    "        cor_rec = []\n",
    "        cor_rec_in_data = []\n",
    "        for x in tem_pattern:\n",
    "            tem_cor = np.where(data == x)\n",
    "            if len(tem_cor[0]) == 0:\n",
    "                print(\"current pattern\",tem_pattern,\"is not found\")\n",
    "                break\n",
    "            else:\n",
    "                end_count += 1\n",
    "                cor_rec.append([tem_cor[0][0],tem_cor[1][0]])\n",
    "                cor_rec_in_data.append([tem_cor[0][0]+cur_raw,tem_cor[1][0]+cur_col])\n",
    "                if end_count == len(tem_pattern):\n",
    "                    pattern_index[i] = 1\n",
    "                    pattern_cor[i] = cor_rec\n",
    "                    pattern_cor_in_data[i] = cor_rec_in_data\n",
    "                    print(\"current pattern \",tem_pattern,\"is found in\")\n",
    "#                     print(data)\n",
    "#     print(pattern_cor)"
   ]
  },
  {
   "cell_type": "code",
   "execution_count": 12,
   "metadata": {
    "scrolled": true
   },
   "outputs": [
    {
     "name": "stdout",
     "output_type": "stream",
     "text": [
      "current pattern [10, 6, 7] is not found\n",
      "current pattern  [11, 18] is found in\n",
      "current pattern [8, 9] is not found\n",
      "current pattern [10, 6, 7] is not found\n",
      "pattern [11, 18] is found in other matrix cur i is 1\n",
      "current pattern [8, 9] is not found\n",
      "current pattern  [10, 6, 7] is found in\n",
      "pattern [11, 18] is found in other matrix cur i is 1\n",
      "current pattern  [8, 9] is found in\n",
      "all patterns are found\n"
     ]
    }
   ],
   "source": [
    "# Based on the results that returns by ISM, to search for the similar pattern in the original pattern\n",
    "pattern = [[10, 6, 7],[11, 18],[8, 9]]\n",
    "pattern_index = np.zeros((len(pattern)))\n",
    "cur_raw = 0\n",
    "step = 20\n",
    "tem_pattern = pattern[0]\n",
    "pattern_index = np.zeros((len(pattern)))\n",
    "pattern_cor = [-1 for i in range(len(pattern))]\n",
    "pattern_cor_in_data = [-1 for i in range(len(pattern))]\n",
    "\n",
    "for i in range(nd):\n",
    "    cur_raw = i*nw\n",
    "    cur_col = 0\n",
    "    while cur_col <= (non_num_data.shape[1] - ntr - 1):\n",
    "        tem = non_num_data[cur_raw:cur_raw+nw,cur_col:cur_col+ntr]\n",
    "        search_pattern(tem,pattern,cur_col,cur_raw)\n",
    "        if np.sum(pattern_index).astype(int) == len(pattern):\n",
    "            print(\"all patterns are found\")\n",
    "            break\n",
    "        cur_col += step\n",
    "    if np.sum(pattern_index).astype(int) == len(pattern):\n",
    "        break"
   ]
  },
  {
   "cell_type": "code",
   "execution_count": 21,
   "metadata": {},
   "outputs": [
    {
     "name": "stdout",
     "output_type": "stream",
     "text": [
      "[[[9, 3], [5, 22], [6, 22]], [[10, 36], [17, 34]], [[7, 22], [8, 3]]]\n",
      "[[[9, 43], [5, 62], [6, 62]], [[10, 36], [17, 34]], [[7, 62], [8, 43]]]\n"
     ]
    }
   ],
   "source": [
    "print(pattern_cor)\n",
    "print(pattern_cor_in_data)"
   ]
  },
  {
   "cell_type": "code",
   "execution_count": 12,
   "metadata": {
    "scrolled": true
   },
   "outputs": [
    {
     "name": "stdout",
     "output_type": "stream",
     "text": [
      "(40, 139)\n"
     ]
    }
   ],
   "source": [
    "ism_data = data.reshape(-1,Td+ntr-1).cpu().numpy()\n",
    "print(ism_data.shape)"
   ]
  },
  {
   "cell_type": "code",
   "execution_count": 19,
   "metadata": {},
   "outputs": [
    {
     "name": "stdout",
     "output_type": "stream",
     "text": [
      "20 40\n"
     ]
    }
   ],
   "source": [
    "print(nw,ntr)"
   ]
  },
  {
   "cell_type": "code",
   "execution_count": 13,
   "metadata": {},
   "outputs": [],
   "source": [
    "initial_motif = np.ones((nz,1,nw,ntr))\n",
    "ism_data = data.reshape(-1,Td+ntr-1).cpu().numpy()\n",
    "# reconstruct motif based on the corresponding pattern found in the original data\n",
    "for i in range(len(pattern)):\n",
    "    tem_cor = pattern_cor[i]\n",
    "    tem_cor_in_data = pattern_cor_in_data[i]\n",
    "    for j in range(len(tem_cor)):\n",
    "        initial_motif[i,0,tem_cor[j][0],tem_cor[j][1]] = ism_data[tem_cor_in_data[j][0],tem_cor_in_data[j][1]]\n",
    "initial_motif = torch.from_numpy(initial_motif).cuda()\n",
    "initial_motif = initial_motif.type_as(torch.ones(nd,nz,1,Td).cuda())"
   ]
  },
  {
   "cell_type": "code",
   "execution_count": 10,
   "metadata": {},
   "outputs": [],
   "source": [
    "# def save_ism_data(data):\n",
    "#     # transform data into ISM format. The input is the document data\n",
    "#     ism_data = data.reshape(-1,Td+ntr-1).cpu().numpy()\n",
    "#     ism_data = ism_data.astype(np.int32)\n",
    "#     tem_one = np.full((40,1),-2).reshape(40,-1).astype(np.int32)\n",
    "#     ism_data = np.concatenate((ism_data,tem_one),axis = 1)\n",
    "#     print(ism_data.shape)\n",
    "#     print(ism_data)\n",
    "#     np.savetxt('ism_data.dat',ism_data,fmt='%d',delimiter = \" -1 \")"
   ]
  },
  {
   "cell_type": "code",
   "execution_count": 45,
   "metadata": {
    "scrolled": false
   },
   "outputs": [],
   "source": [
    "# Save the docs into special format for ISM to process \n",
    "# ism_data = data.reshape(-1,Td+ntr-1).cpu().numpy()\n",
    "# ism_data = ism_data.astype(np.int32)\n",
    "\n",
    "# ism_data = np.concatenate((ism_data,np.full((ism_data.shape[0],1),-2).astype(np.int32)),axis = 1)\n",
    "\n",
    "# print(ism_data.shape)\n",
    "# print(ism_data)\n",
    "# np.savetxt('D:\\Study\\Jean Monnet\\Intern\\Model\\sequence-mining-master/ism_data.dat',ism_data,fmt='%d',delimiter = \" -1 \")\n"
   ]
  },
  {
   "cell_type": "code",
   "execution_count": 51,
   "metadata": {},
   "outputs": [
    {
     "name": "stdout",
     "output_type": "stream",
     "text": [
      "torch.float32\n",
      "torch.float32\n",
      "torch.float32\n",
      "torch.float32\n",
      "torch.float32\n"
     ]
    }
   ],
   "source": [
    "s0 = (nd, nz, 1, Td)\n",
    "s1 = (nz, 1, nw, ntr)\n",
    "alpha0 = torch.ones(*s0).cuda()\n",
    "alpha1 = torch.ones(*s1).cuda()\n",
    "z = pyro.sample(\"latent0\", pdist.Dirichlet(concentration=alpha0.view(nd, -1)))\n",
    "motifs = pyro.sample(\"latent1\", pdist.Dirichlet(concentration=alpha1.view(nz, -1)))\n",
    "print(z.dtype)\n",
    "print(motifs.dtype)\n",
    "z = z.reshape(*s0)\n",
    "motifs = motifs.reshape(*s1)\n",
    "print(z.dtype)\n",
    "print(motifs.dtype)\n",
    "t = F.conv_transpose2d(z,motifs)\n",
    "print(t.dtype)"
   ]
  },
  {
   "cell_type": "code",
   "execution_count": 57,
   "metadata": {},
   "outputs": [],
   "source": [
    "initial_motif = initial_motif.type_as(t)"
   ]
  },
  {
   "cell_type": "code",
   "execution_count": 58,
   "metadata": {},
   "outputs": [
    {
     "name": "stdout",
     "output_type": "stream",
     "text": [
      "torch.float32\n"
     ]
    }
   ],
   "source": [
    "print(initial_motif.dtype)"
   ]
  },
  {
   "cell_type": "code",
   "execution_count": 7,
   "metadata": {},
   "outputs": [],
   "source": [
    "def p_w_ta_d(z,motifs):\n",
    "#     print(z.dtype)\n",
    "#     print(motifs.dtype)\n",
    "    t = F.conv_transpose2d(z,motifs)\n",
    "    # CHANGE: use shape (-1) to auto-infer\n",
    "    return t.view(-1)"
   ]
  },
  {
   "cell_type": "code",
   "execution_count": 8,
   "metadata": {},
   "outputs": [],
   "source": [
    "pyro.clear_param_store()\n",
    "\n",
    "# ADD: introduce some variables\n",
    "prior0 = 0.1*N/nd / nz / Td\n",
    "prior1 = 0.1*N/nz / nw / ntr\n",
    "#randinit = 0\n",
    "\n",
    "def model(data):\n",
    "    s0 = (nd, nz, 1, Td)\n",
    "    s1 = (nz, 1, nw, ntr)\n",
    "    alpha0 = torch.ones(*s0).cuda()\n",
    "    alpha1 = torch.ones(*s1).cuda()\n",
    "    z = pyro.sample(\"latent0\", pdist.Dirichlet(concentration=alpha0.view(nd, -1)))\n",
    "    motifs = pyro.sample(\"latent1\", pdist.Dirichlet(concentration=alpha1.view(nz, -1)))\n",
    "\n",
    "    z = z.reshape(*s0)\n",
    "    motifs = motifs.reshape(*s1)\n",
    "#     print(len(data))\n",
    "#     print(z.dtype,motifs.dtype)\n",
    "    p = p_w_ta_d(z, motifs)\n",
    "#     print(p.dtype)\n",
    "    with pyro.iarange(\"data\", len(data)):\n",
    "        zts = pyro.sample(\"zts\", pdist.Categorical(probs=z))\n",
    "#         zts = pyro.sample(\"zts\", pdist.Multinomial(probs=z))\n",
    "#         print(zts)\n",
    "        pyro.sample(\"observe\", pdist.Multinomial(probs=p), obs=data)"
   ]
  },
  {
   "cell_type": "code",
   "execution_count": null,
   "metadata": {},
   "outputs": [],
   "source": [
    "# Give the initialization\n",
    "\n",
    "def guide(data):\n",
    "    qalpha0 = pyro.param(\"qalpha0\", torch.ones(nd,nz,1,Td).cuda(), constraint=constraints.positive) # z_ts table\n",
    "    qalpha1 = pyro.param(\"qalpha1\", initial_motif, constraint=constraints.positive) # motif\n",
    "    # CHANGE: use the fact that dirichlet can draw independant dirichlets\n",
    "    pyro.sample(\"latent0\",pdist.Dirichlet(concentration=qalpha0.view(nd, -1)))\n",
    "    pyro.sample(\"latent1\",pdist.Dirichlet(concentration=qalpha1.view(nz, -1)))"
   ]
  },
  {
   "cell_type": "code",
   "execution_count": 11,
   "metadata": {},
   "outputs": [],
   "source": [
    "# Using Non-informative prior distribution\n",
    "def guide(data):\n",
    "    qalpha0 = pyro.param(\"qalpha0\", torch.ones(nd,nz,1,Td).cuda(), constraint=constraints.positive) # z_ts table\n",
    "    qalpha1 = pyro.param(\"qalpha1\", torch.ones(nz,1,nw,ntr).cuda(), constraint=constraints.positive) # motif\n",
    "#     qalpha1 = pyro.param(\"qalpha1\", initial_motif, constraint=constraints.positive) # motif\n",
    "    # CHANGE: use the fact that dirichlet can draw independant dirichlets\n",
    "    pyro.sample(\"latent0\",pdist.Dirichlet(concentration=qalpha0.view(nd, -1)))\n",
    "    pyro.sample(\"latent1\",pdist.Dirichlet(concentration=qalpha1.view(nz, -1)))"
   ]
  },
  {
   "cell_type": "code",
   "execution_count": 12,
   "metadata": {},
   "outputs": [],
   "source": [
    "# CHANGE: change adam params\n",
    "adam_params = {\"lr\": 0.05}\n",
    "#adam_params = {\"lr\": 0.005, \"betas\": (0.9, 0.999)}\n",
    "optimizer = pyro.optim.Adam(adam_params)\n",
    "#optimizer = pyro.optim.SGD(adam_params)\n",
    "\n",
    "svi = SVI(model, guide, optimizer, loss=Trace_ELBO())"
   ]
  },
  {
   "cell_type": "code",
   "execution_count": 13,
   "metadata": {},
   "outputs": [
    {
     "data": {
      "application/vnd.jupyter.widget-view+json": {
       "model_id": "0d5c791d60fe4e43a0541c1a1084173c",
       "version_major": 2,
       "version_minor": 0
      },
      "text/plain": [
       "FloatProgress(value=0.0, max=99.0)"
      ]
     },
     "metadata": {},
     "output_type": "display_data"
    },
    {
     "name": "stdout",
     "output_type": "stream",
     "text": [
      "Wall time: 8.11 s\n"
     ]
    }
   ],
   "source": [
    "%%time\n",
    "n_steps = 300\n",
    "pro = FloatProgress(min=0, max=n_steps-1)\n",
    "display(pro)\n",
    "# data_cuda = data.cuda()\n",
    "\n",
    "for step in range(n_steps):\n",
    "    svi.step(data)\n",
    "    pro.value += 1\n",
    "    pro.description = str(step)\n",
    "    \n",
    "# CHANGE: change only at the end\n",
    "np.save(file=\"qalpha0\",arr=pyro.param(\"qalpha0\").detach().cpu().numpy())\n",
    "np.save(file=\"qalpha1\",arr=pyro.param(\"qalpha1\").detach().cpu().numpy())\n"
   ]
  },
  {
   "cell_type": "code",
   "execution_count": 15,
   "metadata": {},
   "outputs": [
    {
     "data": {
      "image/png": "[encoded data removed]",
      "text/plain": [
       "<Figure size 864x504 with 1 Axes>"
      ]
     },
     "metadata": {
      "needs_background": "light"
     },
     "output_type": "display_data"
    },
    {
     "name": "stdout",
     "output_type": "stream",
     "text": [
      "3715.0312\n",
      "4705.272\n",
      "4264.515\n"
     ]
    }
   ],
   "source": [
    "# ADD: quick plot before exhaustive plot\n",
    "loaded = np.load(\"qalpha1.npy\")\n",
    "plt.imshow( -loaded.reshape(-1, ntr), cmap=\"gray\")\n",
    "plt.show()\n",
    "\n",
    "for i in range(nz):\n",
    "    #plt.imshow(loaded[i].squeeze())\n",
    "    print(loaded[i].sum())\n",
    "    #plt.show()"
   ]
  },
  {
   "cell_type": "code",
   "execution_count": 19,
   "metadata": {},
   "outputs": [
    {
     "data": {
      "image/png": "[encoded data removed]",
      "text/plain": [
       "<Figure size 864x504 with 1 Axes>"
      ]
     },
     "metadata": {
      "needs_background": "light"
     },
     "output_type": "display_data"
    },
    {
     "name": "stdout",
     "output_type": "stream",
     "text": [
      "3812.3125\n",
      "4870.5396\n",
      "3096.1665\n"
     ]
    }
   ],
   "source": [
    "# ADD: quick plot before exhaustive plot\n",
    "loaded = np.load(\"qalpha1.npy\")\n",
    "plt.imshow( -loaded.reshape(-1, ntr), cmap=\"gray\")\n",
    "plt.show()\n",
    "\n",
    "for i in range(nz):\n",
    "    #plt.imshow(loaded[i].squeeze())\n",
    "    print(loaded[i].sum())\n",
    "    #plt.show()"
   ]
  },
  {
   "cell_type": "code",
   "execution_count": null,
   "metadata": {},
   "outputs": [],
   "source": []
  }
 ],
 "metadata": {
  "kernelspec": {
   "display_name": "Python 3",
   "language": "python",
   "name": "python3"
  },
  "language_info": {
   "codemirror_mode": {
    "name": "ipython",
    "version": 3
   },
   "file_extension": ".py",
   "mimetype": "text/x-python",
   "name": "python",
   "nbconvert_exporter": "python",
   "pygments_lexer": "ipython3",
   "version": "3.7.1"
  }
 },
 "nbformat": 4,
 "nbformat_minor": 2
}
