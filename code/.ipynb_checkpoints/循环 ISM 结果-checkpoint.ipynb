{
 "cells": [
  {
   "cell_type": "code",
   "execution_count": 1,
   "metadata": {
    "scrolled": true
   },
   "outputs": [],
   "source": [
    "from itertools import combinations, permutations\n",
    "from scipy.special import comb, perm\n",
    "seq0 = [[[265, 290], [270, 295], [275, 300], [260, 285], [255, 280], [259, 284], [269, 294], [264, 289], [274, 299], [320, 345], [310, 335], [325, 350], [163, 188], [168, 193], [180, 205], [185, 210], [190, 215], [195, 220], [332, 357], [337, 362], [342, 367], [157, 182], [158, 183], [305, 330], [327, 352], [347, 372], [88, 113], [116, 141], [121, 146], [152, 177], [153, 178], [173, 198], [176, 201, 226], [200, 225], [340, 365], [78, 103], [252, 277], [257, 282], [262, 287], [254, 279], [272, 297], [267, 292], [304, 329], [324, 348], [309, 334], [314, 339], [181, 206], [186, 211], [349, 374], [251, 276], [266, 291], [271, 296], [256, 281], [261, 286], [196, 221], [253, 278], [273, 298], [162, 187], [258, 283], [263, 288], [268, 293], [167, 192], [172, 197], [191, 216]],[[265, 290], [275, 300], [255, 280], [127, 152, 177], [163, 188, 281], [253, 303], [260, 285, 310], [273, 323, 366], [343, 367, 368], [58, 333], [68, 248], [153, 178], [200, 225], [254, 304], [257, 282, 307], [109, 207, 385], [259, 284], [137, 162, 187], [147, 172, 197], [237, 285, 310], [231, 256, 306], [263, 313], [261, 286], [271, 296], [295, 320], [155, 180], [190, 215], [230, 305], [264, 314], [270, 295, 320], [274, 324], [250, 325], [240, 315], [252, 277], [272, 297], [181, 206], [191, 216], [262, 287], [294, 319], [309, 331, 334]],[[275, 300], [274, 324], [293, 318], [83, 309], [163, 188, 232, 257, 282, 307], [169, 191, 216], [171, 221, 267], [177, 278], [240, 243, 315], [302, 327, 328], [156, 181, 206, 231, 256, 281, 306, 311], [143, 165, 168, 190, 193, 194, 217], [176, 253, 303], [250, 325], [254, 304, 329], [291, 340, 365], [265, 349], [268, 273, 323], [97, 122, 147, 172, 197], [241, 244, 266, 269, 294, 316, 319], [255, 280], [261, 262, 286, 287, 332]],[[156, 181, 206, 231, 256, 261, 262, 281, 286, 287, 306, 311, 332], [275, 300], [97, 196, 341, 366, 369], [89, 118, 143, 165, 168, 169, 190, 191, 193, 194, 195, 216, 217, 220, 394], [58, 106, 131, 333, 357, 358, 359], [83, 309], [90, 115, 119, 122, 147, 172, 197, 268, 273, 298, 323, 395], [52, 102, 103, 109, 110, 111, 127, 128, 135, 157, 163, 188, 232, 257, 282, 307, 354, 360, 361, 377, 379, 385, 386, 387, 388, 401, 404, 412, 413, 426, 427, 429, 451, 452, 453, 454, 477, 478], [57, 152, 153, 161, 176, 228, 253, 254, 279, 302, 303, 304, 327, 328, 329, 351, 352, 376], [68, 291, 340], [72, 148, 223, 240, 248, 290, 293, 318, 343, 347, 348], [77, 177, 178, 182, 207, 213, 259, 284], [78, 203], [88, 113, 114, 138, 139, 159, 163, 188, 232, 257, 282, 307, 312], [96, 121, 146, 155, 171, 221, 242, 245, 267, 270, 272, 295, 297, 320, 356, 368], [106, 131, 333, 357, 391, 416], [135, 164, 170, 184, 185, 189, 192, 209, 210, 233, 234, 235, 246, 258, 271, 283, 296, 308, 321, 337], [157, 160, 171, 221, 242, 245, 267, 270, 272, 295, 297, 320], [186, 211, 222, 247, 263, 288, 292, 313, 317, 342, 345, 367, 370], [199, 224, 249, 274, 324, 349], [201, 226, 229, 251, 252, 276, 277, 301, 326, 353], [59, 122, 147, 172, 197, 268, 273, 298, 323, 330, 338, 339, 346, 363, 364, 373, 389], [61, 222, 247, 263, 288, 292, 313, 317, 342, 345, 367, 370], [76, 101, 126, 151, 176, 228, 253, 254, 279, 302, 303, 304, 327, 328, 329, 351, 352, 376], [84, 249, 264, 289, 290, 293, 318, 343, 347, 348], [87, 105, 112, 117, 130, 134, 137, 162, 187, 212, 260, 291, 340, 390, 393, 415], [92, 142, 158, 164, 170, 184, 185, 189, 192, 209, 210, 233, 234, 235, 246, 258, 271, 283, 296, 336], [98, 182, 207, 213, 259, 284], [180, 205, 230, 305], [56, 136, 137, 162, 187, 212, 260, 278], [84, 85], [239, 265, 274, 324, 349, 371, 372, 374, 397], [250, 325, 350], [93, 140, 144, 166, 218, 243], [237, 255, 280, 285, 310, 331]]]\n"
   ]
  },
  {
   "cell_type": "code",
   "execution_count": 2,
   "metadata": {},
   "outputs": [
    {
     "name": "stdout",
     "output_type": "stream",
     "text": [
      "64\n"
     ]
    },
    {
     "data": {
      "text/plain": [
       "41664.0"
      ]
     },
     "execution_count": 2,
     "metadata": {},
     "output_type": "execute_result"
    }
   ],
   "source": [
    "print(len(seq0[0]))\n",
    "comb(64,3)"
   ]
  },
  {
   "cell_type": "code",
   "execution_count": 11,
   "metadata": {},
   "outputs": [
    {
     "data": {
      "text/plain": [
       "694.4444444444445"
      ]
     },
     "execution_count": 11,
     "metadata": {},
     "output_type": "execute_result"
    }
   ],
   "source": [
    "2500000/60/60"
   ]
  },
  {
   "cell_type": "code",
   "execution_count": 3,
   "metadata": {},
   "outputs": [
    {
     "name": "stdout",
     "output_type": "stream",
     "text": [
      "39270\n"
     ]
    }
   ],
   "source": [
    "a = list(permutations([i for i in range(len(seq0[3]))], 3))\n",
    "print(len(a))"
   ]
  },
  {
   "cell_type": "code",
   "execution_count": null,
   "metadata": {},
   "outputs": [],
   "source": [
    "#Add 3 columns of zero to avoid exceeding data bound\n",
    "\n",
    "ism_data = data.reshape(-1,Td+ntr-1).cpu().numpy()\n",
    "non_num_data = ism_data\n",
    "for i in range(ism_data.shape[0]):\n",
    "    non_num_data[i,:] = np.where(ism_data[i,:]>0,i+1 if i <20 else i-19,0)\n",
    "original_data = data.reshape(nw*nd,ntr+Td-1).cpu().numpy()\n",
    "tem_zero = np.zeros((non_num_data.shape[0],3))\n",
    "non_num_data = np.concatenate((non_num_data,tem_zero),axis = 1)\n",
    "def return_col_raw(num):\n",
    "    cor = []\n",
    "    col_index = num%ntr\n",
    "    if col_index == 0:\n",
    "        col_index = ntr - 1\n",
    "        raw_index = int(num/ntr) - 1\n",
    "    else:\n",
    "        col_index = col_index - 1\n",
    "        raw_index = int(num/ntr)\n",
    "    cor.append(raw_index)\n",
    "    cor.append(col_index)\n",
    "    return cor\n",
    "def initialize_motif():\n",
    "    init_motif = np.ones((nz,1,nw,ntr))    \n",
    "    step = 100\n",
    "    for i in range(nd):\n",
    "        cur_raw = i*nw\n",
    "        cur_col = 0\n",
    "        while cur_col <= (non_num_data.shape[1] - ntr + 1):\n",
    "            tem_data = original_data[cur_raw:cur_raw+nw,cur_col:cur_col+ntr]\n",
    "            for i in range(len(seq)):\n",
    "                tem_seq = seq[i]\n",
    "                cur_motif = init_motif[i,0,:,:]\n",
    "                for sub_seq in tem_seq:\n",
    "                    tem_cor = return_col_raw(sub_seq)\n",
    "                    cur_motif[tem_cor[0],tem_cor[1]] += tem_data[tem_cor[0],tem_cor[1]]\n",
    "                init_motif[i,0,:,:] = cur_motif\n",
    "            cur_col += step\n",
    "    return init_motif\n",
    "init_motif = np.ones((nz,1,nw,ntr))\n",
    "init_motif = initialize_motif()\n",
    "init_motif = torch.from_numpy(init_motif).cuda()\n",
    "init_motif = init_motif.type_as(torch.ones(nd,nz,1,Td).cuda())"
   ]
  },
  {
   "cell_type": "code",
   "execution_count": null,
   "metadata": {},
   "outputs": [],
   "source": []
  },
  {
   "cell_type": "code",
   "execution_count": null,
   "metadata": {},
   "outputs": [],
   "source": []
  },
  {
   "cell_type": "code",
   "execution_count": null,
   "metadata": {},
   "outputs": [],
   "source": []
  },
  {
   "cell_type": "code",
   "execution_count": null,
   "metadata": {},
   "outputs": [],
   "source": []
  },
  {
   "cell_type": "code",
   "execution_count": null,
   "metadata": {},
   "outputs": [],
   "source": []
  },
  {
   "cell_type": "code",
   "execution_count": null,
   "metadata": {},
   "outputs": [],
   "source": []
  },
  {
   "cell_type": "code",
   "execution_count": null,
   "metadata": {},
   "outputs": [],
   "source": []
  },
  {
   "cell_type": "code",
   "execution_count": null,
   "metadata": {},
   "outputs": [],
   "source": []
  },
  {
   "cell_type": "code",
   "execution_count": null,
   "metadata": {},
   "outputs": [],
   "source": []
  }
 ],
 "metadata": {
  "kernelspec": {
   "display_name": "Python 3",
   "language": "python",
   "name": "python3"
  },
  "language_info": {
   "codemirror_mode": {
    "name": "ipython",
    "version": 3
   },
   "file_extension": ".py",
   "mimetype": "text/x-python",
   "name": "python",
   "nbconvert_exporter": "python",
   "pygments_lexer": "ipython3",
   "version": "3.7.1"
  }
 },
 "nbformat": 4,
 "nbformat_minor": 2
}
