{
 "cells": [
  {
   "cell_type": "code",
   "execution_count": 30,
   "metadata": {},
   "outputs": [
    {
     "name": "stdout",
     "output_type": "stream",
     "text": [
      "torch.Size([2, 1, 25, 179])\n"
     ]
    },
    {
     "data": {
      "application/vnd.jupyter.widget-view+json": {
       "model_id": "d82719d21f7c4d89a4586b200800eef1",
       "version_major": 2,
       "version_minor": 0
      },
      "text/plain": [
       "FloatProgress(value=0.0, max=19.0)"
      ]
     },
     "metadata": {},
     "output_type": "display_data"
    },
    {
     "name": "stdout",
     "output_type": "stream",
     "text": [
      "448723.2250289917\n",
      "437250.59830474854\n",
      "419379.6398200989\n",
      "399080.6605796814\n",
      "389821.60997772217\n",
      "384135.4709663391\n",
      "377804.86403656006\n",
      "372702.2752132416\n",
      "366118.4210739136\n",
      "363073.36064338684\n",
      "359320.43171691895\n",
      "354065.1032962799\n",
      "352549.65853881836\n",
      "347603.6720638275\n",
      "346968.6004257202\n",
      "342532.10414886475\n",
      "338626.65839767456\n",
      "337103.21779060364\n",
      "332412.2739677429\n",
      "329491.0784072876\n"
     ]
    },
    {
     "data": {
      "image/png": "[encoded data removed]",
      "text/plain": [
       "<Figure size 864x504 with 1 Axes>"
      ]
     },
     "metadata": {},
     "output_type": "display_data"
    },
    {
     "name": "stdout",
     "output_type": "stream",
     "text": [
      "Wall time: 583 ms\n"
     ]
    }
   ],
   "source": [
    "%%time\n",
    "from __future__ import print_function\n",
    "import math\n",
    "import matplotlib.cm as cm\n",
    "from matplotlib import pyplot as plt\n",
    "\n",
    "# ADD: for the nice progress bar\n",
    "from ipywidgets import FloatProgress\n",
    "from IPython.display import display\n",
    "\n",
    "import numpy as np\n",
    "from PIL import Image\n",
    "from PIL import ImageDraw\n",
    "from PIL import ImageFont\n",
    "from random import randint\n",
    "\n",
    "import numpy as np\n",
    "import torch\n",
    "import torch.nn.functional as F\n",
    "from torch.autograd import Variable\n",
    "import pyro\n",
    "from pyro.optim import Adam\n",
    "from pyro.infer import SVI\n",
    "import pyro.distributions as pdist\n",
    "import torch.distributions as tdist\n",
    "import torch.distributions.constraints as constraints\n",
    "import pyro.infer\n",
    "from pyro.infer import SVI, Trace_ELBO,  TraceGraph_ELBO\n",
    "import pyro.optim\n",
    "\n",
    "%matplotlib inline\n",
    "\n",
    "# torch.manual_seed(101)\n",
    "\n",
    "flag_ISM = 0\n",
    "overlap_flag = 0\n",
    "noisy_flag = 1\n",
    "nw = 25  # number of words 25\n",
    "ntr = 30  # number of relative times in a motif 70\n",
    "nd = 2  # number of documents \n",
    "Td= 150 # number of time period\n",
    "nz = 2\n",
    "\n",
    "\n",
    "#-----------------------------------------------------------------\n",
    "plt.rc('figure', figsize=(12.0, 7.0))\n",
    "def get_size(txt, font):\n",
    "    test_img = Image.new('L', (1, 1))\n",
    "    test_draw = ImageDraw.Draw(test_img)\n",
    "    return test_draw.textsize(txt, font)\n",
    "\n",
    "def string_to_matrix(s, fontname, fontsize, nw, ntr):\n",
    "    # Define the Text Color and the Background\n",
    "    color_text = \"White\"\n",
    "    color_background = \"Black\"\n",
    "    # Define the image font and resize the nword in a rectangle that suit it\n",
    "    text = s\n",
    "    font = ImageFont.truetype(fontname, fontsize)\n",
    "    width, height = get_size(text, font)\n",
    "    img = Image.new('L', (ntr, nw), color_background)\n",
    "    d = ImageDraw.Draw(img)\n",
    "    d.text((3, height / 10), text, fill=color_text, font=font)\n",
    "    #d.rectangle((0, 0, width, height))\n",
    "    path = 'Image_' + text + '.png'\n",
    "    img.save(path)\n",
    "    im = Image.open(path).convert('L')\n",
    "    motif = np.asarray(im, np.float32)  # Motif Matrix\n",
    "    return motif\n",
    "\n",
    "# motifs_as_string = [\"eggplop\", \"eggnog\", \"eggplant\", \"banana\", \"apple\"]\n",
    "motifs_as_string = [\"WYX\", \"Crab\",\"HJQ\"]\n",
    "\n",
    "nz0 = len(motifs_as_string)\n",
    "\n",
    "fontname = 'JennaSue.ttf'\n",
    "fontsize = 25\n",
    "\n",
    "motifs_as_matrix = [string_to_matrix(st, fontname, fontsize, nw, ntr) for st in motifs_as_string]\n",
    "\n",
    "# CHANGE: simplified using\n",
    "motifs = torch.stack([ torch.tensor(m[np.newaxis, :, :]) for m in motifs_as_matrix ], 0).cuda()\n",
    "\n",
    "# ADD: number of documents\n",
    "\n",
    "z = torch.zeros(nd,nz0,1,Td).cuda()\n",
    "\n",
    "# the following tries to generate the clean data(patterns are clear, no overlao)\n",
    "#clear version\n",
    "if overlap_flag == 0:\n",
    "    z[0,0,0,1]=1\n",
    "    z[0,1,0,99]=1\n",
    "    z[0,2,0,30]=1\n",
    "    z[0,2,0,70]=1\n",
    "    z[0,0,0,149]=1\n",
    "\n",
    "    z[1,2,0,90]=1\n",
    "    z[1,2,0,10]=1\n",
    "    z[1,1,0,40]=1\n",
    "    z[1,0,0,120]=1\n",
    "    z[1,1,0,140]=1\n",
    "elif overlap_flag == 1:\n",
    "    #overlap version\n",
    "    z[0,0,0,20]=1\n",
    "    z[0,2,0,99]=1\n",
    "    z[0,1,0,30]=1\n",
    "    z[0,2,0,70]=1\n",
    "    z[0,1,0,110]=1\n",
    "    z[0,0,0,149]=1\n",
    "\n",
    "    z[1,2,0,90]=1\n",
    "    z[1,2,0,10]=1\n",
    "    z[1,1,0,20]=1\n",
    "    z[1,0,0,120]=1\n",
    "    z[1,1,0,130]=1\n",
    "elif overlap_flag == 2:\n",
    "    #overlap version\n",
    "    z[0,0,0,20]=1\n",
    "    z[0,2,0,99]=1\n",
    "    z[0,1,0,25]=1\n",
    "    z[0,2,0,70]=1\n",
    "    z[0,1,0,60]=1\n",
    "    z[0,1,0,110]=1\n",
    "    z[0,2,0,130]=1\n",
    "    z[0,0,0,149]=1\n",
    "\n",
    "    z[1,2,0,90]=1\n",
    "    z[1,1,0,85]=1\n",
    "    z[1,2,0,10]=1\n",
    "    z[1,1,0,20]=1\n",
    "    z[1,0,0,50]=1\n",
    "    z[1,1,0,60]=1\n",
    "    z[1,0,0,120]=1\n",
    "    z[1,1,0,130]=1\n",
    "elif overlap_flag == 3:\n",
    "    #overlap version\n",
    "    z[0,0,0,10]=1\n",
    "    z[0,1,0,20]=1\n",
    "    z[0,2,0,45]=1\n",
    "    z[0,1,0,69]=1\n",
    "    z[0,0,0,80]=1\n",
    "    z[0,2,0,110]=1\n",
    "#     z[0,1,0,140]=1\n",
    "    \n",
    "    z[1,2,0,10]=1\n",
    "    z[1,1,0,20]=1\n",
    "    z[1,0,0,50]=1\n",
    "    z[1,1,0,60]=1\n",
    "    z[1,2,0,90]=1\n",
    "#     z[1,0,0,130]=1\n",
    "#     z[1,1,0,110]=1\n",
    "\n",
    "# CHANGE: rename to avoid conflict with a defined variable later\n",
    "p_w_ta_d0 = F.conv_transpose2d(z,motifs).cuda()\n",
    "# CHANGE: use (-1) as a shape to let it infer the size\n",
    "print(p_w_ta_d0.shape)\n",
    "p_w_ta_d0 = p_w_ta_d0.view(-1)\n",
    "\n",
    "# CHANGE: don't sample but rather \"get the average\"\n",
    "data = 1 * p_w_ta_d0\n",
    "N = data.sum()\n",
    "\n",
    "# generate document with Gaussian noisy points\n",
    "def noisy_doc(data):\n",
    "    s1,s2 = int(len(data)/ (Td+ntr-1)), int(Td+ntr-1)\n",
    "    means=torch.zeros(s1,s2)\n",
    "    std = torch.ones(s1,s2)\n",
    "    sigma = 0\n",
    "    std = std*sigma\n",
    "    noise = torch.normal(means, std).cuda()\n",
    "    nnoise = noise.cpu().numpy()\n",
    "    noisy_data = torch.from_numpy(data.cpu().numpy() + nnoise.reshape(1,-1)).cuda()\n",
    "    return noisy_data\n",
    "\n",
    "if noisy_flag:\n",
    "    data = noisy_doc(data)\n",
    "    data = data.abs()\n",
    "    tem_data = np.abs(data.reshape(-1, Td+ntr-1).cpu()).numpy().astype(np.int32)\n",
    "    plt.xticks([])\n",
    "    plt.yticks([])\n",
    "    plt.imshow(-tem_data.reshape(-1, Td+ntr-1),cmap = \"gray\")\n",
    "    plt.savefig(\"abc.png\")\n",
    "else:\n",
    "    plt.xticks([])\n",
    "    plt.yticks([])\n",
    "    plt.imshow(-data.reshape(-1, Td+ntr-1).cpu(),cmap = \"gray\")\n",
    "    plt.savefig(\"abc.png\")\n",
    "\n",
    "def p_w_ta_d(z,motifs):\n",
    "    t = F.conv_transpose2d(z,motifs)\n",
    "    return t.view(-1)\n",
    "# ADD: introduce some variables\n",
    "prior0 = 0.1*N/nd / nz / Td\n",
    "prior1 = 0.1*N/nz / nw / ntr\n",
    "#randinit = 0\n",
    "\n",
    "def model(data):\n",
    "    s0 = (nd, nz, 1, Td)\n",
    "    s1 = (nz, 1, nw, ntr)\n",
    "    alpha0 = torch.ones(*s0).cuda()\n",
    "    alpha1 = torch.ones(*s1).cuda()\n",
    "    z = pyro.sample(\"latent0\", pdist.Dirichlet(concentration=alpha0.view(nd, -1)))\n",
    "    motifs = pyro.sample(\"latent1\", pdist.Dirichlet(concentration=alpha1.view(nz, -1)))\n",
    "\n",
    "    z = z.reshape(*s0)\n",
    "    motifs = motifs.reshape(*s1)\n",
    "    p = p_w_ta_d(z, motifs)\n",
    "    with pyro.iarange(\"data\", len(data)):\n",
    "        zts = pyro.sample(\"zts\", pdist.Categorical(probs=z))\n",
    "        pyro.sample(\"observe\", pdist.Multinomial(probs=p), obs=data)\n",
    "\n",
    "# Give the initialization\n",
    "\n",
    "step_motif_count = 0\n",
    "tem_motif = []\n",
    "\n",
    "def guide(data):\n",
    "    qalpha0 = pyro.param(\"qalpha0\", torch.ones(nd,nz,1,Td).cuda(), constraint=constraints.positive) # z_ts table\n",
    "    global step_motif_count\n",
    "    if flag_ISM:\n",
    "        qalpha1 = pyro.param(\"qalpha1\", init_motif, constraint=constraints.positive) # motif\n",
    "        if step_motif_count%5 == 0:\n",
    "            tem_motif.append(qalpha1)\n",
    "    else:\n",
    "        qalpha1 = pyro.param(\"qalpha1\",  torch.ones(nz,1,nw,ntr).cuda(), constraint=constraints.positive) # motif\n",
    "        if step_motif_count%5 == 0:\n",
    "            tem_motif.append(qalpha1)\n",
    "            \n",
    "#     CHANGE: use the fact that dirichlet can draw independant dirichlets\n",
    "    pyro.sample(\"latent0\",pdist.Dirichlet(concentration=qalpha0.view(nd, -1)))\n",
    "    pyro.sample(\"latent1\",pdist.Dirichlet(concentration=qalpha1.view(nz, -1)))\n",
    "def show_motifs():\n",
    "    infer_motifs = np.load(\"qalpha1.npy\")\n",
    "    for i in range(nz):\n",
    "        plt.figure(i)\n",
    "        locals()['infer_motif' +str(i)] = infer_motifs[i,0,:,:]\n",
    "        plt.imshow(-locals()['infer_motif' +str(i)],cmap = \"gray\") \n",
    "        plt.xticks([])\n",
    "        plt.yticks([])\n",
    "        plt.savefig(\"%d.jpg\"%(i+1))\n",
    "        plt.show()\n",
    "def show_real_motifs():\n",
    "    for i in range(nz):\n",
    "        plt.figure(i)\n",
    "        locals()['real_motif' +str(i)] =  motifs[0,0,:,:].cpu().numpy()\n",
    "        plt.imshow(-locals()['real_motif' +str(i)],cmap = \"gray\")\n",
    "        plt.xticks([])\n",
    "        plt.yticks([])\n",
    "        plt.show()\n",
    "# CHANGE: change adam params\n",
    "pyro.clear_param_store()\n",
    "adam_params = {\"lr\": 0.1}\n",
    "optimizer = pyro.optim.Adam(adam_params)\n",
    "svi = SVI(model, guide, optimizer, loss=Trace_ELBO())\n",
    "\n",
    "n_steps = 20\n",
    "pro = FloatProgress(min=0, max=n_steps-1)\n",
    "display(pro)\n",
    "# data_cuda = data.cuda()\n",
    "\n",
    "for step in range(n_steps):\n",
    "    loss = svi.step(data)\n",
    "    print(loss)\n",
    "    pro.value += 1\n",
    "    pro.description = str(step)\n",
    "    \n",
    "# CHANGE: change only at the end\n",
    "np.save(file=\"qalpha0\",arr=pyro.param(\"qalpha0\").detach().cpu().numpy())\n",
    "np.save(file=\"qalpha1\",arr=pyro.param(\"qalpha1\").detach().cpu().numpy())\n",
    "\n",
    "# ADD: quick plot before exhaustive plot\n",
    "loaded = np.load(\"qalpha1.npy\")\n",
    "plt.imshow( -loaded.reshape(-1, ntr), cmap=\"gray\")\n",
    "plt.show()\n",
    "# show_motifs()"
   ]
  },
  {
   "cell_type": "code",
   "execution_count": 2,
   "metadata": {},
   "outputs": [],
   "source": [
    "445291.48122406006\n",
    "425226.45282554626\n",
    "397108.21576690674\n",
    "380576.67636585236\n",
    "371468.4277687073\n",
    "361496.34244155884\n",
    "361045.30221939087\n",
    "351890.16150283813\n",
    "349601.4594039917\n",
    "347817.4319381714"
   ]
  },
  {
   "cell_type": "code",
   "execution_count": 3,
   "metadata": {},
   "outputs": [
    {
     "data": {
      "application/vnd.jupyter.widget-view+json": {
       "model_id": "78df414da4b94b309e397d13f4bb8bb0",
       "version_major": 2,
       "version_minor": 0
      },
      "text/plain": [
       "FloatProgress(value=0.0, max=499.0)"
      ]
     },
     "metadata": {},
     "output_type": "display_data"
    },
    {
     "data": {
      "image/png": "[encoded data removed]",
      "text/plain": [
       "<Figure size 432x288 with 1 Axes>"
      ]
     },
     "metadata": {
      "needs_background": "light"
     },
     "output_type": "display_data"
    },
    {
     "name": "stdout",
     "output_type": "stream",
     "text": [
      "Wall time: 26 s\n"
     ]
    }
   ],
   "source": []
  },
  {
   "cell_type": "code",
   "execution_count": 4,
   "metadata": {},
   "outputs": [
    {
     "data": {
      "image/png": "[encoded data removed]",
      "text/plain": [
       "<Figure size 432x288 with 1 Axes>"
      ]
     },
     "metadata": {},
     "output_type": "display_data"
    },
    {
     "data": {
      "image/png": "[encoded data removed]",
      "text/plain": [
       "<Figure size 432x288 with 1 Axes>"
      ]
     },
     "metadata": {},
     "output_type": "display_data"
    }
   ],
   "source": [
    "show_motifs()"
   ]
  },
  {
   "cell_type": "code",
   "execution_count": null,
   "metadata": {},
   "outputs": [],
   "source": []
  },
  {
   "cell_type": "code",
   "execution_count": null,
   "metadata": {},
   "outputs": [],
   "source": []
  },
  {
   "cell_type": "code",
   "execution_count": null,
   "metadata": {},
   "outputs": [],
   "source": []
  },
  {
   "cell_type": "code",
   "execution_count": null,
   "metadata": {},
   "outputs": [],
   "source": []
  },
  {
   "cell_type": "code",
   "execution_count": null,
   "metadata": {},
   "outputs": [],
   "source": []
  },
  {
   "cell_type": "code",
   "execution_count": null,
   "metadata": {},
   "outputs": [],
   "source": []
  },
  {
   "cell_type": "code",
   "execution_count": null,
   "metadata": {},
   "outputs": [],
   "source": []
  }
 ],
 "metadata": {
  "kernelspec": {
   "display_name": "Python 3",
   "language": "python",
   "name": "python3"
  },
  "language_info": {
   "codemirror_mode": {
    "name": "ipython",
    "version": 3
   },
   "file_extension": ".py",
   "mimetype": "text/x-python",
   "name": "python",
   "nbconvert_exporter": "python",
   "pygments_lexer": "ipython3",
   "version": "3.7.1"
  }
 },
 "nbformat": 4,
 "nbformat_minor": 2
}
